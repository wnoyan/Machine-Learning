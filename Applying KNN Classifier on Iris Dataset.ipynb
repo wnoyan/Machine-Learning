{
  "nbformat": 4,
  "nbformat_minor": 0,
  "metadata": {
    "colab": {
      "name": "Applying KNN Classifier on Iris Dataset.ipynb",
      "provenance": [],
      "collapsed_sections": [],
      "include_colab_link": true
    },
    "kernelspec": {
      "name": "python3",
      "display_name": "Python 3"
    },
    "language_info": {
      "name": "python"
    }
  },
  "cells": [
    {
      "cell_type": "markdown",
      "metadata": {
        "id": "view-in-github",
        "colab_type": "text"
      },
      "source": [
        "<a href=\"https://colab.research.google.com/github/wnoyan/Machine-Learning/blob/master/Applying%20KNN%20Classifier%20on%20Iris%20Dataset.ipynb\" target=\"_parent\"><img src=\"https://colab.research.google.com/assets/colab-badge.svg\" alt=\"Open In Colab\"/></a>"
      ]
    },
    {
      "cell_type": "markdown",
      "metadata": {
        "id": "Da_beYHx141W"
      },
      "source": [
        "## Loading Required Libraries"
      ]
    },
    {
      "cell_type": "code",
      "metadata": {
        "id": "BZH5RyFdQ986"
      },
      "source": [
        "# Loading Required Libraries\n",
        "import numpy as np \n",
        "import pandas as pd \n",
        "import sklearn\n",
        "from sklearn.model_selection import train_test_split\n",
        "from sklearn.metrics import confusion_matrix \n",
        "from sklearn.metrics import accuracy_score \n",
        "from sklearn.datasets import load_iris\n",
        "from matplotlib import pyplot as plt\n",
        "from sklearn import datasets\n",
        "from sklearn import tree"
      ],
      "execution_count": null,
      "outputs": []
    },
    {
      "cell_type": "markdown",
      "metadata": {
        "id": "caq-HAn0196D"
      },
      "source": [
        "## Exploring Iris Dataset"
      ]
    },
    {
      "cell_type": "code",
      "metadata": {
        "colab": {
          "base_uri": "https://localhost:8080/"
        },
        "id": "spTNd66URY4y",
        "outputId": "72c0dfbd-9bea-4a5d-e590-64cd397b77c4"
      },
      "source": [
        "# Loading Datasets \n",
        "iris_data = load_iris() \n",
        "iris = pd.DataFrame(iris_data.data)\n",
        "iris_targets = pd.DataFrame(iris_data.target)\n",
        "\n",
        "# Priting Features Name of Iris Data \n",
        "print (\"Features Name : \", iris_data.feature_names) \n",
        "\n",
        "# Priting Targets Name of Iris Data \n",
        "print (\"Targets Name : \", iris_data.target_names) \n",
        "\n",
        "# Shape of Datasets \n",
        "print (\"Dataset Shape: \", iris.shape) \n",
        "\n",
        "# First Five Sample features\n",
        "print (\"Dataset: \",iris.head())  \n",
        "\n",
        "# First Five Sample Targets\n",
        "print (\"Dataset: \",iris_targets.head()) "
      ],
      "execution_count": null,
      "outputs": [
        {
          "output_type": "stream",
          "name": "stdout",
          "text": [
            "Features Name :  ['sepal length (cm)', 'sepal width (cm)', 'petal length (cm)', 'petal width (cm)']\n",
            "Targets Name :  ['setosa' 'versicolor' 'virginica']\n",
            "Dataset Shape:  (150, 4)\n",
            "Dataset:       0    1    2    3\n",
            "0  5.1  3.5  1.4  0.2\n",
            "1  4.9  3.0  1.4  0.2\n",
            "2  4.7  3.2  1.3  0.2\n",
            "3  4.6  3.1  1.5  0.2\n",
            "4  5.0  3.6  1.4  0.2\n",
            "Dataset:     0\n",
            "0  0\n",
            "1  0\n",
            "2  0\n",
            "3  0\n",
            "4  0\n"
          ]
        }
      ]
    },
    {
      "cell_type": "markdown",
      "metadata": {
        "id": "9fUWJhjz2GLh"
      },
      "source": [
        "## Splitting Dataset into training and testing sets"
      ]
    },
    {
      "cell_type": "code",
      "metadata": {
        "id": "S6iatQFHZ0Vh"
      },
      "source": [
        "# Features and Targets\n",
        "X = iris_data.data\n",
        "Y = iris_data.target\n",
        "\n",
        "# Splitting the Dataset into Training and Testing sets \n",
        "X_train, X_test, y_train, y_test = train_test_split(X, Y, test_size = 0.2, random_state = 42)"
      ],
      "execution_count": null,
      "outputs": []
    },
    {
      "cell_type": "markdown",
      "metadata": {
        "id": "6EvZqK_B2ufu"
      },
      "source": [
        "## Normalizing the dataset"
      ]
    },
    {
      "cell_type": "code",
      "metadata": {
        "id": "xbcmymyWUJoh",
        "colab": {
          "base_uri": "https://localhost:8080/"
        },
        "outputId": "6c3470b7-e6d0-4fe0-c44a-29af761d6b00"
      },
      "source": [
        "from sklearn.preprocessing import StandardScaler\n",
        "scaler = StandardScaler()\n",
        "scaler.fit(X_train)\n",
        "\n",
        "X_train = scaler.transform(X_train)\n",
        "X_test = scaler.transform(X_test)\n",
        "\n",
        "X_train[0:4,:]"
      ],
      "execution_count": null,
      "outputs": [
        {
          "output_type": "execute_result",
          "data": {
            "text/plain": [
              "array([[-1.47393679,  1.20365799, -1.56253475, -1.31260282],\n",
              "       [-0.13307079,  2.99237573, -1.27600637, -1.04563275],\n",
              "       [ 1.08589829,  0.08570939,  0.38585821,  0.28921757],\n",
              "       [-1.23014297,  0.75647855, -1.2187007 , -1.31260282]])"
            ]
          },
          "metadata": {},
          "execution_count": 14
        }
      ]
    },
    {
      "cell_type": "markdown",
      "metadata": {
        "id": "ewP9BtZd2-Yi"
      },
      "source": [
        "## KNN Classifier"
      ]
    },
    {
      "cell_type": "code",
      "metadata": {
        "colab": {
          "base_uri": "https://localhost:8080/"
        },
        "id": "hiLypFvCWVuj",
        "outputId": "0371042c-0886-4276-ffe1-ff6bac966baf"
      },
      "source": [
        "from sklearn.neighbors import KNeighborsClassifier\n",
        "KNN = KNeighborsClassifier(n_neighbors = 5)\n",
        "KNN.fit(X_train, y_train)"
      ],
      "execution_count": null,
      "outputs": [
        {
          "output_type": "execute_result",
          "data": {
            "text/plain": [
              "KNeighborsClassifier()"
            ]
          },
          "metadata": {},
          "execution_count": 15
        }
      ]
    },
    {
      "cell_type": "markdown",
      "metadata": {
        "id": "6vTYo0pW3ILa"
      },
      "source": [
        "## Predicting"
      ]
    },
    {
      "cell_type": "code",
      "metadata": {
        "id": "B6Lj4W8kYr3t"
      },
      "source": [
        "Y_pred = KNN.predict(X_test)"
      ],
      "execution_count": null,
      "outputs": []
    },
    {
      "cell_type": "markdown",
      "metadata": {
        "id": "ruoSHJ-o3Qmp"
      },
      "source": [
        "## Accuracy & Confusion Matrix"
      ]
    },
    {
      "cell_type": "code",
      "metadata": {
        "colab": {
          "base_uri": "https://localhost:8080/"
        },
        "id": "WTITPr4leo1i",
        "outputId": "bfeb0eb1-16e5-43aa-dfa9-73258d1f4e71"
      },
      "source": [
        "from sklearn.metrics import confusion_matrix\n",
        "\n",
        "#Accuray of the Model \n",
        "print(\"Accuracy:\", accuracy_score(y_test, Y_pred)*100, \"%\")\n",
        "print(confusion_matrix(y_test, Y_pred))"
      ],
      "execution_count": null,
      "outputs": [
        {
          "output_type": "stream",
          "name": "stdout",
          "text": [
            "Accuracy: 100.0 %\n",
            "[[10  0  0]\n",
            " [ 0  9  0]\n",
            " [ 0  0 11]]\n"
          ]
        }
      ]
    },
    {
      "cell_type": "markdown",
      "metadata": {
        "id": "-yVcV-pm3fol"
      },
      "source": [
        "## Calculating Error for K Values"
      ]
    },
    {
      "cell_type": "code",
      "metadata": {
        "colab": {
          "base_uri": "https://localhost:8080/"
        },
        "id": "Zt-pZD4mfMbQ",
        "outputId": "dd4d85c6-0738-437a-8b76-46acb080d017"
      },
      "source": [
        "error = []\n",
        "\n",
        "# Calculating error for K values between 1 and 40\n",
        "for i in range(1, 40):\n",
        "    knn = KNeighborsClassifier(n_neighbors=i)\n",
        "    knn.fit(X_train, y_train)\n",
        "    pred_i = knn.predict(X_test)\n",
        "    error.append(np.mean(pred_i != y_test))\n",
        "    print(np.mean(pred_i != y_test))"
      ],
      "execution_count": null,
      "outputs": [
        {
          "output_type": "stream",
          "name": "stdout",
          "text": [
            "0.0\n",
            "0.0\n",
            "0.0\n",
            "0.0\n",
            "0.0\n",
            "0.0\n",
            "0.0\n",
            "0.0\n",
            "0.0\n",
            "0.0\n",
            "0.0\n",
            "0.0\n",
            "0.0\n",
            "0.0\n",
            "0.0\n",
            "0.0\n",
            "0.0\n",
            "0.0\n",
            "0.0\n",
            "0.0\n",
            "0.0\n",
            "0.0\n",
            "0.0\n",
            "0.0\n",
            "0.0\n",
            "0.03333333333333333\n",
            "0.0\n",
            "0.03333333333333333\n",
            "0.03333333333333333\n",
            "0.03333333333333333\n",
            "0.03333333333333333\n",
            "0.03333333333333333\n",
            "0.03333333333333333\n",
            "0.03333333333333333\n",
            "0.03333333333333333\n",
            "0.03333333333333333\n",
            "0.06666666666666667\n",
            "0.03333333333333333\n",
            "0.03333333333333333\n"
          ]
        }
      ]
    },
    {
      "cell_type": "markdown",
      "metadata": {
        "id": "V6uZz0JY3y_i"
      },
      "source": [
        "## Plotting Error for K Values"
      ]
    },
    {
      "cell_type": "code",
      "metadata": {
        "colab": {
          "base_uri": "https://localhost:8080/",
          "height": 375
        },
        "id": "zW9-u3_CfdHw",
        "outputId": "e724cb13-4472-41d0-f77d-d374e852b4b7"
      },
      "source": [
        "plt.figure(figsize=(12, 6))\n",
        "plt.plot(range(1, 40), error, color='red', linestyle='dashed', marker='o',\n",
        "         markerfacecolor='blue', markersize=10)\n",
        "plt.title('Error Rate K Value')\n",
        "plt.xlabel('K Value')\n",
        "plt.ylabel('Mean Error')"
      ],
      "execution_count": null,
      "outputs": [
        {
          "output_type": "execute_result",
          "data": {
            "text/plain": [
              "Text(0, 0.5, 'Mean Error')"
            ]
          },
          "metadata": {},
          "execution_count": 19
        },
        {
          "output_type": "display_data",
          "data": {
            "image/png": "[encoded data removed]",
            "text/plain": [
              "<Figure size 864x432 with 1 Axes>"
            ]
          },
          "metadata": {
            "needs_background": "light"
          }
        }
      ]
    }
  ]
}