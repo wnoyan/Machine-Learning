{
  "nbformat": 4,
  "nbformat_minor": 0,
  "metadata": {
    "colab": {
      "name": "Predicting Diabetes using Decision Tree Classifier.ipynb",
      "provenance": [],
      "collapsed_sections": [],
      "include_colab_link": true
    },
    "kernelspec": {
      "name": "python3",
      "display_name": "Python 3"
    },
    "language_info": {
      "name": "python"
    }
  },
  "cells": [
    {
      "cell_type": "markdown",
      "metadata": {
        "id": "view-in-github",
        "colab_type": "text"
      },
      "source": [
        "<a href=\"https://colab.research.google.com/github/wnoyan/Machine-Learning/blob/master/Predicting%20Diabetes%20using%20Decision%20Tree%20Classifier.ipynb\" target=\"_parent\"><img src=\"https://colab.research.google.com/assets/colab-badge.svg\" alt=\"Open In Colab\"/></a>"
      ]
    },
    {
      "cell_type": "markdown",
      "metadata": {
        "id": "crsr3UQhNv9-"
      },
      "source": [
        "## Loading Required Libraries"
      ]
    },
    {
      "cell_type": "code",
      "metadata": {
        "id": "irso4GQBBlmZ"
      },
      "source": [
        "# Loading Required Libraries\n",
        "import pandas as pd\n",
        "from sklearn.tree import DecisionTreeClassifier \n",
        "from sklearn.model_selection import train_test_split \n",
        "from sklearn.metrics import accuracy_score \n",
        "from sklearn import tree"
      ],
      "execution_count": null,
      "outputs": []
    },
    {
      "cell_type": "markdown",
      "metadata": {
        "id": "kaKLQ0X2OUCM"
      },
      "source": [
        "## Mounting Google Drive"
      ]
    },
    {
      "cell_type": "code",
      "metadata": {
        "colab": {
          "base_uri": "https://localhost:8080/"
        },
        "id": "gSCfUgrfB7Tt",
        "outputId": "702ee9b4-077f-47c8-c1f2-df7f7933a0e5"
      },
      "source": [
        "# Mounting Google Drive\n",
        "from google.colab import drive\n",
        "drive.mount('/content/drive')"
      ],
      "execution_count": null,
      "outputs": [
        {
          "output_type": "stream",
          "name": "stdout",
          "text": [
            "Drive already mounted at /content/drive; to attempt to forcibly remount, call drive.mount(\"/content/drive\", force_remount=True).\n"
          ]
        }
      ]
    },
    {
      "cell_type": "markdown",
      "metadata": {
        "id": "8KkZyev0OaiG"
      },
      "source": [
        "## Loading Diabetes Dataset from Google Drive"
      ]
    },
    {
      "cell_type": "code",
      "metadata": {
        "id": "CQW0imquCaC7",
        "colab": {
          "base_uri": "https://localhost:8080/",
          "height": 206
        },
        "outputId": "02693dad-a690-4884-ddf9-570df1c05500"
      },
      "source": [
        "# Loading Dataset\n",
        "pima = pd.read_csv(\"/content/drive/MyDrive/Colab Notebooks/CSE4112 - ML Lab/diabetes.csv\", encoding='utf8', engine='python')\n",
        "\n",
        "# Exploring Dataset\n",
        "pima.head()"
      ],
      "execution_count": null,
      "outputs": [
        {
          "output_type": "execute_result",
          "data": {
            "text/html": [
              "<div>\n",
              "<style scoped>\n",
              "    .dataframe tbody tr th:only-of-type {\n",
              "        vertical-align: middle;\n",
              "    }\n",
              "\n",
              "    .dataframe tbody tr th {\n",
              "        vertical-align: top;\n",
              "    }\n",
              "\n",
              "    .dataframe thead th {\n",
              "        text-align: right;\n",
              "    }\n",
              "</style>\n",
              "<table border=\"1\" class=\"dataframe\">\n",
              "  <thead>\n",
              "    <tr style=\"text-align: right;\">\n",
              "      <th></th>\n",
              "      <th>Pregnancies</th>\n",
              "      <th>Glucose</th>\n",
              "      <th>BloodPressure</th>\n",
              "      <th>SkinThickness</th>\n",
              "      <th>Insulin</th>\n",
              "      <th>BMI</th>\n",
              "      <th>DiabetesPedigreeFunction</th>\n",
              "      <th>Age</th>\n",
              "      <th>Outcome</th>\n",
              "    </tr>\n",
              "  </thead>\n",
              "  <tbody>\n",
              "    <tr>\n",
              "      <th>0</th>\n",
              "      <td>6</td>\n",
              "      <td>148</td>\n",
              "      <td>72</td>\n",
              "      <td>35</td>\n",
              "      <td>0</td>\n",
              "      <td>33.6</td>\n",
              "      <td>0.627</td>\n",
              "      <td>50</td>\n",
              "      <td>1</td>\n",
              "    </tr>\n",
              "    <tr>\n",
              "      <th>1</th>\n",
              "      <td>1</td>\n",
              "      <td>85</td>\n",
              "      <td>66</td>\n",
              "      <td>29</td>\n",
              "      <td>0</td>\n",
              "      <td>26.6</td>\n",
              "      <td>0.351</td>\n",
              "      <td>31</td>\n",
              "      <td>0</td>\n",
              "    </tr>\n",
              "    <tr>\n",
              "      <th>2</th>\n",
              "      <td>8</td>\n",
              "      <td>183</td>\n",
              "      <td>64</td>\n",
              "      <td>0</td>\n",
              "      <td>0</td>\n",
              "      <td>23.3</td>\n",
              "      <td>0.672</td>\n",
              "      <td>32</td>\n",
              "      <td>1</td>\n",
              "    </tr>\n",
              "    <tr>\n",
              "      <th>3</th>\n",
              "      <td>1</td>\n",
              "      <td>89</td>\n",
              "      <td>66</td>\n",
              "      <td>23</td>\n",
              "      <td>94</td>\n",
              "      <td>28.1</td>\n",
              "      <td>0.167</td>\n",
              "      <td>21</td>\n",
              "      <td>0</td>\n",
              "    </tr>\n",
              "    <tr>\n",
              "      <th>4</th>\n",
              "      <td>0</td>\n",
              "      <td>137</td>\n",
              "      <td>40</td>\n",
              "      <td>35</td>\n",
              "      <td>168</td>\n",
              "      <td>43.1</td>\n",
              "      <td>2.288</td>\n",
              "      <td>33</td>\n",
              "      <td>1</td>\n",
              "    </tr>\n",
              "  </tbody>\n",
              "</table>\n",
              "</div>"
            ],
            "text/plain": [
              "   Pregnancies  Glucose  BloodPressure  ...  DiabetesPedigreeFunction  Age  Outcome\n",
              "0            6      148             72  ...                     0.627   50        1\n",
              "1            1       85             66  ...                     0.351   31        0\n",
              "2            8      183             64  ...                     0.672   32        1\n",
              "3            1       89             66  ...                     0.167   21        0\n",
              "4            0      137             40  ...                     2.288   33        1\n",
              "\n",
              "[5 rows x 9 columns]"
            ]
          },
          "metadata": {},
          "execution_count": 41
        }
      ]
    },
    {
      "cell_type": "markdown",
      "metadata": {
        "id": "KPM5AI-hQHrE"
      },
      "source": [
        "## Feature Selection"
      ]
    },
    {
      "cell_type": "code",
      "metadata": {
        "id": "I5A3lAcGDx3K"
      },
      "source": [
        "# Feature Selection\n",
        "feature_cols = ['Pregnancies', 'Insulin', 'BMI', 'Age', 'Glucose', 'BloodPressure', 'DiabetesPedigreeFunction']\n",
        "\n",
        "X = pima[feature_cols]\n",
        "y = pima.Outcome"
      ],
      "execution_count": null,
      "outputs": []
    },
    {
      "cell_type": "markdown",
      "metadata": {
        "id": "UJSL5kmmQT5q"
      },
      "source": [
        "## Splitting Dataset into training and testing set"
      ]
    },
    {
      "cell_type": "code",
      "metadata": {
        "id": "9stR0JTKD6Br"
      },
      "source": [
        "# Splitting Dataset into Training and Testing Set\n",
        "X_train, X_test, y_train, y_test = train_test_split(X, y, test_size=0.2, random_state=42) # 80% training and 20% test"
      ],
      "execution_count": null,
      "outputs": []
    },
    {
      "cell_type": "markdown",
      "metadata": {
        "id": "p9P7hj8GQnr5"
      },
      "source": [
        "## Building Decision Tree Classifer"
      ]
    },
    {
      "cell_type": "code",
      "metadata": {
        "id": "BYTmg7BOEQlL"
      },
      "source": [
        "# Creating Decision Tree Classifer Object\n",
        "DT = DecisionTreeClassifier(criterion='entropy')\n",
        "\n",
        "# Train Decision Tree Classifer\n",
        "DT = DT.fit(X_train,y_train)\n",
        "\n",
        "#Predict the Response for Test Dataset\n",
        "y_pred = DT.predict(X_test)"
      ],
      "execution_count": null,
      "outputs": []
    },
    {
      "cell_type": "markdown",
      "metadata": {
        "id": "_k1ghbzlQ1on"
      },
      "source": [
        "## Displaying Accuracy of the Model"
      ]
    },
    {
      "cell_type": "code",
      "metadata": {
        "colab": {
          "base_uri": "https://localhost:8080/"
        },
        "id": "StdK45urECwa",
        "outputId": "a3fde77d-9f78-4b5d-ed59-d258c9ca1bb8"
      },
      "source": [
        "# Model Accuracy\n",
        "print(\"Accuracy: \", round(accuracy_score(y_test, y_pred)*100, 2), \"%\")"
      ],
      "execution_count": null,
      "outputs": [
        {
          "output_type": "stream",
          "name": "stdout",
          "text": [
            "Accuracy:  74.03 %\n"
          ]
        }
      ]
    },
    {
      "cell_type": "markdown",
      "metadata": {
        "id": "PpvN1h4VRt83"
      },
      "source": [
        "## Displaying the Decision Tree"
      ]
    },
    {
      "cell_type": "code",
      "metadata": {
        "colab": {
          "base_uri": "https://localhost:8080/",
          "height": 555
        },
        "id": "E-S1dPQIIA9T",
        "outputId": "5be14b51-e560-480c-da36-86b32f670fbd"
      },
      "source": [
        "# Displaying decision tree\n",
        "import graphviz \n",
        "dot_data = tree.export_graphviz(DT, out_file=None, \n",
        "                      max_depth = 2,\n",
        "                      feature_names=feature_cols,  \n",
        "                      class_names=['0', '1'],  \n",
        "                      filled=True, rounded=True,  \n",
        "                      special_characters=True,)  \n",
        "graph = graphviz.Source(dot_data)  \n",
        "graph "
      ],
      "execution_count": null,
      "outputs": [
        {
          "output_type": "execute_result",
          "data": {
            "text/plain": [
              "<graphviz.files.Source at 0x7fe72f0a9b50>"
            ],
            "image/svg+xml": "<?xml version=\"1.0\" encoding=\"UTF-8\" standalone=\"no\"?>\n<!DOCTYPE svg PUBLIC \"-//W3C//DTD SVG 1.1//EN\"\n \"http://www.w3.org/Graphics/SVG/1.1/DTD/svg11.dtd\">\n<!-- Generated by graphviz version 2.40.1 (20161225.0304)\n -->\n<!-- Title: Tree Pages: 1 -->\n<svg width=\"622pt\" height=\"401pt\"\n viewBox=\"0.00 0.00 622.00 401.00\" xmlns=\"http://www.w3.org/2000/svg\" xmlns:xlink=\"http://www.w3.org/1999/xlink\">\n<g id=\"graph0\" class=\"graph\" transform=\"scale(1 1) rotate(0) translate(4 397)\">\n<title>Tree</title>\n<polygon fill=\"#ffffff\" stroke=\"transparent\" points=\"-4,4 -4,-397 618,-397 618,4 -4,4\"/>\n<!-- 0 -->\n<g id=\"node1\" class=\"node\">\n<title>0</title>\n<path fill=\"#f3c4a2\" stroke=\"#000000\" d=\"M361,-393C361,-393 253,-393 253,-393 247,-393 241,-387 241,-381 241,-381 241,-322 241,-322 241,-316 247,-310 253,-310 253,-310 361,-310 361,-310 367,-310 373,-316 373,-322 373,-322 373,-381 373,-381 373,-387 367,-393 361,-393\"/>\n<text text-anchor=\"start\" x=\"254\" y=\"-377.8\" font-family=\"Helvetica,sans-Serif\" font-size=\"14.00\" fill=\"#000000\">Glucose ≤ 127.5</text>\n<text text-anchor=\"start\" x=\"256\" y=\"-362.8\" font-family=\"Helvetica,sans-Serif\" font-size=\"14.00\" fill=\"#000000\">entropy = 0.931</text>\n<text text-anchor=\"start\" x=\"259\" y=\"-347.8\" font-family=\"Helvetica,sans-Serif\" font-size=\"14.00\" fill=\"#000000\">samples = 614</text>\n<text text-anchor=\"start\" x=\"249\" y=\"-332.8\" font-family=\"Helvetica,sans-Serif\" font-size=\"14.00\" fill=\"#000000\">value = [401, 213]</text>\n<text text-anchor=\"start\" x=\"278\" y=\"-317.8\" font-family=\"Helvetica,sans-Serif\" font-size=\"14.00\" fill=\"#000000\">class = 0</text>\n</g>\n<!-- 1 -->\n<g id=\"node2\" class=\"node\">\n<title>1</title>\n<path fill=\"#eb9f69\" stroke=\"#000000\" d=\"M286,-274C286,-274 186,-274 186,-274 180,-274 174,-268 174,-262 174,-262 174,-203 174,-203 174,-197 180,-191 186,-191 186,-191 286,-191 286,-191 292,-191 298,-197 298,-203 298,-203 298,-262 298,-262 298,-268 292,-274 286,-274\"/>\n<text text-anchor=\"start\" x=\"201\" y=\"-258.8\" font-family=\"Helvetica,sans-Serif\" font-size=\"14.00\" fill=\"#000000\">Age ≤ 28.5</text>\n<text text-anchor=\"start\" x=\"185\" y=\"-243.8\" font-family=\"Helvetica,sans-Serif\" font-size=\"14.00\" fill=\"#000000\">entropy = 0.712</text>\n<text text-anchor=\"start\" x=\"188\" y=\"-228.8\" font-family=\"Helvetica,sans-Serif\" font-size=\"14.00\" fill=\"#000000\">samples = 390</text>\n<text text-anchor=\"start\" x=\"182\" y=\"-213.8\" font-family=\"Helvetica,sans-Serif\" font-size=\"14.00\" fill=\"#000000\">value = [314, 76]</text>\n<text text-anchor=\"start\" x=\"207\" y=\"-198.8\" font-family=\"Helvetica,sans-Serif\" font-size=\"14.00\" fill=\"#000000\">class = 0</text>\n</g>\n<!-- 0&#45;&gt;1 -->\n<g id=\"edge1\" class=\"edge\">\n<title>0&#45;&gt;1</title>\n<path fill=\"none\" stroke=\"#000000\" d=\"M282.1676,-309.8796C277.0091,-301.2335 271.5192,-292.0322 266.1924,-283.1042\"/>\n<polygon fill=\"#000000\" stroke=\"#000000\" points=\"269.0678,-281.0924 260.9383,-274.2981 263.0564,-284.679 269.0678,-281.0924\"/>\n<text text-anchor=\"middle\" x=\"254.8149\" y=\"-294.8366\" font-family=\"Helvetica,sans-Serif\" font-size=\"14.00\" fill=\"#000000\">True</text>\n</g>\n<!-- 100 -->\n<g id=\"node9\" class=\"node\">\n<title>100</title>\n<path fill=\"#b7dbf6\" stroke=\"#000000\" d=\"M428,-274C428,-274 328,-274 328,-274 322,-274 316,-268 316,-262 316,-262 316,-203 316,-203 316,-197 322,-191 328,-191 328,-191 428,-191 428,-191 434,-191 440,-197 440,-203 440,-203 440,-262 440,-262 440,-268 434,-274 428,-274\"/>\n<text text-anchor=\"start\" x=\"339\" y=\"-258.8\" font-family=\"Helvetica,sans-Serif\" font-size=\"14.00\" fill=\"#000000\">BMI ≤ 29.95</text>\n<text text-anchor=\"start\" x=\"327\" y=\"-243.8\" font-family=\"Helvetica,sans-Serif\" font-size=\"14.00\" fill=\"#000000\">entropy = 0.964</text>\n<text text-anchor=\"start\" x=\"330\" y=\"-228.8\" font-family=\"Helvetica,sans-Serif\" font-size=\"14.00\" fill=\"#000000\">samples = 224</text>\n<text text-anchor=\"start\" x=\"324\" y=\"-213.8\" font-family=\"Helvetica,sans-Serif\" font-size=\"14.00\" fill=\"#000000\">value = [87, 137]</text>\n<text text-anchor=\"start\" x=\"349\" y=\"-198.8\" font-family=\"Helvetica,sans-Serif\" font-size=\"14.00\" fill=\"#000000\">class = 1</text>\n</g>\n<!-- 0&#45;&gt;100 -->\n<g id=\"edge8\" class=\"edge\">\n<title>0&#45;&gt;100</title>\n<path fill=\"none\" stroke=\"#000000\" d=\"M331.8324,-309.8796C336.9909,-301.2335 342.4808,-292.0322 347.8076,-283.1042\"/>\n<polygon fill=\"#000000\" stroke=\"#000000\" points=\"350.9436,-284.679 353.0617,-274.2981 344.9322,-281.0924 350.9436,-284.679\"/>\n<text text-anchor=\"middle\" x=\"359.1851\" y=\"-294.8366\" font-family=\"Helvetica,sans-Serif\" font-size=\"14.00\" fill=\"#000000\">False</text>\n</g>\n<!-- 2 -->\n<g id=\"node3\" class=\"node\">\n<title>2</title>\n<path fill=\"#e78c49\" stroke=\"#000000\" d=\"M145,-155C145,-155 45,-155 45,-155 39,-155 33,-149 33,-143 33,-143 33,-84 33,-84 33,-78 39,-72 45,-72 45,-72 145,-72 145,-72 151,-72 157,-78 157,-84 157,-84 157,-143 157,-143 157,-149 151,-155 145,-155\"/>\n<text text-anchor=\"start\" x=\"56\" y=\"-139.8\" font-family=\"Helvetica,sans-Serif\" font-size=\"14.00\" fill=\"#000000\">BMI ≤ 30.95</text>\n<text text-anchor=\"start\" x=\"44\" y=\"-124.8\" font-family=\"Helvetica,sans-Serif\" font-size=\"14.00\" fill=\"#000000\">entropy = 0.391</text>\n<text text-anchor=\"start\" x=\"47\" y=\"-109.8\" font-family=\"Helvetica,sans-Serif\" font-size=\"14.00\" fill=\"#000000\">samples = 221</text>\n<text text-anchor=\"start\" x=\"41\" y=\"-94.8\" font-family=\"Helvetica,sans-Serif\" font-size=\"14.00\" fill=\"#000000\">value = [204, 17]</text>\n<text text-anchor=\"start\" x=\"66\" y=\"-79.8\" font-family=\"Helvetica,sans-Serif\" font-size=\"14.00\" fill=\"#000000\">class = 0</text>\n</g>\n<!-- 1&#45;&gt;2 -->\n<g id=\"edge2\" class=\"edge\">\n<title>1&#45;&gt;2</title>\n<path fill=\"none\" stroke=\"#000000\" d=\"M186.685,-190.8796C175.5868,-181.513 163.7165,-171.4948 152.3223,-161.8784\"/>\n<polygon fill=\"#000000\" stroke=\"#000000\" points=\"154.425,-159.0731 144.5254,-155.2981 149.9101,-164.4225 154.425,-159.0731\"/>\n</g>\n<!-- 41 -->\n<g id=\"node6\" class=\"node\">\n<title>41</title>\n<path fill=\"#f3c5a3\" stroke=\"#000000\" d=\"M287,-155C287,-155 187,-155 187,-155 181,-155 175,-149 175,-143 175,-143 175,-84 175,-84 175,-78 181,-72 187,-72 187,-72 287,-72 287,-72 293,-72 299,-78 299,-84 299,-84 299,-143 299,-143 299,-149 293,-155 287,-155\"/>\n<text text-anchor=\"start\" x=\"198\" y=\"-139.8\" font-family=\"Helvetica,sans-Serif\" font-size=\"14.00\" fill=\"#000000\">BMI ≤ 26.35</text>\n<text text-anchor=\"start\" x=\"186\" y=\"-124.8\" font-family=\"Helvetica,sans-Serif\" font-size=\"14.00\" fill=\"#000000\">entropy = 0.933</text>\n<text text-anchor=\"start\" x=\"189\" y=\"-109.8\" font-family=\"Helvetica,sans-Serif\" font-size=\"14.00\" fill=\"#000000\">samples = 169</text>\n<text text-anchor=\"start\" x=\"183\" y=\"-94.8\" font-family=\"Helvetica,sans-Serif\" font-size=\"14.00\" fill=\"#000000\">value = [110, 59]</text>\n<text text-anchor=\"start\" x=\"208\" y=\"-79.8\" font-family=\"Helvetica,sans-Serif\" font-size=\"14.00\" fill=\"#000000\">class = 0</text>\n</g>\n<!-- 1&#45;&gt;41 -->\n<g id=\"edge5\" class=\"edge\">\n<title>1&#45;&gt;41</title>\n<path fill=\"none\" stroke=\"#000000\" d=\"M236.3498,-190.8796C236.4186,-182.6838 236.4917,-173.9891 236.563,-165.5013\"/>\n<polygon fill=\"#000000\" stroke=\"#000000\" points=\"240.0645,-165.3272 236.6488,-155.2981 233.0648,-165.2683 240.0645,-165.3272\"/>\n</g>\n<!-- 3 -->\n<g id=\"node4\" class=\"node\">\n<title>3</title>\n<path fill=\"#c0c0c0\" stroke=\"#000000\" d=\"M42,-36C42,-36 12,-36 12,-36 6,-36 0,-30 0,-24 0,-24 0,-12 0,-12 0,-6 6,0 12,0 12,0 42,0 42,0 48,0 54,-6 54,-12 54,-12 54,-24 54,-24 54,-30 48,-36 42,-36\"/>\n<text text-anchor=\"middle\" x=\"27\" y=\"-14.3\" font-family=\"Helvetica,sans-Serif\" font-size=\"14.00\" fill=\"#000000\">(...)</text>\n</g>\n<!-- 2&#45;&gt;3 -->\n<g id=\"edge3\" class=\"edge\">\n<title>2&#45;&gt;3</title>\n<path fill=\"none\" stroke=\"#000000\" d=\"M65.372,-71.8901C58.7844,-62.6384 51.9741,-53.0739 45.9526,-44.6173\"/>\n<polygon fill=\"#000000\" stroke=\"#000000\" points=\"48.6569,-42.381 40.0055,-36.2651 42.9547,-46.4412 48.6569,-42.381\"/>\n</g>\n<!-- 8 -->\n<g id=\"node5\" class=\"node\">\n<title>8</title>\n<path fill=\"#c0c0c0\" stroke=\"#000000\" d=\"M114,-36C114,-36 84,-36 84,-36 78,-36 72,-30 72,-24 72,-24 72,-12 72,-12 72,-6 78,0 84,0 84,0 114,0 114,0 120,0 126,-6 126,-12 126,-12 126,-24 126,-24 126,-30 120,-36 114,-36\"/>\n<text text-anchor=\"middle\" x=\"99\" y=\"-14.3\" font-family=\"Helvetica,sans-Serif\" font-size=\"14.00\" fill=\"#000000\">(...)</text>\n</g>\n<!-- 2&#45;&gt;8 -->\n<g id=\"edge4\" class=\"edge\">\n<title>2&#45;&gt;8</title>\n<path fill=\"none\" stroke=\"#000000\" d=\"M96.7428,-71.8901C97.1018,-63.3201 97.472,-54.4817 97.8061,-46.5041\"/>\n<polygon fill=\"#000000\" stroke=\"#000000\" points=\"101.3133,-46.4028 98.235,-36.2651 94.3195,-46.1098 101.3133,-46.4028\"/>\n</g>\n<!-- 42 -->\n<g id=\"node7\" class=\"node\">\n<title>42</title>\n<path fill=\"#c0c0c0\" stroke=\"#000000\" d=\"M218,-36C218,-36 188,-36 188,-36 182,-36 176,-30 176,-24 176,-24 176,-12 176,-12 176,-6 182,0 188,0 188,0 218,0 218,0 224,0 230,-6 230,-12 230,-12 230,-24 230,-24 230,-30 224,-36 218,-36\"/>\n<text text-anchor=\"middle\" x=\"203\" y=\"-14.3\" font-family=\"Helvetica,sans-Serif\" font-size=\"14.00\" fill=\"#000000\">(...)</text>\n</g>\n<!-- 41&#45;&gt;42 -->\n<g id=\"edge6\" class=\"edge\">\n<title>41&#45;&gt;42</title>\n<path fill=\"none\" stroke=\"#000000\" d=\"M222.186,-71.8901C219.0309,-63.0279 215.7736,-53.8788 212.8587,-45.6913\"/>\n<polygon fill=\"#000000\" stroke=\"#000000\" points=\"216.1541,-44.512 209.5028,-36.2651 209.5595,-46.8598 216.1541,-44.512\"/>\n</g>\n<!-- 45 -->\n<g id=\"node8\" class=\"node\">\n<title>45</title>\n<path fill=\"#c0c0c0\" stroke=\"#000000\" d=\"M290,-36C290,-36 260,-36 260,-36 254,-36 248,-30 248,-24 248,-24 248,-12 248,-12 248,-6 254,0 260,0 260,0 290,0 290,0 296,0 302,-6 302,-12 302,-12 302,-24 302,-24 302,-30 296,-36 290,-36\"/>\n<text text-anchor=\"middle\" x=\"275\" y=\"-14.3\" font-family=\"Helvetica,sans-Serif\" font-size=\"14.00\" fill=\"#000000\">(...)</text>\n</g>\n<!-- 41&#45;&gt;45 -->\n<g id=\"edge7\" class=\"edge\">\n<title>41&#45;&gt;45</title>\n<path fill=\"none\" stroke=\"#000000\" d=\"M253.5568,-71.8901C257.0831,-63.0279 260.7236,-53.8788 263.9815,-45.6913\"/>\n<polygon fill=\"#000000\" stroke=\"#000000\" points=\"267.287,-46.8506 267.7322,-36.2651 260.783,-44.2626 267.287,-46.8506\"/>\n</g>\n<!-- 101 -->\n<g id=\"node10\" class=\"node\">\n<title>101</title>\n<path fill=\"#f1ba93\" stroke=\"#000000\" d=\"M427,-155C427,-155 329,-155 329,-155 323,-155 317,-149 317,-143 317,-143 317,-84 317,-84 317,-78 323,-72 329,-72 329,-72 427,-72 427,-72 433,-72 439,-78 439,-84 439,-84 439,-143 439,-143 439,-149 433,-155 427,-155\"/>\n<text text-anchor=\"start\" x=\"325\" y=\"-139.8\" font-family=\"Helvetica,sans-Serif\" font-size=\"14.00\" fill=\"#000000\">Glucose ≤ 145.5</text>\n<text text-anchor=\"start\" x=\"327\" y=\"-124.8\" font-family=\"Helvetica,sans-Serif\" font-size=\"14.00\" fill=\"#000000\">entropy = 0.895</text>\n<text text-anchor=\"start\" x=\"334\" y=\"-109.8\" font-family=\"Helvetica,sans-Serif\" font-size=\"14.00\" fill=\"#000000\">samples = 61</text>\n<text text-anchor=\"start\" x=\"328\" y=\"-94.8\" font-family=\"Helvetica,sans-Serif\" font-size=\"14.00\" fill=\"#000000\">value = [42, 19]</text>\n<text text-anchor=\"start\" x=\"349\" y=\"-79.8\" font-family=\"Helvetica,sans-Serif\" font-size=\"14.00\" fill=\"#000000\">class = 0</text>\n</g>\n<!-- 100&#45;&gt;101 -->\n<g id=\"edge9\" class=\"edge\">\n<title>100&#45;&gt;101</title>\n<path fill=\"none\" stroke=\"#000000\" d=\"M378,-190.8796C378,-182.6838 378,-173.9891 378,-165.5013\"/>\n<polygon fill=\"#000000\" stroke=\"#000000\" points=\"381.5001,-165.298 378,-155.2981 374.5001,-165.2981 381.5001,-165.298\"/>\n</g>\n<!-- 132 -->\n<g id=\"node13\" class=\"node\">\n<title>132</title>\n<path fill=\"#85c2ef\" stroke=\"#000000\" d=\"M569,-155C569,-155 469,-155 469,-155 463,-155 457,-149 457,-143 457,-143 457,-84 457,-84 457,-78 463,-72 469,-72 469,-72 569,-72 569,-72 575,-72 581,-78 581,-84 581,-84 581,-143 581,-143 581,-149 575,-155 569,-155\"/>\n<text text-anchor=\"start\" x=\"466\" y=\"-139.8\" font-family=\"Helvetica,sans-Serif\" font-size=\"14.00\" fill=\"#000000\">Glucose ≤ 165.5</text>\n<text text-anchor=\"start\" x=\"472\" y=\"-124.8\" font-family=\"Helvetica,sans-Serif\" font-size=\"14.00\" fill=\"#000000\">entropy = 0.85</text>\n<text text-anchor=\"start\" x=\"471\" y=\"-109.8\" font-family=\"Helvetica,sans-Serif\" font-size=\"14.00\" fill=\"#000000\">samples = 163</text>\n<text text-anchor=\"start\" x=\"465\" y=\"-94.8\" font-family=\"Helvetica,sans-Serif\" font-size=\"14.00\" fill=\"#000000\">value = [45, 118]</text>\n<text text-anchor=\"start\" x=\"490\" y=\"-79.8\" font-family=\"Helvetica,sans-Serif\" font-size=\"14.00\" fill=\"#000000\">class = 1</text>\n</g>\n<!-- 100&#45;&gt;132 -->\n<g id=\"edge12\" class=\"edge\">\n<title>100&#45;&gt;132</title>\n<path fill=\"none\" stroke=\"#000000\" d=\"M427.315,-190.8796C438.4132,-181.513 450.2835,-171.4948 461.6777,-161.8784\"/>\n<polygon fill=\"#000000\" stroke=\"#000000\" points=\"464.0899,-164.4225 469.4746,-155.2981 459.575,-159.0731 464.0899,-164.4225\"/>\n</g>\n<!-- 102 -->\n<g id=\"node11\" class=\"node\">\n<title>102</title>\n<path fill=\"#c0c0c0\" stroke=\"#000000\" d=\"M378,-36C378,-36 348,-36 348,-36 342,-36 336,-30 336,-24 336,-24 336,-12 336,-12 336,-6 342,0 348,0 348,0 378,0 378,0 384,0 390,-6 390,-12 390,-12 390,-24 390,-24 390,-30 384,-36 378,-36\"/>\n<text text-anchor=\"middle\" x=\"363\" y=\"-14.3\" font-family=\"Helvetica,sans-Serif\" font-size=\"14.00\" fill=\"#000000\">(...)</text>\n</g>\n<!-- 101&#45;&gt;102 -->\n<g id=\"edge10\" class=\"edge\">\n<title>101&#45;&gt;102</title>\n<path fill=\"none\" stroke=\"#000000\" d=\"M371.4644,-71.8901C370.103,-63.2227 368.6986,-54.2808 367.4344,-46.2325\"/>\n<polygon fill=\"#000000\" stroke=\"#000000\" points=\"370.8782,-45.6009 365.8689,-36.2651 363.963,-46.6871 370.8782,-45.6009\"/>\n</g>\n<!-- 115 -->\n<g id=\"node12\" class=\"node\">\n<title>115</title>\n<path fill=\"#c0c0c0\" stroke=\"#000000\" d=\"M450,-36C450,-36 420,-36 420,-36 414,-36 408,-30 408,-24 408,-24 408,-12 408,-12 408,-6 414,0 420,0 420,0 450,0 450,0 456,0 462,-6 462,-12 462,-12 462,-24 462,-24 462,-30 456,-36 450,-36\"/>\n<text text-anchor=\"middle\" x=\"435\" y=\"-14.3\" font-family=\"Helvetica,sans-Serif\" font-size=\"14.00\" fill=\"#000000\">(...)</text>\n</g>\n<!-- 101&#45;&gt;115 -->\n<g id=\"edge11\" class=\"edge\">\n<title>101&#45;&gt;115</title>\n<path fill=\"none\" stroke=\"#000000\" d=\"M402.8352,-71.8901C408.2991,-62.7357 413.9457,-53.2752 418.9536,-44.8847\"/>\n<polygon fill=\"#000000\" stroke=\"#000000\" points=\"421.9785,-46.6457 424.0983,-36.2651 415.9678,-43.0581 421.9785,-46.6457\"/>\n</g>\n<!-- 133 -->\n<g id=\"node14\" class=\"node\">\n<title>133</title>\n<path fill=\"#c0c0c0\" stroke=\"#000000\" d=\"M530,-36C530,-36 500,-36 500,-36 494,-36 488,-30 488,-24 488,-24 488,-12 488,-12 488,-6 494,0 500,0 500,0 530,0 530,0 536,0 542,-6 542,-12 542,-12 542,-24 542,-24 542,-30 536,-36 530,-36\"/>\n<text text-anchor=\"middle\" x=\"515\" y=\"-14.3\" font-family=\"Helvetica,sans-Serif\" font-size=\"14.00\" fill=\"#000000\">(...)</text>\n</g>\n<!-- 132&#45;&gt;133 -->\n<g id=\"edge13\" class=\"edge\">\n<title>132&#45;&gt;133</title>\n<path fill=\"none\" stroke=\"#000000\" d=\"M517.2572,-71.8901C516.8982,-63.3201 516.528,-54.4817 516.1939,-46.5041\"/>\n<polygon fill=\"#000000\" stroke=\"#000000\" points=\"519.6805,-46.1098 515.765,-36.2651 512.6867,-46.4028 519.6805,-46.1098\"/>\n</g>\n<!-- 190 -->\n<g id=\"node15\" class=\"node\">\n<title>190</title>\n<path fill=\"#c0c0c0\" stroke=\"#000000\" d=\"M602,-36C602,-36 572,-36 572,-36 566,-36 560,-30 560,-24 560,-24 560,-12 560,-12 560,-6 566,0 572,0 572,0 602,0 602,0 608,0 614,-6 614,-12 614,-12 614,-24 614,-24 614,-30 608,-36 602,-36\"/>\n<text text-anchor=\"middle\" x=\"587\" y=\"-14.3\" font-family=\"Helvetica,sans-Serif\" font-size=\"14.00\" fill=\"#000000\">(...)</text>\n</g>\n<!-- 132&#45;&gt;190 -->\n<g id=\"edge14\" class=\"edge\">\n<title>132&#45;&gt;190</title>\n<path fill=\"none\" stroke=\"#000000\" d=\"M548.628,-71.8901C555.2156,-62.6384 562.0259,-53.0739 568.0474,-44.6173\"/>\n<polygon fill=\"#000000\" stroke=\"#000000\" points=\"571.0453,-46.4412 573.9945,-36.2651 565.3431,-42.381 571.0453,-46.4412\"/>\n</g>\n</g>\n</svg>\n"
          },
          "metadata": {},
          "execution_count": 46
        }
      ]
    }
  ]
}