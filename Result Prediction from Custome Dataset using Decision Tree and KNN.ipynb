{
  "nbformat": 4,
  "nbformat_minor": 0,
  "metadata": {
    "colab": {
      "name": "Result Prediction using DT and KNN.ipynb",
      "provenance": [],
      "collapsed_sections": [],
      "include_colab_link": true
    },
    "kernelspec": {
      "name": "python3",
      "display_name": "Python 3"
    },
    "language_info": {
      "name": "python"
    }
  },
  "cells": [
    {
      "cell_type": "markdown",
      "metadata": {
        "id": "view-in-github",
        "colab_type": "text"
      },
      "source": [
        "<a href=\"https://colab.research.google.com/github/wnoyan/Machine-Learning/blob/master/Result%20Prediction%20from%20Custome%20Dataset%20using%20Decision%20Tree%20and%20KNN.ipynb\" target=\"_parent\"><img src=\"https://colab.research.google.com/assets/colab-badge.svg\" alt=\"Open In Colab\"/></a>"
      ]
    },
    {
      "cell_type": "markdown",
      "metadata": {
        "id": "GkCS--_byrek"
      },
      "source": [
        "## Result Prediction using DT"
      ]
    },
    {
      "cell_type": "markdown",
      "metadata": {
        "id": "iglYGX9bwtp9"
      },
      "source": [
        "## Loading Required Libraries"
      ]
    },
    {
      "cell_type": "code",
      "metadata": {
        "id": "BZH5RyFdQ986"
      },
      "source": [
        "# Loading Required Libraries\n",
        "\n",
        "import numpy as np \n",
        "import pandas as pd \n",
        "import sklearn\n",
        "from sklearn.model_selection import train_test_split\n",
        "from sklearn.metrics import confusion_matrix \n",
        "from sklearn.tree import DecisionTreeClassifier \n",
        "from sklearn.metrics import accuracy_score \n",
        "from matplotlib import pyplot as plt\n",
        "from sklearn import datasets\n",
        "from sklearn import tree"
      ],
      "execution_count": null,
      "outputs": []
    },
    {
      "cell_type": "markdown",
      "metadata": {
        "id": "RWRUDX_WSfw8"
      },
      "source": [
        "## Mounting Google Drive"
      ]
    },
    {
      "cell_type": "code",
      "metadata": {
        "colab": {
          "base_uri": "https://localhost:8080/"
        },
        "id": "1Oyzbq6KSbod",
        "outputId": "3be158d5-fc70-4857-8195-c0f65cc2c748"
      },
      "source": [
        "# Mounting Google Drive\n",
        "from google.colab import drive\n",
        "drive.mount('/content/drive')"
      ],
      "execution_count": null,
      "outputs": [
        {
          "output_type": "stream",
          "name": "stdout",
          "text": [
            "Drive already mounted at /content/drive; to attempt to forcibly remount, call drive.mount(\"/content/drive\", force_remount=True).\n"
          ]
        }
      ]
    },
    {
      "cell_type": "markdown",
      "metadata": {
        "id": "D0Ii5blxS9kI"
      },
      "source": [
        "## Loading Study Information Dataset from Google Drive"
      ]
    },
    {
      "cell_type": "code",
      "metadata": {
        "colab": {
          "base_uri": "https://localhost:8080/",
          "height": 258
        },
        "id": "i_HWb7IGScUy",
        "outputId": "4de6ea6b-c7b2-4b2d-9eae-b50f1842fb27"
      },
      "source": [
        "# Loading Dataset\n",
        "study_data = pd.read_csv(\"/content/drive/MyDrive/Colab Notebooks/CSE4112 - ML Lab/Grade Prediction Data (Responses) - Form Responses 1.csv\", encoding='utf8', engine='python')\n",
        "\n",
        "# Exploring Dataset\n",
        "study_data.head()"
      ],
      "execution_count": null,
      "outputs": [
        {
          "output_type": "execute_result",
          "data": {
            "text/html": [
              "<div>\n",
              "<style scoped>\n",
              "    .dataframe tbody tr th:only-of-type {\n",
              "        vertical-align: middle;\n",
              "    }\n",
              "\n",
              "    .dataframe tbody tr th {\n",
              "        vertical-align: top;\n",
              "    }\n",
              "\n",
              "    .dataframe thead th {\n",
              "        text-align: right;\n",
              "    }\n",
              "</style>\n",
              "<table border=\"1\" class=\"dataframe\">\n",
              "  <thead>\n",
              "    <tr style=\"text-align: right;\">\n",
              "      <th></th>\n",
              "      <th>Daily Study Hour (0 - )</th>\n",
              "      <th>Average CT Marks (0 - 20)</th>\n",
              "      <th>Class Attendance (percentage)</th>\n",
              "      <th>PL/SPL Study Hours (Daily) (0 - )</th>\n",
              "      <th>PL/SPL Sleeping Hours (Daily Average)</th>\n",
              "      <th>Average Sleeping Hours (Daily)</th>\n",
              "      <th>Social Media Hours (Daily Average)</th>\n",
              "      <th>PL/SPL Social Media Hours (Daily Average)</th>\n",
              "      <th>Concentration in Classes (0 - 10)</th>\n",
              "      <th>Confidence (0 - 10)</th>\n",
              "      <th>GPA</th>\n",
              "    </tr>\n",
              "  </thead>\n",
              "  <tbody>\n",
              "    <tr>\n",
              "      <th>0</th>\n",
              "      <td>1</td>\n",
              "      <td>8</td>\n",
              "      <td>65</td>\n",
              "      <td>12</td>\n",
              "      <td>6</td>\n",
              "      <td>8.0</td>\n",
              "      <td>3</td>\n",
              "      <td>1</td>\n",
              "      <td>NaN</td>\n",
              "      <td>3</td>\n",
              "      <td>3.25</td>\n",
              "    </tr>\n",
              "    <tr>\n",
              "      <th>1</th>\n",
              "      <td>2</td>\n",
              "      <td>12</td>\n",
              "      <td>95</td>\n",
              "      <td>9</td>\n",
              "      <td>10</td>\n",
              "      <td>10.0</td>\n",
              "      <td>2</td>\n",
              "      <td>1</td>\n",
              "      <td>7.0</td>\n",
              "      <td>7</td>\n",
              "      <td>3.84</td>\n",
              "    </tr>\n",
              "    <tr>\n",
              "      <th>2</th>\n",
              "      <td>2</td>\n",
              "      <td>15</td>\n",
              "      <td>96</td>\n",
              "      <td>13</td>\n",
              "      <td>6</td>\n",
              "      <td>8.0</td>\n",
              "      <td>5</td>\n",
              "      <td>2</td>\n",
              "      <td>5.0</td>\n",
              "      <td>8</td>\n",
              "      <td>3.61</td>\n",
              "    </tr>\n",
              "    <tr>\n",
              "      <th>3</th>\n",
              "      <td>1</td>\n",
              "      <td>9</td>\n",
              "      <td>70</td>\n",
              "      <td>6</td>\n",
              "      <td>8</td>\n",
              "      <td>8.0</td>\n",
              "      <td>3</td>\n",
              "      <td>2</td>\n",
              "      <td>7.0</td>\n",
              "      <td>9</td>\n",
              "      <td>3.41</td>\n",
              "    </tr>\n",
              "    <tr>\n",
              "      <th>4</th>\n",
              "      <td>1</td>\n",
              "      <td>8</td>\n",
              "      <td>60</td>\n",
              "      <td>10</td>\n",
              "      <td>9</td>\n",
              "      <td>8.0</td>\n",
              "      <td>2</td>\n",
              "      <td>2</td>\n",
              "      <td>3.0</td>\n",
              "      <td>4</td>\n",
              "      <td>3.14</td>\n",
              "    </tr>\n",
              "  </tbody>\n",
              "</table>\n",
              "</div>"
            ],
            "text/plain": [
              "   Daily Study Hour (0 - )  ...   GPA\n",
              "0                        1  ...  3.25\n",
              "1                        2  ...  3.84\n",
              "2                        2  ...  3.61\n",
              "3                        1  ...  3.41\n",
              "4                        1  ...  3.14\n",
              "\n",
              "[5 rows x 11 columns]"
            ]
          },
          "metadata": {},
          "execution_count": 166
        }
      ]
    },
    {
      "cell_type": "markdown",
      "metadata": {
        "id": "HH5zZ8eye3V_"
      },
      "source": [
        "## Handling NULL Data"
      ]
    },
    {
      "cell_type": "code",
      "metadata": {
        "colab": {
          "base_uri": "https://localhost:8080/",
          "height": 476
        },
        "id": "bU06WfUYsLZe",
        "outputId": "5aff1a01-2cae-4e3e-9171-0cc020f57c65"
      },
      "source": [
        "# Checking for NULL Data\n",
        "study_data.isnull()"
      ],
      "execution_count": null,
      "outputs": [
        {
          "output_type": "execute_result",
          "data": {
            "text/html": [
              "<div>\n",
              "<style scoped>\n",
              "    .dataframe tbody tr th:only-of-type {\n",
              "        vertical-align: middle;\n",
              "    }\n",
              "\n",
              "    .dataframe tbody tr th {\n",
              "        vertical-align: top;\n",
              "    }\n",
              "\n",
              "    .dataframe thead th {\n",
              "        text-align: right;\n",
              "    }\n",
              "</style>\n",
              "<table border=\"1\" class=\"dataframe\">\n",
              "  <thead>\n",
              "    <tr style=\"text-align: right;\">\n",
              "      <th></th>\n",
              "      <th>Daily Study Hour (0 - )</th>\n",
              "      <th>Average CT Marks (0 - 20)</th>\n",
              "      <th>Class Attendance (percentage)</th>\n",
              "      <th>PL/SPL Study Hours (Daily) (0 - )</th>\n",
              "      <th>PL/SPL Sleeping Hours (Daily Average)</th>\n",
              "      <th>Average Sleeping Hours (Daily)</th>\n",
              "      <th>Social Media Hours (Daily Average)</th>\n",
              "      <th>PL/SPL Social Media Hours (Daily Average)</th>\n",
              "      <th>Concentration in Classes (0 - 10)</th>\n",
              "      <th>Confidence (0 - 10)</th>\n",
              "      <th>GPA</th>\n",
              "    </tr>\n",
              "  </thead>\n",
              "  <tbody>\n",
              "    <tr>\n",
              "      <th>0</th>\n",
              "      <td>False</td>\n",
              "      <td>False</td>\n",
              "      <td>False</td>\n",
              "      <td>False</td>\n",
              "      <td>False</td>\n",
              "      <td>False</td>\n",
              "      <td>False</td>\n",
              "      <td>False</td>\n",
              "      <td>True</td>\n",
              "      <td>False</td>\n",
              "      <td>False</td>\n",
              "    </tr>\n",
              "    <tr>\n",
              "      <th>1</th>\n",
              "      <td>False</td>\n",
              "      <td>False</td>\n",
              "      <td>False</td>\n",
              "      <td>False</td>\n",
              "      <td>False</td>\n",
              "      <td>False</td>\n",
              "      <td>False</td>\n",
              "      <td>False</td>\n",
              "      <td>False</td>\n",
              "      <td>False</td>\n",
              "      <td>False</td>\n",
              "    </tr>\n",
              "    <tr>\n",
              "      <th>2</th>\n",
              "      <td>False</td>\n",
              "      <td>False</td>\n",
              "      <td>False</td>\n",
              "      <td>False</td>\n",
              "      <td>False</td>\n",
              "      <td>False</td>\n",
              "      <td>False</td>\n",
              "      <td>False</td>\n",
              "      <td>False</td>\n",
              "      <td>False</td>\n",
              "      <td>False</td>\n",
              "    </tr>\n",
              "    <tr>\n",
              "      <th>3</th>\n",
              "      <td>False</td>\n",
              "      <td>False</td>\n",
              "      <td>False</td>\n",
              "      <td>False</td>\n",
              "      <td>False</td>\n",
              "      <td>False</td>\n",
              "      <td>False</td>\n",
              "      <td>False</td>\n",
              "      <td>False</td>\n",
              "      <td>False</td>\n",
              "      <td>False</td>\n",
              "    </tr>\n",
              "    <tr>\n",
              "      <th>4</th>\n",
              "      <td>False</td>\n",
              "      <td>False</td>\n",
              "      <td>False</td>\n",
              "      <td>False</td>\n",
              "      <td>False</td>\n",
              "      <td>False</td>\n",
              "      <td>False</td>\n",
              "      <td>False</td>\n",
              "      <td>False</td>\n",
              "      <td>False</td>\n",
              "      <td>False</td>\n",
              "    </tr>\n",
              "    <tr>\n",
              "      <th>...</th>\n",
              "      <td>...</td>\n",
              "      <td>...</td>\n",
              "      <td>...</td>\n",
              "      <td>...</td>\n",
              "      <td>...</td>\n",
              "      <td>...</td>\n",
              "      <td>...</td>\n",
              "      <td>...</td>\n",
              "      <td>...</td>\n",
              "      <td>...</td>\n",
              "      <td>...</td>\n",
              "    </tr>\n",
              "    <tr>\n",
              "      <th>83</th>\n",
              "      <td>False</td>\n",
              "      <td>False</td>\n",
              "      <td>False</td>\n",
              "      <td>False</td>\n",
              "      <td>False</td>\n",
              "      <td>False</td>\n",
              "      <td>False</td>\n",
              "      <td>False</td>\n",
              "      <td>False</td>\n",
              "      <td>False</td>\n",
              "      <td>False</td>\n",
              "    </tr>\n",
              "    <tr>\n",
              "      <th>84</th>\n",
              "      <td>False</td>\n",
              "      <td>False</td>\n",
              "      <td>False</td>\n",
              "      <td>False</td>\n",
              "      <td>False</td>\n",
              "      <td>False</td>\n",
              "      <td>False</td>\n",
              "      <td>False</td>\n",
              "      <td>False</td>\n",
              "      <td>False</td>\n",
              "      <td>False</td>\n",
              "    </tr>\n",
              "    <tr>\n",
              "      <th>85</th>\n",
              "      <td>False</td>\n",
              "      <td>False</td>\n",
              "      <td>False</td>\n",
              "      <td>False</td>\n",
              "      <td>False</td>\n",
              "      <td>False</td>\n",
              "      <td>False</td>\n",
              "      <td>False</td>\n",
              "      <td>False</td>\n",
              "      <td>False</td>\n",
              "      <td>False</td>\n",
              "    </tr>\n",
              "    <tr>\n",
              "      <th>86</th>\n",
              "      <td>False</td>\n",
              "      <td>False</td>\n",
              "      <td>False</td>\n",
              "      <td>False</td>\n",
              "      <td>False</td>\n",
              "      <td>False</td>\n",
              "      <td>False</td>\n",
              "      <td>False</td>\n",
              "      <td>False</td>\n",
              "      <td>False</td>\n",
              "      <td>False</td>\n",
              "    </tr>\n",
              "    <tr>\n",
              "      <th>87</th>\n",
              "      <td>False</td>\n",
              "      <td>False</td>\n",
              "      <td>False</td>\n",
              "      <td>False</td>\n",
              "      <td>False</td>\n",
              "      <td>False</td>\n",
              "      <td>False</td>\n",
              "      <td>False</td>\n",
              "      <td>False</td>\n",
              "      <td>False</td>\n",
              "      <td>False</td>\n",
              "    </tr>\n",
              "  </tbody>\n",
              "</table>\n",
              "<p>88 rows × 11 columns</p>\n",
              "</div>"
            ],
            "text/plain": [
              "    Daily Study Hour (0 - )  ...    GPA\n",
              "0                     False  ...  False\n",
              "1                     False  ...  False\n",
              "2                     False  ...  False\n",
              "3                     False  ...  False\n",
              "4                     False  ...  False\n",
              "..                      ...  ...    ...\n",
              "83                    False  ...  False\n",
              "84                    False  ...  False\n",
              "85                    False  ...  False\n",
              "86                    False  ...  False\n",
              "87                    False  ...  False\n",
              "\n",
              "[88 rows x 11 columns]"
            ]
          },
          "metadata": {},
          "execution_count": 167
        }
      ]
    },
    {
      "cell_type": "code",
      "metadata": {
        "colab": {
          "base_uri": "https://localhost:8080/"
        },
        "id": "b290-VAOe69D",
        "outputId": "dedb6207-23d8-4223-901d-5471dcc99b1b"
      },
      "source": [
        "# Filling Missing Value Using 'fillna()'\n",
        "#study_data.fillna(0)\n",
        "\n",
        "# Droping Rows That Have NaN values\n",
        "study_data = study_data.dropna()\n",
        "\n",
        "# Getting Information About Study Dataset\n",
        "study_data.info()"
      ],
      "execution_count": null,
      "outputs": [
        {
          "output_type": "stream",
          "name": "stdout",
          "text": [
            "<class 'pandas.core.frame.DataFrame'>\n",
            "Int64Index: 87 entries, 1 to 87\n",
            "Data columns (total 11 columns):\n",
            " #   Column                                     Non-Null Count  Dtype  \n",
            "---  ------                                     --------------  -----  \n",
            " 0   Daily Study Hour (0 - )                    87 non-null     int64  \n",
            " 1   Average CT Marks (0 - 20)                  87 non-null     int64  \n",
            " 2   Class Attendance (percentage)              87 non-null     int64  \n",
            " 3   PL/SPL Study Hours (Daily) (0 - )          87 non-null     int64  \n",
            " 4   PL/SPL Sleeping Hours (Daily Average)      87 non-null     int64  \n",
            " 5   Average Sleeping Hours (Daily)             87 non-null     float64\n",
            " 6   Social Media Hours (Daily Average)         87 non-null     int64  \n",
            " 7   PL/SPL Social Media Hours (Daily Average)  87 non-null     int64  \n",
            " 8   Concentration in Classes (0 - 10)          87 non-null     float64\n",
            " 9   Confidence (0 - 10)                        87 non-null     int64  \n",
            " 10  GPA                                        87 non-null     float64\n",
            "dtypes: float64(3), int64(8)\n",
            "memory usage: 8.2 KB\n"
          ]
        }
      ]
    },
    {
      "cell_type": "markdown",
      "metadata": {
        "id": "XI5QBPZ2yez3"
      },
      "source": [
        "## Feature Selection"
      ]
    },
    {
      "cell_type": "code",
      "metadata": {
        "id": "spTNd66URY4y",
        "colab": {
          "base_uri": "https://localhost:8080/"
        },
        "outputId": "691972de-a36e-4ea4-8d12-39d403bf2714"
      },
      "source": [
        "# Renaming Columns\n",
        "study_data = study_data.rename(columns = {'Daily Study Hour (0 - )': 'DStudyHour',\n",
        "                                          'Average CT Marks (0 - 20)': 'AvgCTMark',\n",
        "                                          'Class Attendance (percentage)': 'ClassAttendance',\n",
        "                                          'PL/SPL Study Hours (Daily) (0 - )': 'PSStudyHour',\n",
        "                                          'PL/SPL Sleeping Hours (Daily Average)': 'PSSleepingHour',\n",
        "                                          'Average Sleeping Hours (Daily)': 'AvgSleepingHour',\n",
        "                                          'Social Media Hours (Daily Average)': 'DSocialMediaHour',\n",
        "                                          'PL/SPL Social Media Hours (Daily Average)': 'PSSocialMediaHour',\n",
        "                                          'Concentration in Classes (0 - 10)': 'Concentration',\n",
        "                                          'Confidence (0 - 10)': 'Confidence'})\n",
        "\n",
        "# Feature Selection\n",
        "feature_columns = ['DStudyHour', 'AvgCTMark', 'ClassAttendance', 'PSStudyHour', 'PSSleepingHour', 'AvgSleepingHour', 'DSocialMediaHour', 'PSSocialMediaHour', 'Concentration', 'Confidence']\n",
        "\n",
        "X = study_data[feature_columns].values.tolist()\n",
        "y = study_data.GPA.values.tolist()\n",
        "\n",
        "print(X[0:5])\n",
        "print(y[0:5])"
      ],
      "execution_count": null,
      "outputs": [
        {
          "output_type": "stream",
          "name": "stdout",
          "text": [
            "[[2.0, 12.0, 95.0, 9.0, 10.0, 10.0, 2.0, 1.0, 7.0, 7.0], [2.0, 15.0, 96.0, 13.0, 6.0, 8.0, 5.0, 2.0, 5.0, 8.0], [1.0, 9.0, 70.0, 6.0, 8.0, 8.0, 3.0, 2.0, 7.0, 9.0], [1.0, 8.0, 60.0, 10.0, 9.0, 8.0, 2.0, 2.0, 3.0, 4.0], [2.0, 15.0, 80.0, 10.0, 5.0, 7.0, 1.0, 0.0, 7.0, 9.0]]\n",
            "[3.84, 3.61, 3.41, 3.14, 3.88]\n"
          ]
        }
      ]
    },
    {
      "cell_type": "markdown",
      "metadata": {
        "id": "4bMa7NTStefh"
      },
      "source": [
        "## Categorization of Target Classes"
      ]
    },
    {
      "cell_type": "code",
      "metadata": {
        "colab": {
          "base_uri": "https://localhost:8080/"
        },
        "id": "94fmeP0MteMh",
        "outputId": "7d33a2ee-9d76-442c-ec16-f242f201d134"
      },
      "source": [
        "# Categorization of GPA\n",
        "\n",
        "for i in range(len(y)):\n",
        "  if y[i] >= 3.75:\n",
        "    y[i] = 'Outstanding'\n",
        "  elif y[i] >= 3.5:\n",
        "    y[i] = 'Excellent'\n",
        "  elif y[i] >= 3.25:\n",
        "    y[i] = 'Very Good'\n",
        "  elif y[i] >= 3.0:\n",
        "    y[i] = 'Good'\n",
        "  elif y[i] >= 2.75:\n",
        "    y[i] = 'Poor'\n",
        "  elif y[i] >= 2.5:\n",
        "    y[i] = 'Very Poor'\n",
        "  else:\n",
        "    y[i]= 'Fail'\n",
        "\n",
        "print(y[0:5])"
      ],
      "execution_count": null,
      "outputs": [
        {
          "output_type": "stream",
          "name": "stdout",
          "text": [
            "['Outstanding', 'Excellent', 'Very Good', 'Good', 'Outstanding']\n"
          ]
        }
      ]
    },
    {
      "cell_type": "markdown",
      "metadata": {
        "id": "ULXc765GysyO"
      },
      "source": [
        "## Splitting Dataset into Training and Testing Sets"
      ]
    },
    {
      "cell_type": "code",
      "metadata": {
        "id": "S6iatQFHZ0Vh"
      },
      "source": [
        "# Splitting the Dataset into Training and Testing sets \n",
        "X_train, X_test, y_train, y_test = train_test_split(X, y, test_size = 0.2, random_state = 42)"
      ],
      "execution_count": null,
      "outputs": []
    },
    {
      "cell_type": "markdown",
      "metadata": {
        "id": "eqopJzp7udGh"
      },
      "source": [
        "## Checking existance of NaN Values in Train and Test Sets"
      ]
    },
    {
      "cell_type": "code",
      "metadata": {
        "colab": {
          "base_uri": "https://localhost:8080/"
        },
        "id": "347MXlvTuc0A",
        "outputId": "b6bb194c-e7f3-48dc-ce2b-de1eed3906bf"
      },
      "source": [
        "# Checking existance of NaN Values in Train and Test Sets\n",
        "\n",
        "print(np.any(np.isinf(X_train)))\n",
        "print(np.any(np.isinf(X_test)))\n",
        "print(np.any(np.isnan(X_train)))\n",
        "print(np.any(np.isnan(X_test)))"
      ],
      "execution_count": null,
      "outputs": [
        {
          "output_type": "stream",
          "name": "stdout",
          "text": [
            "False\n",
            "False\n",
            "False\n",
            "False\n"
          ]
        }
      ]
    },
    {
      "cell_type": "markdown",
      "metadata": {
        "id": "DqvDOz0SzRlK"
      },
      "source": [
        "## Building Decision Tree Classifier"
      ]
    },
    {
      "cell_type": "code",
      "metadata": {
        "colab": {
          "base_uri": "https://localhost:8080/"
        },
        "id": "WI5OJTKIaE1f",
        "outputId": "785439c1-94ef-4375-fabe-02053cd39ffa"
      },
      "source": [
        "# Decision Tree Classifier \n",
        "DT = DecisionTreeClassifier(criterion='entropy')\n",
        "\n",
        "# Training the Classifier\n",
        "DT.fit(X_train, y_train)"
      ],
      "execution_count": null,
      "outputs": [
        {
          "output_type": "execute_result",
          "data": {
            "text/plain": [
              "DecisionTreeClassifier(criterion='entropy')"
            ]
          },
          "metadata": {},
          "execution_count": 175
        }
      ]
    },
    {
      "cell_type": "markdown",
      "metadata": {
        "id": "-FillQ9wzm_l"
      },
      "source": [
        "## Prediction"
      ]
    },
    {
      "cell_type": "code",
      "metadata": {
        "colab": {
          "base_uri": "https://localhost:8080/"
        },
        "id": "5Lv4e_ulac-g",
        "outputId": "57e8a381-b1d8-4726-88e4-2115d2ace28d"
      },
      "source": [
        "# Prediction on X_test (Testing Data)\n",
        "Y_pred = DT.predict(X_test)\n",
        "print(Y_pred)"
      ],
      "execution_count": null,
      "outputs": [
        {
          "output_type": "stream",
          "name": "stdout",
          "text": [
            "['Good' 'Very Good' 'Poor' 'Good' 'Outstanding' 'Poor' 'Outstanding'\n",
            " 'Outstanding' 'Outstanding' 'Good' 'Outstanding' 'Excellent'\n",
            " 'Outstanding' 'Good' 'Very Good' 'Good' 'Outstanding' 'Outstanding']\n"
          ]
        }
      ]
    },
    {
      "cell_type": "markdown",
      "metadata": {
        "id": "GDSc5i9Vz1T0"
      },
      "source": [
        "##Getting Accuracy && Confusion Matrix "
      ]
    },
    {
      "cell_type": "code",
      "metadata": {
        "colab": {
          "base_uri": "https://localhost:8080/"
        },
        "id": "8ea0eTYwak0G",
        "outputId": "f84ca307-e4d1-4a52-f816-9fe165c30f68"
      },
      "source": [
        "# Accuray of the Model \n",
        "print(\"Accuracy:\", round(accuracy_score(y_test, Y_pred)*100), \"%\")"
      ],
      "execution_count": null,
      "outputs": [
        {
          "output_type": "stream",
          "name": "stdout",
          "text": [
            "Accuracy: 56 %\n"
          ]
        }
      ]
    },
    {
      "cell_type": "markdown",
      "metadata": {
        "id": "s7HYZy8T0og5"
      },
      "source": [
        "## Graphical View of Decision Tree"
      ]
    },
    {
      "cell_type": "code",
      "metadata": {
        "colab": {
          "base_uri": "https://localhost:8080/",
          "height": 1000
        },
        "id": "O2_TPwR4fDNB",
        "outputId": "90052493-392c-430a-e222-747508d4f42f"
      },
      "source": [
        "# Graphical View of Decision Tree\n",
        "\n",
        "import graphviz \n",
        "\n",
        "dot_data = tree.export_graphviz(DT, out_file=None, \n",
        "                      feature_names=feature_columns,  \n",
        "                      class_names=['Fail', 'Very Poor', 'Poor', 'Good', 'Very Good', 'Excellent', 'Outstanding'],  \n",
        "                      filled=True, rounded=True,  \n",
        "                      special_characters=True)  \n",
        "\n",
        "graph = graphviz.Source(dot_data)  \n",
        "\n",
        "graph "
      ],
      "execution_count": null,
      "outputs": [
        {
          "output_type": "execute_result",
          "data": {
            "text/plain": [
              "<graphviz.files.Source at 0x7f10ca7ca990>"
            ],
            "image/svg+xml": "<?xml version=\"1.0\" encoding=\"UTF-8\" standalone=\"no\"?>\n<!DOCTYPE svg PUBLIC \"-//W3C//DTD SVG 1.1//EN\"\n \"http://www.w3.org/Graphics/SVG/1.1/DTD/svg11.dtd\">\n<!-- Generated by graphviz version 2.40.1 (20161225.0304)\n -->\n<!-- Title: Tree Pages: 1 -->\n<svg width=\"2208pt\" height=\"1147pt\"\n viewBox=\"0.00 0.00 2207.50 1147.00\" xmlns=\"http://www.w3.org/2000/svg\" xmlns:xlink=\"http://www.w3.org/1999/xlink\">\n<g id=\"graph0\" class=\"graph\" transform=\"scale(1 1) rotate(0) translate(4 1143)\">\n<title>Tree</title>\n<polygon fill=\"#ffffff\" stroke=\"transparent\" points=\"-4,4 -4,-1143 2203.5,-1143 2203.5,4 -4,4\"/>\n<!-- 0 -->\n<g id=\"node1\" class=\"node\">\n<title>0</title>\n<path fill=\"#a5f3e5\" stroke=\"#000000\" d=\"M856.5,-1139C856.5,-1139 709.5,-1139 709.5,-1139 703.5,-1139 697.5,-1133 697.5,-1127 697.5,-1127 697.5,-1068 697.5,-1068 697.5,-1062 703.5,-1056 709.5,-1056 709.5,-1056 856.5,-1056 856.5,-1056 862.5,-1056 868.5,-1062 868.5,-1068 868.5,-1068 868.5,-1127 868.5,-1127 868.5,-1133 862.5,-1139 856.5,-1139\"/>\n<text text-anchor=\"start\" x=\"722.5\" y=\"-1123.8\" font-family=\"Helvetica,sans-Serif\" font-size=\"14.00\" fill=\"#000000\">AvgCTMark ≤ 10.5</text>\n<text text-anchor=\"start\" x=\"740.5\" y=\"-1108.8\" font-family=\"Helvetica,sans-Serif\" font-size=\"14.00\" fill=\"#000000\">entropy = 1.8</text>\n<text text-anchor=\"start\" x=\"739\" y=\"-1093.8\" font-family=\"Helvetica,sans-Serif\" font-size=\"14.00\" fill=\"#000000\">samples = 69</text>\n<text text-anchor=\"start\" x=\"705.5\" y=\"-1078.8\" font-family=\"Helvetica,sans-Serif\" font-size=\"14.00\" fill=\"#000000\">value = [10, 7, 38, 2, 12]</text>\n<text text-anchor=\"start\" x=\"742.5\" y=\"-1063.8\" font-family=\"Helvetica,sans-Serif\" font-size=\"14.00\" fill=\"#000000\">class = Poor</text>\n</g>\n<!-- 1 -->\n<g id=\"node2\" class=\"node\">\n<title>1</title>\n<path fill=\"#caf5b0\" stroke=\"#000000\" d=\"M759,-1020C759,-1020 617,-1020 617,-1020 611,-1020 605,-1014 605,-1008 605,-1008 605,-949 605,-949 605,-943 611,-937 617,-937 617,-937 759,-937 759,-937 765,-937 771,-943 771,-949 771,-949 771,-1008 771,-1008 771,-1014 765,-1020 759,-1020\"/>\n<text text-anchor=\"start\" x=\"613\" y=\"-1004.8\" font-family=\"Helvetica,sans-Serif\" font-size=\"14.00\" fill=\"#000000\">AvgSleepingHour ≤ 8.5</text>\n<text text-anchor=\"start\" x=\"637\" y=\"-989.8\" font-family=\"Helvetica,sans-Serif\" font-size=\"14.00\" fill=\"#000000\">entropy = 1.959</text>\n<text text-anchor=\"start\" x=\"644\" y=\"-974.8\" font-family=\"Helvetica,sans-Serif\" font-size=\"14.00\" fill=\"#000000\">samples = 12</text>\n<text text-anchor=\"start\" x=\"623\" y=\"-959.8\" font-family=\"Helvetica,sans-Serif\" font-size=\"14.00\" fill=\"#000000\">value = [1, 6, 2, 1, 2]</text>\n<text text-anchor=\"start\" x=\"631\" y=\"-944.8\" font-family=\"Helvetica,sans-Serif\" font-size=\"14.00\" fill=\"#000000\">class = Very Poor</text>\n</g>\n<!-- 0&#45;&gt;1 -->\n<g id=\"edge1\" class=\"edge\">\n<title>0&#45;&gt;1</title>\n<path fill=\"none\" stroke=\"#000000\" d=\"M749.7736,-1055.8796C742.6556,-1046.9633 735.0661,-1037.4565 727.7308,-1028.268\"/>\n<polygon fill=\"#000000\" stroke=\"#000000\" points=\"730.3425,-1025.9295 721.3682,-1020.2981 724.8719,-1030.2968 730.3425,-1025.9295\"/>\n<text text-anchor=\"middle\" x=\"718.5819\" y=\"-1041.4423\" font-family=\"Helvetica,sans-Serif\" font-size=\"14.00\" fill=\"#000000\">True</text>\n</g>\n<!-- 14 -->\n<g id=\"node15\" class=\"node\">\n<title>14</title>\n<path fill=\"#91f1df\" stroke=\"#000000\" d=\"M1016.5,-1020C1016.5,-1020 877.5,-1020 877.5,-1020 871.5,-1020 865.5,-1014 865.5,-1008 865.5,-1008 865.5,-949 865.5,-949 865.5,-943 871.5,-937 877.5,-937 877.5,-937 1016.5,-937 1016.5,-937 1022.5,-937 1028.5,-943 1028.5,-949 1028.5,-949 1028.5,-1008 1028.5,-1008 1028.5,-1014 1022.5,-1020 1016.5,-1020\"/>\n<text text-anchor=\"start\" x=\"883.5\" y=\"-1004.8\" font-family=\"Helvetica,sans-Serif\" font-size=\"14.00\" fill=\"#000000\">Concentration ≤ 6.5</text>\n<text text-anchor=\"start\" x=\"896\" y=\"-989.8\" font-family=\"Helvetica,sans-Serif\" font-size=\"14.00\" fill=\"#000000\">entropy = 1.484</text>\n<text text-anchor=\"start\" x=\"903\" y=\"-974.8\" font-family=\"Helvetica,sans-Serif\" font-size=\"14.00\" fill=\"#000000\">samples = 57</text>\n<text text-anchor=\"start\" x=\"873.5\" y=\"-959.8\" font-family=\"Helvetica,sans-Serif\" font-size=\"14.00\" fill=\"#000000\">value = [9, 1, 36, 1, 10]</text>\n<text text-anchor=\"start\" x=\"906.5\" y=\"-944.8\" font-family=\"Helvetica,sans-Serif\" font-size=\"14.00\" fill=\"#000000\">class = Poor</text>\n</g>\n<!-- 0&#45;&gt;14 -->\n<g id=\"edge14\" class=\"edge\">\n<title>0&#45;&gt;14</title>\n<path fill=\"none\" stroke=\"#000000\" d=\"M840.3592,-1055.8796C853.5925,-1046.2774 867.7697,-1035.9903 881.3264,-1026.1534\"/>\n<polygon fill=\"#000000\" stroke=\"#000000\" points=\"883.6349,-1028.8027 889.6731,-1020.0969 879.5238,-1023.1371 883.6349,-1028.8027\"/>\n<text text-anchor=\"middle\" x=\"885.7472\" y=\"-1041.0867\" font-family=\"Helvetica,sans-Serif\" font-size=\"14.00\" fill=\"#000000\">False</text>\n</g>\n<!-- 2 -->\n<g id=\"node3\" class=\"node\">\n<title>2</title>\n<path fill=\"#b4f08e\" stroke=\"#000000\" d=\"M462,-901C462,-901 340,-901 340,-901 334,-901 328,-895 328,-889 328,-889 328,-830 328,-830 328,-824 334,-818 340,-818 340,-818 462,-818 462,-818 468,-818 474,-824 474,-830 474,-830 474,-889 474,-889 474,-895 468,-901 462,-901\"/>\n<text text-anchor=\"start\" x=\"346\" y=\"-885.8\" font-family=\"Helvetica,sans-Serif\" font-size=\"14.00\" fill=\"#000000\">Confidence ≤ 3.5</text>\n<text text-anchor=\"start\" x=\"350\" y=\"-870.8\" font-family=\"Helvetica,sans-Serif\" font-size=\"14.00\" fill=\"#000000\">entropy = 1.224</text>\n<text text-anchor=\"start\" x=\"361.5\" y=\"-855.8\" font-family=\"Helvetica,sans-Serif\" font-size=\"14.00\" fill=\"#000000\">samples = 9</text>\n<text text-anchor=\"start\" x=\"336\" y=\"-840.8\" font-family=\"Helvetica,sans-Serif\" font-size=\"14.00\" fill=\"#000000\">value = [0, 6, 0, 1, 2]</text>\n<text text-anchor=\"start\" x=\"344\" y=\"-825.8\" font-family=\"Helvetica,sans-Serif\" font-size=\"14.00\" fill=\"#000000\">class = Very Poor</text>\n</g>\n<!-- 1&#45;&gt;2 -->\n<g id=\"edge2\" class=\"edge\">\n<title>1&#45;&gt;2</title>\n<path fill=\"none\" stroke=\"#000000\" d=\"M604.9877,-944.0803C566.8334,-928.2602 521.6961,-909.5447 483.5931,-893.7459\"/>\n<polygon fill=\"#000000\" stroke=\"#000000\" points=\"484.6441,-890.3928 474.0661,-889.7957 481.9629,-896.859 484.6441,-890.3928\"/>\n</g>\n<!-- 11 -->\n<g id=\"node12\" class=\"node\">\n<title>11</title>\n<path fill=\"#9cf2e2\" stroke=\"#000000\" d=\"M762.5,-901C762.5,-901 613.5,-901 613.5,-901 607.5,-901 601.5,-895 601.5,-889 601.5,-889 601.5,-830 601.5,-830 601.5,-824 607.5,-818 613.5,-818 613.5,-818 762.5,-818 762.5,-818 768.5,-818 774.5,-824 774.5,-830 774.5,-830 774.5,-889 774.5,-889 774.5,-895 768.5,-901 762.5,-901\"/>\n<text text-anchor=\"start\" x=\"609.5\" y=\"-885.8\" font-family=\"Helvetica,sans-Serif\" font-size=\"14.00\" fill=\"#000000\">DSocialMediaHour ≤ 3.5</text>\n<text text-anchor=\"start\" x=\"637\" y=\"-870.8\" font-family=\"Helvetica,sans-Serif\" font-size=\"14.00\" fill=\"#000000\">entropy = 0.918</text>\n<text text-anchor=\"start\" x=\"648.5\" y=\"-855.8\" font-family=\"Helvetica,sans-Serif\" font-size=\"14.00\" fill=\"#000000\">samples = 3</text>\n<text text-anchor=\"start\" x=\"623\" y=\"-840.8\" font-family=\"Helvetica,sans-Serif\" font-size=\"14.00\" fill=\"#000000\">value = [1, 0, 2, 0, 0]</text>\n<text text-anchor=\"start\" x=\"647.5\" y=\"-825.8\" font-family=\"Helvetica,sans-Serif\" font-size=\"14.00\" fill=\"#000000\">class = Poor</text>\n</g>\n<!-- 1&#45;&gt;11 -->\n<g id=\"edge11\" class=\"edge\">\n<title>1&#45;&gt;11</title>\n<path fill=\"none\" stroke=\"#000000\" d=\"M688,-936.8796C688,-928.6838 688,-919.9891 688,-911.5013\"/>\n<polygon fill=\"#000000\" stroke=\"#000000\" points=\"691.5001,-911.298 688,-901.2981 684.5001,-911.2981 691.5001,-911.298\"/>\n</g>\n<!-- 3 -->\n<g id=\"node4\" class=\"node\">\n<title>3</title>\n<path fill=\"#ffffff\" stroke=\"#000000\" d=\"M298,-782C298,-782 176,-782 176,-782 170,-782 164,-776 164,-770 164,-770 164,-711 164,-711 164,-705 170,-699 176,-699 176,-699 298,-699 298,-699 304,-699 310,-705 310,-711 310,-711 310,-770 310,-770 310,-776 304,-782 298,-782\"/>\n<text text-anchor=\"start\" x=\"179.5\" y=\"-766.8\" font-family=\"Helvetica,sans-Serif\" font-size=\"14.00\" fill=\"#000000\">DStudyHour ≤ 1.0</text>\n<text text-anchor=\"start\" x=\"194.5\" y=\"-751.8\" font-family=\"Helvetica,sans-Serif\" font-size=\"14.00\" fill=\"#000000\">entropy = 1.0</text>\n<text text-anchor=\"start\" x=\"197.5\" y=\"-736.8\" font-family=\"Helvetica,sans-Serif\" font-size=\"14.00\" fill=\"#000000\">samples = 2</text>\n<text text-anchor=\"start\" x=\"172\" y=\"-721.8\" font-family=\"Helvetica,sans-Serif\" font-size=\"14.00\" fill=\"#000000\">value = [0, 0, 0, 1, 1]</text>\n<text text-anchor=\"start\" x=\"194\" y=\"-706.8\" font-family=\"Helvetica,sans-Serif\" font-size=\"14.00\" fill=\"#000000\">class = Good</text>\n</g>\n<!-- 2&#45;&gt;3 -->\n<g id=\"edge3\" class=\"edge\">\n<title>2&#45;&gt;3</title>\n<path fill=\"none\" stroke=\"#000000\" d=\"M343.6408,-817.8796C330.4075,-808.2774 316.2303,-797.9903 302.6736,-788.1534\"/>\n<polygon fill=\"#000000\" stroke=\"#000000\" points=\"304.4762,-785.1371 294.3269,-782.0969 300.3651,-790.8027 304.4762,-785.1371\"/>\n</g>\n<!-- 6 -->\n<g id=\"node7\" class=\"node\">\n<title>6</title>\n<path fill=\"#91e95a\" stroke=\"#000000\" d=\"M462,-782C462,-782 340,-782 340,-782 334,-782 328,-776 328,-770 328,-770 328,-711 328,-711 328,-705 334,-699 340,-699 340,-699 462,-699 462,-699 468,-699 474,-705 474,-711 474,-711 474,-770 474,-770 474,-776 468,-782 462,-782\"/>\n<text text-anchor=\"start\" x=\"346\" y=\"-766.8\" font-family=\"Helvetica,sans-Serif\" font-size=\"14.00\" fill=\"#000000\">Confidence ≤ 8.0</text>\n<text text-anchor=\"start\" x=\"350\" y=\"-751.8\" font-family=\"Helvetica,sans-Serif\" font-size=\"14.00\" fill=\"#000000\">entropy = 0.592</text>\n<text text-anchor=\"start\" x=\"361.5\" y=\"-736.8\" font-family=\"Helvetica,sans-Serif\" font-size=\"14.00\" fill=\"#000000\">samples = 7</text>\n<text text-anchor=\"start\" x=\"336\" y=\"-721.8\" font-family=\"Helvetica,sans-Serif\" font-size=\"14.00\" fill=\"#000000\">value = [0, 6, 0, 0, 1]</text>\n<text text-anchor=\"start\" x=\"344\" y=\"-706.8\" font-family=\"Helvetica,sans-Serif\" font-size=\"14.00\" fill=\"#000000\">class = Very Poor</text>\n</g>\n<!-- 2&#45;&gt;6 -->\n<g id=\"edge6\" class=\"edge\">\n<title>2&#45;&gt;6</title>\n<path fill=\"none\" stroke=\"#000000\" d=\"M401,-817.8796C401,-809.6838 401,-800.9891 401,-792.5013\"/>\n<polygon fill=\"#000000\" stroke=\"#000000\" points=\"404.5001,-792.298 401,-782.2981 397.5001,-792.2981 404.5001,-792.298\"/>\n</g>\n<!-- 4 -->\n<g id=\"node5\" class=\"node\">\n<title>4</title>\n<path fill=\"#3c39e5\" stroke=\"#000000\" d=\"M134,-655.5C134,-655.5 12,-655.5 12,-655.5 6,-655.5 0,-649.5 0,-643.5 0,-643.5 0,-599.5 0,-599.5 0,-593.5 6,-587.5 12,-587.5 12,-587.5 134,-587.5 134,-587.5 140,-587.5 146,-593.5 146,-599.5 146,-599.5 146,-643.5 146,-643.5 146,-649.5 140,-655.5 134,-655.5\"/>\n<text text-anchor=\"start\" x=\"30.5\" y=\"-640.3\" font-family=\"Helvetica,sans-Serif\" font-size=\"14.00\" fill=\"#000000\">entropy = 0.0</text>\n<text text-anchor=\"start\" x=\"33.5\" y=\"-625.3\" font-family=\"Helvetica,sans-Serif\" font-size=\"14.00\" fill=\"#000000\">samples = 1</text>\n<text text-anchor=\"start\" x=\"8\" y=\"-610.3\" font-family=\"Helvetica,sans-Serif\" font-size=\"14.00\" fill=\"#000000\">value = [0, 0, 0, 1, 0]</text>\n<text text-anchor=\"start\" x=\"30\" y=\"-595.3\" font-family=\"Helvetica,sans-Serif\" font-size=\"14.00\" fill=\"#000000\">class = Good</text>\n</g>\n<!-- 3&#45;&gt;4 -->\n<g id=\"edge4\" class=\"edge\">\n<title>3&#45;&gt;4</title>\n<path fill=\"none\" stroke=\"#000000\" d=\"M179.6408,-698.8796C163.0439,-686.8368 144.9625,-673.7167 128.4824,-661.7586\"/>\n<polygon fill=\"#000000\" stroke=\"#000000\" points=\"130.176,-658.6632 120.0267,-655.623 126.0649,-664.3288 130.176,-658.6632\"/>\n</g>\n<!-- 5 -->\n<g id=\"node6\" class=\"node\">\n<title>5</title>\n<path fill=\"#e539c0\" stroke=\"#000000\" d=\"M298,-655.5C298,-655.5 176,-655.5 176,-655.5 170,-655.5 164,-649.5 164,-643.5 164,-643.5 164,-599.5 164,-599.5 164,-593.5 170,-587.5 176,-587.5 176,-587.5 298,-587.5 298,-587.5 304,-587.5 310,-593.5 310,-599.5 310,-599.5 310,-643.5 310,-643.5 310,-649.5 304,-655.5 298,-655.5\"/>\n<text text-anchor=\"start\" x=\"194.5\" y=\"-640.3\" font-family=\"Helvetica,sans-Serif\" font-size=\"14.00\" fill=\"#000000\">entropy = 0.0</text>\n<text text-anchor=\"start\" x=\"197.5\" y=\"-625.3\" font-family=\"Helvetica,sans-Serif\" font-size=\"14.00\" fill=\"#000000\">samples = 1</text>\n<text text-anchor=\"start\" x=\"172\" y=\"-610.3\" font-family=\"Helvetica,sans-Serif\" font-size=\"14.00\" fill=\"#000000\">value = [0, 0, 0, 0, 1]</text>\n<text text-anchor=\"start\" x=\"177.5\" y=\"-595.3\" font-family=\"Helvetica,sans-Serif\" font-size=\"14.00\" fill=\"#000000\">class = Very Good</text>\n</g>\n<!-- 3&#45;&gt;5 -->\n<g id=\"edge5\" class=\"edge\">\n<title>3&#45;&gt;5</title>\n<path fill=\"none\" stroke=\"#000000\" d=\"M237,-698.8796C237,-688.2134 237,-676.7021 237,-665.9015\"/>\n<polygon fill=\"#000000\" stroke=\"#000000\" points=\"240.5001,-665.8149 237,-655.8149 233.5001,-665.815 240.5001,-665.8149\"/>\n</g>\n<!-- 7 -->\n<g id=\"node8\" class=\"node\">\n<title>7</title>\n<path fill=\"#7be539\" stroke=\"#000000\" d=\"M462,-655.5C462,-655.5 340,-655.5 340,-655.5 334,-655.5 328,-649.5 328,-643.5 328,-643.5 328,-599.5 328,-599.5 328,-593.5 334,-587.5 340,-587.5 340,-587.5 462,-587.5 462,-587.5 468,-587.5 474,-593.5 474,-599.5 474,-599.5 474,-643.5 474,-643.5 474,-649.5 468,-655.5 462,-655.5\"/>\n<text text-anchor=\"start\" x=\"358.5\" y=\"-640.3\" font-family=\"Helvetica,sans-Serif\" font-size=\"14.00\" fill=\"#000000\">entropy = 0.0</text>\n<text text-anchor=\"start\" x=\"361.5\" y=\"-625.3\" font-family=\"Helvetica,sans-Serif\" font-size=\"14.00\" fill=\"#000000\">samples = 5</text>\n<text text-anchor=\"start\" x=\"336\" y=\"-610.3\" font-family=\"Helvetica,sans-Serif\" font-size=\"14.00\" fill=\"#000000\">value = [0, 5, 0, 0, 0]</text>\n<text text-anchor=\"start\" x=\"344\" y=\"-595.3\" font-family=\"Helvetica,sans-Serif\" font-size=\"14.00\" fill=\"#000000\">class = Very Poor</text>\n</g>\n<!-- 6&#45;&gt;7 -->\n<g id=\"edge7\" class=\"edge\">\n<title>6&#45;&gt;7</title>\n<path fill=\"none\" stroke=\"#000000\" d=\"M401,-698.8796C401,-688.2134 401,-676.7021 401,-665.9015\"/>\n<polygon fill=\"#000000\" stroke=\"#000000\" points=\"404.5001,-665.8149 401,-655.8149 397.5001,-665.815 404.5001,-665.8149\"/>\n</g>\n<!-- 8 -->\n<g id=\"node9\" class=\"node\">\n<title>8</title>\n<path fill=\"#ffffff\" stroke=\"#000000\" d=\"M626,-663C626,-663 504,-663 504,-663 498,-663 492,-657 492,-651 492,-651 492,-592 492,-592 492,-586 498,-580 504,-580 504,-580 626,-580 626,-580 632,-580 638,-586 638,-592 638,-592 638,-651 638,-651 638,-657 632,-663 626,-663\"/>\n<text text-anchor=\"start\" x=\"508.5\" y=\"-647.8\" font-family=\"Helvetica,sans-Serif\" font-size=\"14.00\" fill=\"#000000\">AvgCTMark ≤ 8.5</text>\n<text text-anchor=\"start\" x=\"522.5\" y=\"-632.8\" font-family=\"Helvetica,sans-Serif\" font-size=\"14.00\" fill=\"#000000\">entropy = 1.0</text>\n<text text-anchor=\"start\" x=\"525.5\" y=\"-617.8\" font-family=\"Helvetica,sans-Serif\" font-size=\"14.00\" fill=\"#000000\">samples = 2</text>\n<text text-anchor=\"start\" x=\"500\" y=\"-602.8\" font-family=\"Helvetica,sans-Serif\" font-size=\"14.00\" fill=\"#000000\">value = [0, 1, 0, 0, 1]</text>\n<text text-anchor=\"start\" x=\"508\" y=\"-587.8\" font-family=\"Helvetica,sans-Serif\" font-size=\"14.00\" fill=\"#000000\">class = Very Poor</text>\n</g>\n<!-- 6&#45;&gt;8 -->\n<g id=\"edge8\" class=\"edge\">\n<title>6&#45;&gt;8</title>\n<path fill=\"none\" stroke=\"#000000\" d=\"M458.3592,-698.8796C471.5925,-689.2774 485.7697,-678.9903 499.3264,-669.1534\"/>\n<polygon fill=\"#000000\" stroke=\"#000000\" points=\"501.6349,-671.8027 507.6731,-663.0969 497.5238,-666.1371 501.6349,-671.8027\"/>\n</g>\n<!-- 9 -->\n<g id=\"node10\" class=\"node\">\n<title>9</title>\n<path fill=\"#7be539\" stroke=\"#000000\" d=\"M465,-536.5C465,-536.5 343,-536.5 343,-536.5 337,-536.5 331,-530.5 331,-524.5 331,-524.5 331,-480.5 331,-480.5 331,-474.5 337,-468.5 343,-468.5 343,-468.5 465,-468.5 465,-468.5 471,-468.5 477,-474.5 477,-480.5 477,-480.5 477,-524.5 477,-524.5 477,-530.5 471,-536.5 465,-536.5\"/>\n<text text-anchor=\"start\" x=\"361.5\" y=\"-521.3\" font-family=\"Helvetica,sans-Serif\" font-size=\"14.00\" fill=\"#000000\">entropy = 0.0</text>\n<text text-anchor=\"start\" x=\"364.5\" y=\"-506.3\" font-family=\"Helvetica,sans-Serif\" font-size=\"14.00\" fill=\"#000000\">samples = 1</text>\n<text text-anchor=\"start\" x=\"339\" y=\"-491.3\" font-family=\"Helvetica,sans-Serif\" font-size=\"14.00\" fill=\"#000000\">value = [0, 1, 0, 0, 0]</text>\n<text text-anchor=\"start\" x=\"347\" y=\"-476.3\" font-family=\"Helvetica,sans-Serif\" font-size=\"14.00\" fill=\"#000000\">class = Very Poor</text>\n</g>\n<!-- 8&#45;&gt;9 -->\n<g id=\"edge9\" class=\"edge\">\n<title>8&#45;&gt;9</title>\n<path fill=\"none\" stroke=\"#000000\" d=\"M508.69,-579.8796C492.3968,-567.8368 474.6461,-554.7167 458.4675,-542.7586\"/>\n<polygon fill=\"#000000\" stroke=\"#000000\" points=\"460.2886,-539.7524 450.1665,-536.623 456.1279,-545.3816 460.2886,-539.7524\"/>\n</g>\n<!-- 10 -->\n<g id=\"node11\" class=\"node\">\n<title>10</title>\n<path fill=\"#e539c0\" stroke=\"#000000\" d=\"M629,-536.5C629,-536.5 507,-536.5 507,-536.5 501,-536.5 495,-530.5 495,-524.5 495,-524.5 495,-480.5 495,-480.5 495,-474.5 501,-468.5 507,-468.5 507,-468.5 629,-468.5 629,-468.5 635,-468.5 641,-474.5 641,-480.5 641,-480.5 641,-524.5 641,-524.5 641,-530.5 635,-536.5 629,-536.5\"/>\n<text text-anchor=\"start\" x=\"525.5\" y=\"-521.3\" font-family=\"Helvetica,sans-Serif\" font-size=\"14.00\" fill=\"#000000\">entropy = 0.0</text>\n<text text-anchor=\"start\" x=\"528.5\" y=\"-506.3\" font-family=\"Helvetica,sans-Serif\" font-size=\"14.00\" fill=\"#000000\">samples = 1</text>\n<text text-anchor=\"start\" x=\"503\" y=\"-491.3\" font-family=\"Helvetica,sans-Serif\" font-size=\"14.00\" fill=\"#000000\">value = [0, 0, 0, 0, 1]</text>\n<text text-anchor=\"start\" x=\"508.5\" y=\"-476.3\" font-family=\"Helvetica,sans-Serif\" font-size=\"14.00\" fill=\"#000000\">class = Very Good</text>\n</g>\n<!-- 8&#45;&gt;10 -->\n<g id=\"edge10\" class=\"edge\">\n<title>8&#45;&gt;10</title>\n<path fill=\"none\" stroke=\"#000000\" d=\"M566.0493,-579.8796C566.3182,-569.2134 566.6084,-557.7021 566.8806,-546.9015\"/>\n<polygon fill=\"#000000\" stroke=\"#000000\" points=\"570.3817,-546.9 567.1349,-536.8149 563.3839,-546.7235 570.3817,-546.9\"/>\n</g>\n<!-- 12 -->\n<g id=\"node13\" class=\"node\">\n<title>12</title>\n<path fill=\"#39e5c5\" stroke=\"#000000\" d=\"M626,-774.5C626,-774.5 504,-774.5 504,-774.5 498,-774.5 492,-768.5 492,-762.5 492,-762.5 492,-718.5 492,-718.5 492,-712.5 498,-706.5 504,-706.5 504,-706.5 626,-706.5 626,-706.5 632,-706.5 638,-712.5 638,-718.5 638,-718.5 638,-762.5 638,-762.5 638,-768.5 632,-774.5 626,-774.5\"/>\n<text text-anchor=\"start\" x=\"522.5\" y=\"-759.3\" font-family=\"Helvetica,sans-Serif\" font-size=\"14.00\" fill=\"#000000\">entropy = 0.0</text>\n<text text-anchor=\"start\" x=\"525.5\" y=\"-744.3\" font-family=\"Helvetica,sans-Serif\" font-size=\"14.00\" fill=\"#000000\">samples = 2</text>\n<text text-anchor=\"start\" x=\"500\" y=\"-729.3\" font-family=\"Helvetica,sans-Serif\" font-size=\"14.00\" fill=\"#000000\">value = [0, 0, 2, 0, 0]</text>\n<text text-anchor=\"start\" x=\"524.5\" y=\"-714.3\" font-family=\"Helvetica,sans-Serif\" font-size=\"14.00\" fill=\"#000000\">class = Poor</text>\n</g>\n<!-- 11&#45;&gt;12 -->\n<g id=\"edge12\" class=\"edge\">\n<title>11&#45;&gt;12</title>\n<path fill=\"none\" stroke=\"#000000\" d=\"M644.9806,-817.8796C632.9329,-806.2237 619.8422,-793.5587 607.8069,-781.9148\"/>\n<polygon fill=\"#000000\" stroke=\"#000000\" points=\"610.089,-779.2528 600.4684,-774.8149 605.2217,-784.2837 610.089,-779.2528\"/>\n</g>\n<!-- 13 -->\n<g id=\"node14\" class=\"node\">\n<title>13</title>\n<path fill=\"#e58139\" stroke=\"#000000\" d=\"M790,-774.5C790,-774.5 668,-774.5 668,-774.5 662,-774.5 656,-768.5 656,-762.5 656,-762.5 656,-718.5 656,-718.5 656,-712.5 662,-706.5 668,-706.5 668,-706.5 790,-706.5 790,-706.5 796,-706.5 802,-712.5 802,-718.5 802,-718.5 802,-762.5 802,-762.5 802,-768.5 796,-774.5 790,-774.5\"/>\n<text text-anchor=\"start\" x=\"686.5\" y=\"-759.3\" font-family=\"Helvetica,sans-Serif\" font-size=\"14.00\" fill=\"#000000\">entropy = 0.0</text>\n<text text-anchor=\"start\" x=\"689.5\" y=\"-744.3\" font-family=\"Helvetica,sans-Serif\" font-size=\"14.00\" fill=\"#000000\">samples = 1</text>\n<text text-anchor=\"start\" x=\"664\" y=\"-729.3\" font-family=\"Helvetica,sans-Serif\" font-size=\"14.00\" fill=\"#000000\">value = [1, 0, 0, 0, 0]</text>\n<text text-anchor=\"start\" x=\"692.5\" y=\"-714.3\" font-family=\"Helvetica,sans-Serif\" font-size=\"14.00\" fill=\"#000000\">class = Fail</text>\n</g>\n<!-- 11&#45;&gt;13 -->\n<g id=\"edge13\" class=\"edge\">\n<title>11&#45;&gt;13</title>\n<path fill=\"none\" stroke=\"#000000\" d=\"M702.3398,-817.8796C706.0526,-807.1034 710.0626,-795.4647 713.817,-784.5677\"/>\n<polygon fill=\"#000000\" stroke=\"#000000\" points=\"717.2288,-785.4096 717.1772,-774.8149 710.6106,-783.1294 717.2288,-785.4096\"/>\n</g>\n<!-- 15 -->\n<g id=\"node16\" class=\"node\">\n<title>15</title>\n<path fill=\"#d0f9f1\" stroke=\"#000000\" d=\"M1020.5,-901C1020.5,-901 873.5,-901 873.5,-901 867.5,-901 861.5,-895 861.5,-889 861.5,-889 861.5,-830 861.5,-830 861.5,-824 867.5,-818 873.5,-818 873.5,-818 1020.5,-818 1020.5,-818 1026.5,-818 1032.5,-824 1032.5,-830 1032.5,-830 1032.5,-889 1032.5,-889 1032.5,-895 1026.5,-901 1020.5,-901\"/>\n<text text-anchor=\"start\" x=\"869.5\" y=\"-885.8\" font-family=\"Helvetica,sans-Serif\" font-size=\"14.00\" fill=\"#000000\">ClassAttendance ≤ 87.5</text>\n<text text-anchor=\"start\" x=\"896\" y=\"-870.8\" font-family=\"Helvetica,sans-Serif\" font-size=\"14.00\" fill=\"#000000\">entropy = 1.867</text>\n<text text-anchor=\"start\" x=\"903\" y=\"-855.8\" font-family=\"Helvetica,sans-Serif\" font-size=\"14.00\" fill=\"#000000\">samples = 28</text>\n<text text-anchor=\"start\" x=\"877.5\" y=\"-840.8\" font-family=\"Helvetica,sans-Serif\" font-size=\"14.00\" fill=\"#000000\">value = [7, 1, 12, 1, 7]</text>\n<text text-anchor=\"start\" x=\"906.5\" y=\"-825.8\" font-family=\"Helvetica,sans-Serif\" font-size=\"14.00\" fill=\"#000000\">class = Poor</text>\n</g>\n<!-- 14&#45;&gt;15 -->\n<g id=\"edge15\" class=\"edge\">\n<title>14&#45;&gt;15</title>\n<path fill=\"none\" stroke=\"#000000\" d=\"M947,-936.8796C947,-928.6838 947,-919.9891 947,-911.5013\"/>\n<polygon fill=\"#000000\" stroke=\"#000000\" points=\"950.5001,-911.298 947,-901.2981 943.5001,-911.2981 950.5001,-911.298\"/>\n</g>\n<!-- 46 -->\n<g id=\"node47\" class=\"node\">\n<title>46</title>\n<path fill=\"#5fead0\" stroke=\"#000000\" d=\"M1749.5,-901C1749.5,-901 1618.5,-901 1618.5,-901 1612.5,-901 1606.5,-895 1606.5,-889 1606.5,-889 1606.5,-830 1606.5,-830 1606.5,-824 1612.5,-818 1618.5,-818 1618.5,-818 1749.5,-818 1749.5,-818 1755.5,-818 1761.5,-824 1761.5,-830 1761.5,-830 1761.5,-889 1761.5,-889 1761.5,-895 1755.5,-901 1749.5,-901\"/>\n<text text-anchor=\"start\" x=\"1623.5\" y=\"-885.8\" font-family=\"Helvetica,sans-Serif\" font-size=\"14.00\" fill=\"#000000\">AvgCTMark ≤ 13.5</text>\n<text text-anchor=\"start\" x=\"1633\" y=\"-870.8\" font-family=\"Helvetica,sans-Serif\" font-size=\"14.00\" fill=\"#000000\">entropy = 0.831</text>\n<text text-anchor=\"start\" x=\"1640\" y=\"-855.8\" font-family=\"Helvetica,sans-Serif\" font-size=\"14.00\" fill=\"#000000\">samples = 29</text>\n<text text-anchor=\"start\" x=\"1614.5\" y=\"-840.8\" font-family=\"Helvetica,sans-Serif\" font-size=\"14.00\" fill=\"#000000\">value = [2, 0, 24, 0, 3]</text>\n<text text-anchor=\"start\" x=\"1643.5\" y=\"-825.8\" font-family=\"Helvetica,sans-Serif\" font-size=\"14.00\" fill=\"#000000\">class = Poor</text>\n</g>\n<!-- 14&#45;&gt;46 -->\n<g id=\"edge46\" class=\"edge\">\n<title>14&#45;&gt;46</title>\n<path fill=\"none\" stroke=\"#000000\" d=\"M1028.6878,-965.3102C1168.4981,-942.7357 1452.4594,-896.8858 1596.2919,-873.6618\"/>\n<polygon fill=\"#000000\" stroke=\"#000000\" points=\"1597.0875,-877.0788 1606.4017,-872.0294 1595.9717,-870.1683 1597.0875,-877.0788\"/>\n</g>\n<!-- 16 -->\n<g id=\"node17\" class=\"node\">\n<title>16</title>\n<path fill=\"#aaf4e6\" stroke=\"#000000\" d=\"M981.5,-782C981.5,-782 832.5,-782 832.5,-782 826.5,-782 820.5,-776 820.5,-770 820.5,-770 820.5,-711 820.5,-711 820.5,-705 826.5,-699 832.5,-699 832.5,-699 981.5,-699 981.5,-699 987.5,-699 993.5,-705 993.5,-711 993.5,-711 993.5,-770 993.5,-770 993.5,-776 987.5,-782 981.5,-782\"/>\n<text text-anchor=\"start\" x=\"828.5\" y=\"-766.8\" font-family=\"Helvetica,sans-Serif\" font-size=\"14.00\" fill=\"#000000\">DSocialMediaHour ≤ 1.5</text>\n<text text-anchor=\"start\" x=\"856\" y=\"-751.8\" font-family=\"Helvetica,sans-Serif\" font-size=\"14.00\" fill=\"#000000\">entropy = 1.295</text>\n<text text-anchor=\"start\" x=\"863\" y=\"-736.8\" font-family=\"Helvetica,sans-Serif\" font-size=\"14.00\" fill=\"#000000\">samples = 10</text>\n<text text-anchor=\"start\" x=\"842\" y=\"-721.8\" font-family=\"Helvetica,sans-Serif\" font-size=\"14.00\" fill=\"#000000\">value = [0, 1, 6, 0, 3]</text>\n<text text-anchor=\"start\" x=\"866.5\" y=\"-706.8\" font-family=\"Helvetica,sans-Serif\" font-size=\"14.00\" fill=\"#000000\">class = Poor</text>\n</g>\n<!-- 15&#45;&gt;16 -->\n<g id=\"edge16\" class=\"edge\">\n<title>15&#45;&gt;16</title>\n<path fill=\"none\" stroke=\"#000000\" d=\"M933.0099,-817.8796C930.1945,-809.5037 927.2039,-800.6067 924.2914,-791.942\"/>\n<polygon fill=\"#000000\" stroke=\"#000000\" points=\"927.5536,-790.6617 921.0498,-782.2981 920.9184,-792.8921 927.5536,-790.6617\"/>\n</g>\n<!-- 23 -->\n<g id=\"node24\" class=\"node\">\n<title>23</title>\n<path fill=\"#fdf4ee\" stroke=\"#000000\" d=\"M1166,-782C1166,-782 1024,-782 1024,-782 1018,-782 1012,-776 1012,-770 1012,-770 1012,-711 1012,-711 1012,-705 1018,-699 1024,-699 1024,-699 1166,-699 1166,-699 1172,-699 1178,-705 1178,-711 1178,-711 1178,-770 1178,-770 1178,-776 1172,-782 1166,-782\"/>\n<text text-anchor=\"start\" x=\"1020\" y=\"-766.8\" font-family=\"Helvetica,sans-Serif\" font-size=\"14.00\" fill=\"#000000\">AvgSleepingHour ≤ 6.5</text>\n<text text-anchor=\"start\" x=\"1044\" y=\"-751.8\" font-family=\"Helvetica,sans-Serif\" font-size=\"14.00\" fill=\"#000000\">entropy = 1.772</text>\n<text text-anchor=\"start\" x=\"1051\" y=\"-736.8\" font-family=\"Helvetica,sans-Serif\" font-size=\"14.00\" fill=\"#000000\">samples = 18</text>\n<text text-anchor=\"start\" x=\"1030\" y=\"-721.8\" font-family=\"Helvetica,sans-Serif\" font-size=\"14.00\" fill=\"#000000\">value = [7, 0, 6, 1, 4]</text>\n<text text-anchor=\"start\" x=\"1058.5\" y=\"-706.8\" font-family=\"Helvetica,sans-Serif\" font-size=\"14.00\" fill=\"#000000\">class = Fail</text>\n</g>\n<!-- 15&#45;&gt;23 -->\n<g id=\"edge23\" class=\"edge\">\n<title>15&#45;&gt;23</title>\n<path fill=\"none\" stroke=\"#000000\" d=\"M998.7632,-817.8796C1010.5928,-808.368 1023.2581,-798.1843 1035.3871,-788.432\"/>\n<polygon fill=\"#000000\" stroke=\"#000000\" points=\"1037.6659,-791.0908 1043.266,-782.0969 1033.2796,-785.6355 1037.6659,-791.0908\"/>\n</g>\n<!-- 17 -->\n<g id=\"node18\" class=\"node\">\n<title>17</title>\n<path fill=\"#7be539\" stroke=\"#000000\" d=\"M794,-655.5C794,-655.5 672,-655.5 672,-655.5 666,-655.5 660,-649.5 660,-643.5 660,-643.5 660,-599.5 660,-599.5 660,-593.5 666,-587.5 672,-587.5 672,-587.5 794,-587.5 794,-587.5 800,-587.5 806,-593.5 806,-599.5 806,-599.5 806,-643.5 806,-643.5 806,-649.5 800,-655.5 794,-655.5\"/>\n<text text-anchor=\"start\" x=\"690.5\" y=\"-640.3\" font-family=\"Helvetica,sans-Serif\" font-size=\"14.00\" fill=\"#000000\">entropy = 0.0</text>\n<text text-anchor=\"start\" x=\"693.5\" y=\"-625.3\" font-family=\"Helvetica,sans-Serif\" font-size=\"14.00\" fill=\"#000000\">samples = 1</text>\n<text text-anchor=\"start\" x=\"668\" y=\"-610.3\" font-family=\"Helvetica,sans-Serif\" font-size=\"14.00\" fill=\"#000000\">value = [0, 1, 0, 0, 0]</text>\n<text text-anchor=\"start\" x=\"676\" y=\"-595.3\" font-family=\"Helvetica,sans-Serif\" font-size=\"14.00\" fill=\"#000000\">class = Very Poor</text>\n</g>\n<!-- 16&#45;&gt;17 -->\n<g id=\"edge17\" class=\"edge\">\n<title>16&#45;&gt;17</title>\n<path fill=\"none\" stroke=\"#000000\" d=\"M846.1432,-698.8796C828.3729,-686.7263 808.9983,-673.4759 791.3847,-661.4297\"/>\n<polygon fill=\"#000000\" stroke=\"#000000\" points=\"793.1243,-658.3792 782.8942,-655.623 789.1726,-664.1572 793.1243,-658.3792\"/>\n</g>\n<!-- 18 -->\n<g id=\"node19\" class=\"node\">\n<title>18</title>\n<path fill=\"#9cf2e2\" stroke=\"#000000\" d=\"M978,-663C978,-663 836,-663 836,-663 830,-663 824,-657 824,-651 824,-651 824,-592 824,-592 824,-586 830,-580 836,-580 836,-580 978,-580 978,-580 984,-580 990,-586 990,-592 990,-592 990,-651 990,-651 990,-657 984,-663 978,-663\"/>\n<text text-anchor=\"start\" x=\"832\" y=\"-647.8\" font-family=\"Helvetica,sans-Serif\" font-size=\"14.00\" fill=\"#000000\">AvgSleepingHour ≤ 7.5</text>\n<text text-anchor=\"start\" x=\"856\" y=\"-632.8\" font-family=\"Helvetica,sans-Serif\" font-size=\"14.00\" fill=\"#000000\">entropy = 0.918</text>\n<text text-anchor=\"start\" x=\"867.5\" y=\"-617.8\" font-family=\"Helvetica,sans-Serif\" font-size=\"14.00\" fill=\"#000000\">samples = 9</text>\n<text text-anchor=\"start\" x=\"842\" y=\"-602.8\" font-family=\"Helvetica,sans-Serif\" font-size=\"14.00\" fill=\"#000000\">value = [0, 0, 6, 0, 3]</text>\n<text text-anchor=\"start\" x=\"866.5\" y=\"-587.8\" font-family=\"Helvetica,sans-Serif\" font-size=\"14.00\" fill=\"#000000\">class = Poor</text>\n</g>\n<!-- 16&#45;&gt;18 -->\n<g id=\"edge18\" class=\"edge\">\n<title>16&#45;&gt;18</title>\n<path fill=\"none\" stroke=\"#000000\" d=\"M907,-698.8796C907,-690.6838 907,-681.9891 907,-673.5013\"/>\n<polygon fill=\"#000000\" stroke=\"#000000\" points=\"910.5001,-673.298 907,-663.2981 903.5001,-673.2981 910.5001,-673.298\"/>\n</g>\n<!-- 19 -->\n<g id=\"node20\" class=\"node\">\n<title>19</title>\n<path fill=\"#39e5c5\" stroke=\"#000000\" d=\"M797,-536.5C797,-536.5 675,-536.5 675,-536.5 669,-536.5 663,-530.5 663,-524.5 663,-524.5 663,-480.5 663,-480.5 663,-474.5 669,-468.5 675,-468.5 675,-468.5 797,-468.5 797,-468.5 803,-468.5 809,-474.5 809,-480.5 809,-480.5 809,-524.5 809,-524.5 809,-530.5 803,-536.5 797,-536.5\"/>\n<text text-anchor=\"start\" x=\"693.5\" y=\"-521.3\" font-family=\"Helvetica,sans-Serif\" font-size=\"14.00\" fill=\"#000000\">entropy = 0.0</text>\n<text text-anchor=\"start\" x=\"696.5\" y=\"-506.3\" font-family=\"Helvetica,sans-Serif\" font-size=\"14.00\" fill=\"#000000\">samples = 4</text>\n<text text-anchor=\"start\" x=\"671\" y=\"-491.3\" font-family=\"Helvetica,sans-Serif\" font-size=\"14.00\" fill=\"#000000\">value = [0, 0, 4, 0, 0]</text>\n<text text-anchor=\"start\" x=\"695.5\" y=\"-476.3\" font-family=\"Helvetica,sans-Serif\" font-size=\"14.00\" fill=\"#000000\">class = Poor</text>\n</g>\n<!-- 18&#45;&gt;19 -->\n<g id=\"edge19\" class=\"edge\">\n<title>18&#45;&gt;19</title>\n<path fill=\"none\" stroke=\"#000000\" d=\"M847.1925,-579.8796C829.7285,-567.7263 810.688,-554.4759 793.378,-542.4297\"/>\n<polygon fill=\"#000000\" stroke=\"#000000\" points=\"795.2413,-539.4623 785.0339,-536.623 791.2428,-545.208 795.2413,-539.4623\"/>\n</g>\n<!-- 20 -->\n<g id=\"node21\" class=\"node\">\n<title>20</title>\n<path fill=\"#f6bdea\" stroke=\"#000000\" d=\"M975,-544C975,-544 839,-544 839,-544 833,-544 827,-538 827,-532 827,-532 827,-473 827,-473 827,-467 833,-461 839,-461 839,-461 975,-461 975,-461 981,-461 987,-467 987,-473 987,-473 987,-532 987,-532 987,-538 981,-544 975,-544\"/>\n<text text-anchor=\"start\" x=\"835\" y=\"-528.8\" font-family=\"Helvetica,sans-Serif\" font-size=\"14.00\" fill=\"#000000\">PSSleepingHour ≤ 7.5</text>\n<text text-anchor=\"start\" x=\"856\" y=\"-513.8\" font-family=\"Helvetica,sans-Serif\" font-size=\"14.00\" fill=\"#000000\">entropy = 0.971</text>\n<text text-anchor=\"start\" x=\"867.5\" y=\"-498.8\" font-family=\"Helvetica,sans-Serif\" font-size=\"14.00\" fill=\"#000000\">samples = 5</text>\n<text text-anchor=\"start\" x=\"842\" y=\"-483.8\" font-family=\"Helvetica,sans-Serif\" font-size=\"14.00\" fill=\"#000000\">value = [0, 0, 2, 0, 3]</text>\n<text text-anchor=\"start\" x=\"847.5\" y=\"-468.8\" font-family=\"Helvetica,sans-Serif\" font-size=\"14.00\" fill=\"#000000\">class = Very Good</text>\n</g>\n<!-- 18&#45;&gt;20 -->\n<g id=\"edge20\" class=\"edge\">\n<title>18&#45;&gt;20</title>\n<path fill=\"none\" stroke=\"#000000\" d=\"M907,-579.8796C907,-571.6838 907,-562.9891 907,-554.5013\"/>\n<polygon fill=\"#000000\" stroke=\"#000000\" points=\"910.5001,-554.298 907,-544.2981 903.5001,-554.2981 910.5001,-554.298\"/>\n</g>\n<!-- 21 -->\n<g id=\"node22\" class=\"node\">\n<title>21</title>\n<path fill=\"#e539c0\" stroke=\"#000000\" d=\"M804,-417.5C804,-417.5 682,-417.5 682,-417.5 676,-417.5 670,-411.5 670,-405.5 670,-405.5 670,-361.5 670,-361.5 670,-355.5 676,-349.5 682,-349.5 682,-349.5 804,-349.5 804,-349.5 810,-349.5 816,-355.5 816,-361.5 816,-361.5 816,-405.5 816,-405.5 816,-411.5 810,-417.5 804,-417.5\"/>\n<text text-anchor=\"start\" x=\"700.5\" y=\"-402.3\" font-family=\"Helvetica,sans-Serif\" font-size=\"14.00\" fill=\"#000000\">entropy = 0.0</text>\n<text text-anchor=\"start\" x=\"703.5\" y=\"-387.3\" font-family=\"Helvetica,sans-Serif\" font-size=\"14.00\" fill=\"#000000\">samples = 3</text>\n<text text-anchor=\"start\" x=\"678\" y=\"-372.3\" font-family=\"Helvetica,sans-Serif\" font-size=\"14.00\" fill=\"#000000\">value = [0, 0, 0, 0, 3]</text>\n<text text-anchor=\"start\" x=\"683.5\" y=\"-357.3\" font-family=\"Helvetica,sans-Serif\" font-size=\"14.00\" fill=\"#000000\">class = Very Good</text>\n</g>\n<!-- 20&#45;&gt;21 -->\n<g id=\"edge21\" class=\"edge\">\n<title>20&#45;&gt;21</title>\n<path fill=\"none\" stroke=\"#000000\" d=\"M849.6408,-460.8796C833.0439,-448.8368 814.9625,-435.7167 798.4824,-423.7586\"/>\n<polygon fill=\"#000000\" stroke=\"#000000\" points=\"800.176,-420.6632 790.0267,-417.623 796.0649,-426.3288 800.176,-420.6632\"/>\n</g>\n<!-- 22 -->\n<g id=\"node23\" class=\"node\">\n<title>22</title>\n<path fill=\"#39e5c5\" stroke=\"#000000\" d=\"M968,-417.5C968,-417.5 846,-417.5 846,-417.5 840,-417.5 834,-411.5 834,-405.5 834,-405.5 834,-361.5 834,-361.5 834,-355.5 840,-349.5 846,-349.5 846,-349.5 968,-349.5 968,-349.5 974,-349.5 980,-355.5 980,-361.5 980,-361.5 980,-405.5 980,-405.5 980,-411.5 974,-417.5 968,-417.5\"/>\n<text text-anchor=\"start\" x=\"864.5\" y=\"-402.3\" font-family=\"Helvetica,sans-Serif\" font-size=\"14.00\" fill=\"#000000\">entropy = 0.0</text>\n<text text-anchor=\"start\" x=\"867.5\" y=\"-387.3\" font-family=\"Helvetica,sans-Serif\" font-size=\"14.00\" fill=\"#000000\">samples = 2</text>\n<text text-anchor=\"start\" x=\"842\" y=\"-372.3\" font-family=\"Helvetica,sans-Serif\" font-size=\"14.00\" fill=\"#000000\">value = [0, 0, 2, 0, 0]</text>\n<text text-anchor=\"start\" x=\"866.5\" y=\"-357.3\" font-family=\"Helvetica,sans-Serif\" font-size=\"14.00\" fill=\"#000000\">class = Poor</text>\n</g>\n<!-- 20&#45;&gt;22 -->\n<g id=\"edge22\" class=\"edge\">\n<title>20&#45;&gt;22</title>\n<path fill=\"none\" stroke=\"#000000\" d=\"M907,-460.8796C907,-450.2134 907,-438.7021 907,-427.9015\"/>\n<polygon fill=\"#000000\" stroke=\"#000000\" points=\"910.5001,-427.8149 907,-417.8149 903.5001,-427.815 910.5001,-427.8149\"/>\n</g>\n<!-- 24 -->\n<g id=\"node25\" class=\"node\">\n<title>24</title>\n<path fill=\"#3c39e5\" stroke=\"#000000\" d=\"M1151,-655.5C1151,-655.5 1029,-655.5 1029,-655.5 1023,-655.5 1017,-649.5 1017,-643.5 1017,-643.5 1017,-599.5 1017,-599.5 1017,-593.5 1023,-587.5 1029,-587.5 1029,-587.5 1151,-587.5 1151,-587.5 1157,-587.5 1163,-593.5 1163,-599.5 1163,-599.5 1163,-643.5 1163,-643.5 1163,-649.5 1157,-655.5 1151,-655.5\"/>\n<text text-anchor=\"start\" x=\"1047.5\" y=\"-640.3\" font-family=\"Helvetica,sans-Serif\" font-size=\"14.00\" fill=\"#000000\">entropy = 0.0</text>\n<text text-anchor=\"start\" x=\"1050.5\" y=\"-625.3\" font-family=\"Helvetica,sans-Serif\" font-size=\"14.00\" fill=\"#000000\">samples = 1</text>\n<text text-anchor=\"start\" x=\"1025\" y=\"-610.3\" font-family=\"Helvetica,sans-Serif\" font-size=\"14.00\" fill=\"#000000\">value = [0, 0, 0, 1, 0]</text>\n<text text-anchor=\"start\" x=\"1047\" y=\"-595.3\" font-family=\"Helvetica,sans-Serif\" font-size=\"14.00\" fill=\"#000000\">class = Good</text>\n</g>\n<!-- 23&#45;&gt;24 -->\n<g id=\"edge24\" class=\"edge\">\n<title>23&#45;&gt;24</title>\n<path fill=\"none\" stroke=\"#000000\" d=\"M1093.2512,-698.8796C1092.8031,-688.2134 1092.3194,-676.7021 1091.8656,-665.9015\"/>\n<polygon fill=\"#000000\" stroke=\"#000000\" points=\"1095.3586,-665.6592 1091.4418,-655.8149 1088.3648,-665.9531 1095.3586,-665.6592\"/>\n</g>\n<!-- 25 -->\n<g id=\"node26\" class=\"node\">\n<title>25</title>\n<path fill=\"#fdf4ed\" stroke=\"#000000\" d=\"M1315,-663C1315,-663 1193,-663 1193,-663 1187,-663 1181,-657 1181,-651 1181,-651 1181,-592 1181,-592 1181,-586 1187,-580 1193,-580 1193,-580 1315,-580 1315,-580 1321,-580 1327,-586 1327,-592 1327,-592 1327,-651 1327,-651 1327,-657 1321,-663 1315,-663\"/>\n<text text-anchor=\"start\" x=\"1199\" y=\"-647.8\" font-family=\"Helvetica,sans-Serif\" font-size=\"14.00\" fill=\"#000000\">Confidence ≤ 4.5</text>\n<text text-anchor=\"start\" x=\"1203\" y=\"-632.8\" font-family=\"Helvetica,sans-Serif\" font-size=\"14.00\" fill=\"#000000\">entropy = 1.549</text>\n<text text-anchor=\"start\" x=\"1210\" y=\"-617.8\" font-family=\"Helvetica,sans-Serif\" font-size=\"14.00\" fill=\"#000000\">samples = 17</text>\n<text text-anchor=\"start\" x=\"1189\" y=\"-602.8\" font-family=\"Helvetica,sans-Serif\" font-size=\"14.00\" fill=\"#000000\">value = [7, 0, 6, 0, 4]</text>\n<text text-anchor=\"start\" x=\"1217.5\" y=\"-587.8\" font-family=\"Helvetica,sans-Serif\" font-size=\"14.00\" fill=\"#000000\">class = Fail</text>\n</g>\n<!-- 23&#45;&gt;25 -->\n<g id=\"edge25\" class=\"edge\">\n<title>23&#45;&gt;25</title>\n<path fill=\"none\" stroke=\"#000000\" d=\"M1150.6105,-698.8796C1163.4403,-689.2774 1177.1852,-678.9903 1190.3286,-669.1534\"/>\n<polygon fill=\"#000000\" stroke=\"#000000\" points=\"1192.5121,-671.891 1198.4209,-663.0969 1188.3177,-666.2868 1192.5121,-671.891\"/>\n</g>\n<!-- 26 -->\n<g id=\"node27\" class=\"node\">\n<title>26</title>\n<path fill=\"#7beed8\" stroke=\"#000000\" d=\"M1321.5,-544C1321.5,-544 1174.5,-544 1174.5,-544 1168.5,-544 1162.5,-538 1162.5,-532 1162.5,-532 1162.5,-473 1162.5,-473 1162.5,-467 1168.5,-461 1174.5,-461 1174.5,-461 1321.5,-461 1321.5,-461 1327.5,-461 1333.5,-467 1333.5,-473 1333.5,-473 1333.5,-532 1333.5,-532 1333.5,-538 1327.5,-544 1321.5,-544\"/>\n<text text-anchor=\"start\" x=\"1170.5\" y=\"-528.8\" font-family=\"Helvetica,sans-Serif\" font-size=\"14.00\" fill=\"#000000\">ClassAttendance ≤ 94.0</text>\n<text text-anchor=\"start\" x=\"1197\" y=\"-513.8\" font-family=\"Helvetica,sans-Serif\" font-size=\"14.00\" fill=\"#000000\">entropy = 0.811</text>\n<text text-anchor=\"start\" x=\"1208.5\" y=\"-498.8\" font-family=\"Helvetica,sans-Serif\" font-size=\"14.00\" fill=\"#000000\">samples = 4</text>\n<text text-anchor=\"start\" x=\"1183\" y=\"-483.8\" font-family=\"Helvetica,sans-Serif\" font-size=\"14.00\" fill=\"#000000\">value = [0, 0, 3, 0, 1]</text>\n<text text-anchor=\"start\" x=\"1207.5\" y=\"-468.8\" font-family=\"Helvetica,sans-Serif\" font-size=\"14.00\" fill=\"#000000\">class = Poor</text>\n</g>\n<!-- 25&#45;&gt;26 -->\n<g id=\"edge26\" class=\"edge\">\n<title>25&#45;&gt;26</title>\n<path fill=\"none\" stroke=\"#000000\" d=\"M1251.9015,-579.8796C1251.4883,-571.6838 1251.0499,-562.9891 1250.6219,-554.5013\"/>\n<polygon fill=\"#000000\" stroke=\"#000000\" points=\"1254.1067,-554.1091 1250.1075,-544.2981 1247.1156,-554.4617 1254.1067,-554.1091\"/>\n</g>\n<!-- 31 -->\n<g id=\"node32\" class=\"node\">\n<title>31</title>\n<path fill=\"#f5cdb0\" stroke=\"#000000\" d=\"M1495,-544C1495,-544 1373,-544 1373,-544 1367,-544 1361,-538 1361,-532 1361,-532 1361,-473 1361,-473 1361,-467 1367,-461 1373,-461 1373,-461 1495,-461 1495,-461 1501,-461 1507,-467 1507,-473 1507,-473 1507,-532 1507,-532 1507,-538 1501,-544 1495,-544\"/>\n<text text-anchor=\"start\" x=\"1379\" y=\"-528.8\" font-family=\"Helvetica,sans-Serif\" font-size=\"14.00\" fill=\"#000000\">Confidence ≤ 6.5</text>\n<text text-anchor=\"start\" x=\"1383\" y=\"-513.8\" font-family=\"Helvetica,sans-Serif\" font-size=\"14.00\" fill=\"#000000\">entropy = 1.457</text>\n<text text-anchor=\"start\" x=\"1390\" y=\"-498.8\" font-family=\"Helvetica,sans-Serif\" font-size=\"14.00\" fill=\"#000000\">samples = 13</text>\n<text text-anchor=\"start\" x=\"1369\" y=\"-483.8\" font-family=\"Helvetica,sans-Serif\" font-size=\"14.00\" fill=\"#000000\">value = [7, 0, 3, 0, 3]</text>\n<text text-anchor=\"start\" x=\"1397.5\" y=\"-468.8\" font-family=\"Helvetica,sans-Serif\" font-size=\"14.00\" fill=\"#000000\">class = Fail</text>\n</g>\n<!-- 25&#45;&gt;31 -->\n<g id=\"edge31\" class=\"edge\">\n<title>25&#45;&gt;31</title>\n<path fill=\"none\" stroke=\"#000000\" d=\"M1316.9553,-579.8796C1331.6166,-570.1868 1347.3336,-559.7961 1362.3401,-549.8752\"/>\n<polygon fill=\"#000000\" stroke=\"#000000\" points=\"1364.6687,-552.5315 1371.0803,-544.0969 1360.8082,-546.6922 1364.6687,-552.5315\"/>\n</g>\n<!-- 27 -->\n<g id=\"node28\" class=\"node\">\n<title>27</title>\n<path fill=\"#39e5c5\" stroke=\"#000000\" d=\"M1132,-417.5C1132,-417.5 1010,-417.5 1010,-417.5 1004,-417.5 998,-411.5 998,-405.5 998,-405.5 998,-361.5 998,-361.5 998,-355.5 1004,-349.5 1010,-349.5 1010,-349.5 1132,-349.5 1132,-349.5 1138,-349.5 1144,-355.5 1144,-361.5 1144,-361.5 1144,-405.5 1144,-405.5 1144,-411.5 1138,-417.5 1132,-417.5\"/>\n<text text-anchor=\"start\" x=\"1028.5\" y=\"-402.3\" font-family=\"Helvetica,sans-Serif\" font-size=\"14.00\" fill=\"#000000\">entropy = 0.0</text>\n<text text-anchor=\"start\" x=\"1031.5\" y=\"-387.3\" font-family=\"Helvetica,sans-Serif\" font-size=\"14.00\" fill=\"#000000\">samples = 2</text>\n<text text-anchor=\"start\" x=\"1006\" y=\"-372.3\" font-family=\"Helvetica,sans-Serif\" font-size=\"14.00\" fill=\"#000000\">value = [0, 0, 2, 0, 0]</text>\n<text text-anchor=\"start\" x=\"1030.5\" y=\"-357.3\" font-family=\"Helvetica,sans-Serif\" font-size=\"14.00\" fill=\"#000000\">class = Poor</text>\n</g>\n<!-- 26&#45;&gt;27 -->\n<g id=\"edge27\" class=\"edge\">\n<title>26&#45;&gt;27</title>\n<path fill=\"none\" stroke=\"#000000\" d=\"M1186.094,-460.8796C1168.0172,-448.7263 1148.3086,-435.4759 1130.3913,-423.4297\"/>\n<polygon fill=\"#000000\" stroke=\"#000000\" points=\"1132.0061,-420.2979 1121.7544,-417.623 1128.1004,-426.1071 1132.0061,-420.2979\"/>\n</g>\n<!-- 28 -->\n<g id=\"node29\" class=\"node\">\n<title>28</title>\n<path fill=\"#ffffff\" stroke=\"#000000\" d=\"M1321.5,-425C1321.5,-425 1174.5,-425 1174.5,-425 1168.5,-425 1162.5,-419 1162.5,-413 1162.5,-413 1162.5,-354 1162.5,-354 1162.5,-348 1168.5,-342 1174.5,-342 1174.5,-342 1321.5,-342 1321.5,-342 1327.5,-342 1333.5,-348 1333.5,-354 1333.5,-354 1333.5,-413 1333.5,-413 1333.5,-419 1327.5,-425 1321.5,-425\"/>\n<text text-anchor=\"start\" x=\"1170.5\" y=\"-409.8\" font-family=\"Helvetica,sans-Serif\" font-size=\"14.00\" fill=\"#000000\">ClassAttendance ≤ 99.0</text>\n<text text-anchor=\"start\" x=\"1205.5\" y=\"-394.8\" font-family=\"Helvetica,sans-Serif\" font-size=\"14.00\" fill=\"#000000\">entropy = 1.0</text>\n<text text-anchor=\"start\" x=\"1208.5\" y=\"-379.8\" font-family=\"Helvetica,sans-Serif\" font-size=\"14.00\" fill=\"#000000\">samples = 2</text>\n<text text-anchor=\"start\" x=\"1183\" y=\"-364.8\" font-family=\"Helvetica,sans-Serif\" font-size=\"14.00\" fill=\"#000000\">value = [0, 0, 1, 0, 1]</text>\n<text text-anchor=\"start\" x=\"1207.5\" y=\"-349.8\" font-family=\"Helvetica,sans-Serif\" font-size=\"14.00\" fill=\"#000000\">class = Poor</text>\n</g>\n<!-- 26&#45;&gt;28 -->\n<g id=\"edge28\" class=\"edge\">\n<title>26&#45;&gt;28</title>\n<path fill=\"none\" stroke=\"#000000\" d=\"M1248,-460.8796C1248,-452.6838 1248,-443.9891 1248,-435.5013\"/>\n<polygon fill=\"#000000\" stroke=\"#000000\" points=\"1251.5001,-435.298 1248,-425.2981 1244.5001,-435.2981 1251.5001,-435.298\"/>\n</g>\n<!-- 29 -->\n<g id=\"node30\" class=\"node\">\n<title>29</title>\n<path fill=\"#e539c0\" stroke=\"#000000\" d=\"M1145,-298.5C1145,-298.5 1023,-298.5 1023,-298.5 1017,-298.5 1011,-292.5 1011,-286.5 1011,-286.5 1011,-242.5 1011,-242.5 1011,-236.5 1017,-230.5 1023,-230.5 1023,-230.5 1145,-230.5 1145,-230.5 1151,-230.5 1157,-236.5 1157,-242.5 1157,-242.5 1157,-286.5 1157,-286.5 1157,-292.5 1151,-298.5 1145,-298.5\"/>\n<text text-anchor=\"start\" x=\"1041.5\" y=\"-283.3\" font-family=\"Helvetica,sans-Serif\" font-size=\"14.00\" fill=\"#000000\">entropy = 0.0</text>\n<text text-anchor=\"start\" x=\"1044.5\" y=\"-268.3\" font-family=\"Helvetica,sans-Serif\" font-size=\"14.00\" fill=\"#000000\">samples = 1</text>\n<text text-anchor=\"start\" x=\"1019\" y=\"-253.3\" font-family=\"Helvetica,sans-Serif\" font-size=\"14.00\" fill=\"#000000\">value = [0, 0, 0, 0, 1]</text>\n<text text-anchor=\"start\" x=\"1024.5\" y=\"-238.3\" font-family=\"Helvetica,sans-Serif\" font-size=\"14.00\" fill=\"#000000\">class = Very Good</text>\n</g>\n<!-- 28&#45;&gt;29 -->\n<g id=\"edge29\" class=\"edge\">\n<title>28&#45;&gt;29</title>\n<path fill=\"none\" stroke=\"#000000\" d=\"M1190.6408,-341.8796C1174.0439,-329.8368 1155.9625,-316.7167 1139.4824,-304.7586\"/>\n<polygon fill=\"#000000\" stroke=\"#000000\" points=\"1141.176,-301.6632 1131.0267,-298.623 1137.0649,-307.3288 1141.176,-301.6632\"/>\n</g>\n<!-- 30 -->\n<g id=\"node31\" class=\"node\">\n<title>30</title>\n<path fill=\"#39e5c5\" stroke=\"#000000\" d=\"M1309,-298.5C1309,-298.5 1187,-298.5 1187,-298.5 1181,-298.5 1175,-292.5 1175,-286.5 1175,-286.5 1175,-242.5 1175,-242.5 1175,-236.5 1181,-230.5 1187,-230.5 1187,-230.5 1309,-230.5 1309,-230.5 1315,-230.5 1321,-236.5 1321,-242.5 1321,-242.5 1321,-286.5 1321,-286.5 1321,-292.5 1315,-298.5 1309,-298.5\"/>\n<text text-anchor=\"start\" x=\"1205.5\" y=\"-283.3\" font-family=\"Helvetica,sans-Serif\" font-size=\"14.00\" fill=\"#000000\">entropy = 0.0</text>\n<text text-anchor=\"start\" x=\"1208.5\" y=\"-268.3\" font-family=\"Helvetica,sans-Serif\" font-size=\"14.00\" fill=\"#000000\">samples = 1</text>\n<text text-anchor=\"start\" x=\"1183\" y=\"-253.3\" font-family=\"Helvetica,sans-Serif\" font-size=\"14.00\" fill=\"#000000\">value = [0, 0, 1, 0, 0]</text>\n<text text-anchor=\"start\" x=\"1207.5\" y=\"-238.3\" font-family=\"Helvetica,sans-Serif\" font-size=\"14.00\" fill=\"#000000\">class = Poor</text>\n</g>\n<!-- 28&#45;&gt;30 -->\n<g id=\"edge30\" class=\"edge\">\n<title>28&#45;&gt;30</title>\n<path fill=\"none\" stroke=\"#000000\" d=\"M1248,-341.8796C1248,-331.2134 1248,-319.7021 1248,-308.9015\"/>\n<polygon fill=\"#000000\" stroke=\"#000000\" points=\"1251.5001,-308.8149 1248,-298.8149 1244.5001,-308.815 1251.5001,-308.8149\"/>\n</g>\n<!-- 32 -->\n<g id=\"node33\" class=\"node\">\n<title>32</title>\n<path fill=\"#f2c09c\" stroke=\"#000000\" d=\"M1522,-425C1522,-425 1364,-425 1364,-425 1358,-425 1352,-419 1352,-413 1352,-413 1352,-354 1352,-354 1352,-348 1358,-342 1364,-342 1364,-342 1522,-342 1522,-342 1528,-342 1534,-348 1534,-354 1534,-354 1534,-413 1534,-413 1534,-419 1528,-425 1522,-425\"/>\n<text text-anchor=\"start\" x=\"1360\" y=\"-409.8\" font-family=\"Helvetica,sans-Serif\" font-size=\"14.00\" fill=\"#000000\">PSSocialMediaHour ≤ 3.5</text>\n<text text-anchor=\"start\" x=\"1392\" y=\"-394.8\" font-family=\"Helvetica,sans-Serif\" font-size=\"14.00\" fill=\"#000000\">entropy = 0.918</text>\n<text text-anchor=\"start\" x=\"1403.5\" y=\"-379.8\" font-family=\"Helvetica,sans-Serif\" font-size=\"14.00\" fill=\"#000000\">samples = 6</text>\n<text text-anchor=\"start\" x=\"1378\" y=\"-364.8\" font-family=\"Helvetica,sans-Serif\" font-size=\"14.00\" fill=\"#000000\">value = [4, 0, 2, 0, 0]</text>\n<text text-anchor=\"start\" x=\"1406.5\" y=\"-349.8\" font-family=\"Helvetica,sans-Serif\" font-size=\"14.00\" fill=\"#000000\">class = Fail</text>\n</g>\n<!-- 31&#45;&gt;32 -->\n<g id=\"edge32\" class=\"edge\">\n<title>31&#45;&gt;32</title>\n<path fill=\"none\" stroke=\"#000000\" d=\"M1437.1478,-460.8796C1437.7676,-452.6838 1438.4252,-443.9891 1439.0671,-435.5013\"/>\n<polygon fill=\"#000000\" stroke=\"#000000\" points=\"1442.5746,-435.5336 1439.8388,-425.2981 1435.5945,-435.0056 1442.5746,-435.5336\"/>\n</g>\n<!-- 39 -->\n<g id=\"node40\" class=\"node\">\n<title>39</title>\n<path fill=\"#ffffff\" stroke=\"#000000\" d=\"M1813.5,-425C1813.5,-425 1666.5,-425 1666.5,-425 1660.5,-425 1654.5,-419 1654.5,-413 1654.5,-413 1654.5,-354 1654.5,-354 1654.5,-348 1660.5,-342 1666.5,-342 1666.5,-342 1813.5,-342 1813.5,-342 1819.5,-342 1825.5,-348 1825.5,-354 1825.5,-354 1825.5,-413 1825.5,-413 1825.5,-419 1819.5,-425 1813.5,-425\"/>\n<text text-anchor=\"start\" x=\"1662.5\" y=\"-409.8\" font-family=\"Helvetica,sans-Serif\" font-size=\"14.00\" fill=\"#000000\">ClassAttendance ≤ 95.5</text>\n<text text-anchor=\"start\" x=\"1689\" y=\"-394.8\" font-family=\"Helvetica,sans-Serif\" font-size=\"14.00\" fill=\"#000000\">entropy = 1.449</text>\n<text text-anchor=\"start\" x=\"1700.5\" y=\"-379.8\" font-family=\"Helvetica,sans-Serif\" font-size=\"14.00\" fill=\"#000000\">samples = 7</text>\n<text text-anchor=\"start\" x=\"1675\" y=\"-364.8\" font-family=\"Helvetica,sans-Serif\" font-size=\"14.00\" fill=\"#000000\">value = [3, 0, 1, 0, 3]</text>\n<text text-anchor=\"start\" x=\"1703.5\" y=\"-349.8\" font-family=\"Helvetica,sans-Serif\" font-size=\"14.00\" fill=\"#000000\">class = Fail</text>\n</g>\n<!-- 31&#45;&gt;39 -->\n<g id=\"edge39\" class=\"edge\">\n<title>31&#45;&gt;39</title>\n<path fill=\"none\" stroke=\"#000000\" d=\"M1507.0856,-464.8946C1510.0822,-463.5488 1513.0618,-462.245 1516,-461 1557.5666,-443.3866 1604.6437,-426.6368 1644.8749,-413.2451\"/>\n<polygon fill=\"#000000\" stroke=\"#000000\" points=\"1646.0174,-416.5537 1654.4124,-410.0903 1643.8191,-409.9078 1646.0174,-416.5537\"/>\n</g>\n<!-- 33 -->\n<g id=\"node34\" class=\"node\">\n<title>33</title>\n<path fill=\"#eca06a\" stroke=\"#000000\" d=\"M1473,-306C1473,-306 1351,-306 1351,-306 1345,-306 1339,-300 1339,-294 1339,-294 1339,-235 1339,-235 1339,-229 1345,-223 1351,-223 1351,-223 1473,-223 1473,-223 1479,-223 1485,-229 1485,-235 1485,-235 1485,-294 1485,-294 1485,-300 1479,-306 1473,-306\"/>\n<text text-anchor=\"start\" x=\"1351.5\" y=\"-290.8\" font-family=\"Helvetica,sans-Serif\" font-size=\"14.00\" fill=\"#000000\">AvgCTMark ≤ 13.0</text>\n<text text-anchor=\"start\" x=\"1361\" y=\"-275.8\" font-family=\"Helvetica,sans-Serif\" font-size=\"14.00\" fill=\"#000000\">entropy = 0.722</text>\n<text text-anchor=\"start\" x=\"1372.5\" y=\"-260.8\" font-family=\"Helvetica,sans-Serif\" font-size=\"14.00\" fill=\"#000000\">samples = 5</text>\n<text text-anchor=\"start\" x=\"1347\" y=\"-245.8\" font-family=\"Helvetica,sans-Serif\" font-size=\"14.00\" fill=\"#000000\">value = [4, 0, 1, 0, 0]</text>\n<text text-anchor=\"start\" x=\"1375.5\" y=\"-230.8\" font-family=\"Helvetica,sans-Serif\" font-size=\"14.00\" fill=\"#000000\">class = Fail</text>\n</g>\n<!-- 32&#45;&gt;33 -->\n<g id=\"edge33\" class=\"edge\">\n<title>32&#45;&gt;33</title>\n<path fill=\"none\" stroke=\"#000000\" d=\"M1432.1577,-341.8796C1429.9992,-333.5938 1427.7079,-324.798 1425.4737,-316.2216\"/>\n<polygon fill=\"#000000\" stroke=\"#000000\" points=\"1428.7965,-315.0928 1422.8886,-306.2981 1422.0226,-316.8575 1428.7965,-315.0928\"/>\n</g>\n<!-- 38 -->\n<g id=\"node39\" class=\"node\">\n<title>38</title>\n<path fill=\"#39e5c5\" stroke=\"#000000\" d=\"M1637,-298.5C1637,-298.5 1515,-298.5 1515,-298.5 1509,-298.5 1503,-292.5 1503,-286.5 1503,-286.5 1503,-242.5 1503,-242.5 1503,-236.5 1509,-230.5 1515,-230.5 1515,-230.5 1637,-230.5 1637,-230.5 1643,-230.5 1649,-236.5 1649,-242.5 1649,-242.5 1649,-286.5 1649,-286.5 1649,-292.5 1643,-298.5 1637,-298.5\"/>\n<text text-anchor=\"start\" x=\"1533.5\" y=\"-283.3\" font-family=\"Helvetica,sans-Serif\" font-size=\"14.00\" fill=\"#000000\">entropy = 0.0</text>\n<text text-anchor=\"start\" x=\"1536.5\" y=\"-268.3\" font-family=\"Helvetica,sans-Serif\" font-size=\"14.00\" fill=\"#000000\">samples = 1</text>\n<text text-anchor=\"start\" x=\"1511\" y=\"-253.3\" font-family=\"Helvetica,sans-Serif\" font-size=\"14.00\" fill=\"#000000\">value = [0, 0, 1, 0, 0]</text>\n<text text-anchor=\"start\" x=\"1535.5\" y=\"-238.3\" font-family=\"Helvetica,sans-Serif\" font-size=\"14.00\" fill=\"#000000\">class = Poor</text>\n</g>\n<!-- 32&#45;&gt;38 -->\n<g id=\"edge38\" class=\"edge\">\n<title>32&#45;&gt;38</title>\n<path fill=\"none\" stroke=\"#000000\" d=\"M1489.5169,-341.8796C1502.667,-330.1138 1516.9663,-317.3197 1530.0809,-305.5855\"/>\n<polygon fill=\"#000000\" stroke=\"#000000\" points=\"1532.5294,-308.0913 1537.648,-298.8149 1527.8618,-302.8746 1532.5294,-308.0913\"/>\n</g>\n<!-- 34 -->\n<g id=\"node35\" class=\"node\">\n<title>34</title>\n<path fill=\"#ffffff\" stroke=\"#000000\" d=\"M1309.5,-187C1309.5,-187 1162.5,-187 1162.5,-187 1156.5,-187 1150.5,-181 1150.5,-175 1150.5,-175 1150.5,-116 1150.5,-116 1150.5,-110 1156.5,-104 1162.5,-104 1162.5,-104 1309.5,-104 1309.5,-104 1315.5,-104 1321.5,-110 1321.5,-116 1321.5,-116 1321.5,-175 1321.5,-175 1321.5,-181 1315.5,-187 1309.5,-187\"/>\n<text text-anchor=\"start\" x=\"1158.5\" y=\"-171.8\" font-family=\"Helvetica,sans-Serif\" font-size=\"14.00\" fill=\"#000000\">ClassAttendance ≤ 99.5</text>\n<text text-anchor=\"start\" x=\"1193.5\" y=\"-156.8\" font-family=\"Helvetica,sans-Serif\" font-size=\"14.00\" fill=\"#000000\">entropy = 1.0</text>\n<text text-anchor=\"start\" x=\"1196.5\" y=\"-141.8\" font-family=\"Helvetica,sans-Serif\" font-size=\"14.00\" fill=\"#000000\">samples = 2</text>\n<text text-anchor=\"start\" x=\"1171\" y=\"-126.8\" font-family=\"Helvetica,sans-Serif\" font-size=\"14.00\" fill=\"#000000\">value = [1, 0, 1, 0, 0]</text>\n<text text-anchor=\"start\" x=\"1199.5\" y=\"-111.8\" font-family=\"Helvetica,sans-Serif\" font-size=\"14.00\" fill=\"#000000\">class = Fail</text>\n</g>\n<!-- 33&#45;&gt;34 -->\n<g id=\"edge34\" class=\"edge\">\n<title>33&#45;&gt;34</title>\n<path fill=\"none\" stroke=\"#000000\" d=\"M1350.4437,-222.8796C1336.1082,-213.1868 1320.7405,-202.7961 1306.0675,-192.8752\"/>\n<polygon fill=\"#000000\" stroke=\"#000000\" points=\"1307.7661,-189.7987 1297.5215,-187.0969 1303.8452,-195.5976 1307.7661,-189.7987\"/>\n</g>\n<!-- 37 -->\n<g id=\"node38\" class=\"node\">\n<title>37</title>\n<path fill=\"#e58139\" stroke=\"#000000\" d=\"M1474,-179.5C1474,-179.5 1352,-179.5 1352,-179.5 1346,-179.5 1340,-173.5 1340,-167.5 1340,-167.5 1340,-123.5 1340,-123.5 1340,-117.5 1346,-111.5 1352,-111.5 1352,-111.5 1474,-111.5 1474,-111.5 1480,-111.5 1486,-117.5 1486,-123.5 1486,-123.5 1486,-167.5 1486,-167.5 1486,-173.5 1480,-179.5 1474,-179.5\"/>\n<text text-anchor=\"start\" x=\"1370.5\" y=\"-164.3\" font-family=\"Helvetica,sans-Serif\" font-size=\"14.00\" fill=\"#000000\">entropy = 0.0</text>\n<text text-anchor=\"start\" x=\"1373.5\" y=\"-149.3\" font-family=\"Helvetica,sans-Serif\" font-size=\"14.00\" fill=\"#000000\">samples = 3</text>\n<text text-anchor=\"start\" x=\"1348\" y=\"-134.3\" font-family=\"Helvetica,sans-Serif\" font-size=\"14.00\" fill=\"#000000\">value = [3, 0, 0, 0, 0]</text>\n<text text-anchor=\"start\" x=\"1376.5\" y=\"-119.3\" font-family=\"Helvetica,sans-Serif\" font-size=\"14.00\" fill=\"#000000\">class = Fail</text>\n</g>\n<!-- 33&#45;&gt;37 -->\n<g id=\"edge37\" class=\"edge\">\n<title>33&#45;&gt;37</title>\n<path fill=\"none\" stroke=\"#000000\" d=\"M1412.3498,-222.8796C1412.4394,-212.2134 1412.5361,-200.7021 1412.6269,-189.9015\"/>\n<polygon fill=\"#000000\" stroke=\"#000000\" points=\"1416.1274,-189.844 1412.7116,-179.8149 1409.1276,-189.7851 1416.1274,-189.844\"/>\n</g>\n<!-- 35 -->\n<g id=\"node36\" class=\"node\">\n<title>35</title>\n<path fill=\"#39e5c5\" stroke=\"#000000\" d=\"M1215,-68C1215,-68 1093,-68 1093,-68 1087,-68 1081,-62 1081,-56 1081,-56 1081,-12 1081,-12 1081,-6 1087,0 1093,0 1093,0 1215,0 1215,0 1221,0 1227,-6 1227,-12 1227,-12 1227,-56 1227,-56 1227,-62 1221,-68 1215,-68\"/>\n<text text-anchor=\"start\" x=\"1111.5\" y=\"-52.8\" font-family=\"Helvetica,sans-Serif\" font-size=\"14.00\" fill=\"#000000\">entropy = 0.0</text>\n<text text-anchor=\"start\" x=\"1114.5\" y=\"-37.8\" font-family=\"Helvetica,sans-Serif\" font-size=\"14.00\" fill=\"#000000\">samples = 1</text>\n<text text-anchor=\"start\" x=\"1089\" y=\"-22.8\" font-family=\"Helvetica,sans-Serif\" font-size=\"14.00\" fill=\"#000000\">value = [0, 0, 1, 0, 0]</text>\n<text text-anchor=\"start\" x=\"1113.5\" y=\"-7.8\" font-family=\"Helvetica,sans-Serif\" font-size=\"14.00\" fill=\"#000000\">class = Poor</text>\n</g>\n<!-- 34&#45;&gt;35 -->\n<g id=\"edge35\" class=\"edge\">\n<title>34&#45;&gt;35</title>\n<path fill=\"none\" stroke=\"#000000\" d=\"M1205.4662,-103.9815C1198.8424,-94.9747 1191.8279,-85.4367 1185.1795,-76.3965\"/>\n<polygon fill=\"#000000\" stroke=\"#000000\" points=\"1187.9426,-74.2461 1179.1984,-68.2637 1182.3034,-78.3933 1187.9426,-74.2461\"/>\n</g>\n<!-- 36 -->\n<g id=\"node37\" class=\"node\">\n<title>36</title>\n<path fill=\"#e58139\" stroke=\"#000000\" d=\"M1379,-68C1379,-68 1257,-68 1257,-68 1251,-68 1245,-62 1245,-56 1245,-56 1245,-12 1245,-12 1245,-6 1251,0 1257,0 1257,0 1379,0 1379,0 1385,0 1391,-6 1391,-12 1391,-12 1391,-56 1391,-56 1391,-62 1385,-68 1379,-68\"/>\n<text text-anchor=\"start\" x=\"1275.5\" y=\"-52.8\" font-family=\"Helvetica,sans-Serif\" font-size=\"14.00\" fill=\"#000000\">entropy = 0.0</text>\n<text text-anchor=\"start\" x=\"1278.5\" y=\"-37.8\" font-family=\"Helvetica,sans-Serif\" font-size=\"14.00\" fill=\"#000000\">samples = 1</text>\n<text text-anchor=\"start\" x=\"1253\" y=\"-22.8\" font-family=\"Helvetica,sans-Serif\" font-size=\"14.00\" fill=\"#000000\">value = [1, 0, 0, 0, 0]</text>\n<text text-anchor=\"start\" x=\"1281.5\" y=\"-7.8\" font-family=\"Helvetica,sans-Serif\" font-size=\"14.00\" fill=\"#000000\">class = Fail</text>\n</g>\n<!-- 34&#45;&gt;36 -->\n<g id=\"edge36\" class=\"edge\">\n<title>34&#45;&gt;36</title>\n<path fill=\"none\" stroke=\"#000000\" d=\"M1266.5338,-103.9815C1273.1576,-94.9747 1280.1721,-85.4367 1286.8205,-76.3965\"/>\n<polygon fill=\"#000000\" stroke=\"#000000\" points=\"1289.6966,-78.3933 1292.8016,-68.2637 1284.0574,-74.2461 1289.6966,-78.3933\"/>\n</g>\n<!-- 40 -->\n<g id=\"node41\" class=\"node\">\n<title>40</title>\n<path fill=\"#f29ce0\" stroke=\"#000000\" d=\"M1801,-306C1801,-306 1679,-306 1679,-306 1673,-306 1667,-300 1667,-294 1667,-294 1667,-235 1667,-235 1667,-229 1673,-223 1679,-223 1679,-223 1801,-223 1801,-223 1807,-223 1813,-229 1813,-235 1813,-235 1813,-294 1813,-294 1813,-300 1807,-306 1801,-306\"/>\n<text text-anchor=\"start\" x=\"1678\" y=\"-290.8\" font-family=\"Helvetica,sans-Serif\" font-size=\"14.00\" fill=\"#000000\">PSStudyHour ≤ 9.5</text>\n<text text-anchor=\"start\" x=\"1689\" y=\"-275.8\" font-family=\"Helvetica,sans-Serif\" font-size=\"14.00\" fill=\"#000000\">entropy = 0.918</text>\n<text text-anchor=\"start\" x=\"1700.5\" y=\"-260.8\" font-family=\"Helvetica,sans-Serif\" font-size=\"14.00\" fill=\"#000000\">samples = 3</text>\n<text text-anchor=\"start\" x=\"1675\" y=\"-245.8\" font-family=\"Helvetica,sans-Serif\" font-size=\"14.00\" fill=\"#000000\">value = [0, 0, 1, 0, 2]</text>\n<text text-anchor=\"start\" x=\"1680.5\" y=\"-230.8\" font-family=\"Helvetica,sans-Serif\" font-size=\"14.00\" fill=\"#000000\">class = Very Good</text>\n</g>\n<!-- 39&#45;&gt;40 -->\n<g id=\"edge40\" class=\"edge\">\n<title>39&#45;&gt;40</title>\n<path fill=\"none\" stroke=\"#000000\" d=\"M1740,-341.8796C1740,-333.6838 1740,-324.9891 1740,-316.5013\"/>\n<polygon fill=\"#000000\" stroke=\"#000000\" points=\"1743.5001,-316.298 1740,-306.2981 1736.5001,-316.2981 1743.5001,-316.298\"/>\n</g>\n<!-- 43 -->\n<g id=\"node44\" class=\"node\">\n<title>43</title>\n<path fill=\"#eeab7b\" stroke=\"#000000\" d=\"M1968.5,-306C1968.5,-306 1843.5,-306 1843.5,-306 1837.5,-306 1831.5,-300 1831.5,-294 1831.5,-294 1831.5,-235 1831.5,-235 1831.5,-229 1837.5,-223 1843.5,-223 1843.5,-223 1968.5,-223 1968.5,-223 1974.5,-223 1980.5,-229 1980.5,-235 1980.5,-235 1980.5,-294 1980.5,-294 1980.5,-300 1974.5,-306 1968.5,-306\"/>\n<text text-anchor=\"start\" x=\"1839.5\" y=\"-290.8\" font-family=\"Helvetica,sans-Serif\" font-size=\"14.00\" fill=\"#000000\">PSStudyHour ≤ 13.5</text>\n<text text-anchor=\"start\" x=\"1855\" y=\"-275.8\" font-family=\"Helvetica,sans-Serif\" font-size=\"14.00\" fill=\"#000000\">entropy = 0.811</text>\n<text text-anchor=\"start\" x=\"1866.5\" y=\"-260.8\" font-family=\"Helvetica,sans-Serif\" font-size=\"14.00\" fill=\"#000000\">samples = 4</text>\n<text text-anchor=\"start\" x=\"1841\" y=\"-245.8\" font-family=\"Helvetica,sans-Serif\" font-size=\"14.00\" fill=\"#000000\">value = [3, 0, 0, 0, 1]</text>\n<text text-anchor=\"start\" x=\"1869.5\" y=\"-230.8\" font-family=\"Helvetica,sans-Serif\" font-size=\"14.00\" fill=\"#000000\">class = Fail</text>\n</g>\n<!-- 39&#45;&gt;43 -->\n<g id=\"edge43\" class=\"edge\">\n<title>39&#45;&gt;43</title>\n<path fill=\"none\" stroke=\"#000000\" d=\"M1798.0587,-341.8796C1811.4534,-332.2774 1825.8035,-321.9903 1839.5255,-312.1534\"/>\n<polygon fill=\"#000000\" stroke=\"#000000\" points=\"1841.8858,-314.7678 1847.974,-306.0969 1837.8074,-309.0786 1841.8858,-314.7678\"/>\n</g>\n<!-- 41 -->\n<g id=\"node42\" class=\"node\">\n<title>41</title>\n<path fill=\"#e539c0\" stroke=\"#000000\" d=\"M1639,-179.5C1639,-179.5 1517,-179.5 1517,-179.5 1511,-179.5 1505,-173.5 1505,-167.5 1505,-167.5 1505,-123.5 1505,-123.5 1505,-117.5 1511,-111.5 1517,-111.5 1517,-111.5 1639,-111.5 1639,-111.5 1645,-111.5 1651,-117.5 1651,-123.5 1651,-123.5 1651,-167.5 1651,-167.5 1651,-173.5 1645,-179.5 1639,-179.5\"/>\n<text text-anchor=\"start\" x=\"1535.5\" y=\"-164.3\" font-family=\"Helvetica,sans-Serif\" font-size=\"14.00\" fill=\"#000000\">entropy = 0.0</text>\n<text text-anchor=\"start\" x=\"1538.5\" y=\"-149.3\" font-family=\"Helvetica,sans-Serif\" font-size=\"14.00\" fill=\"#000000\">samples = 2</text>\n<text text-anchor=\"start\" x=\"1513\" y=\"-134.3\" font-family=\"Helvetica,sans-Serif\" font-size=\"14.00\" fill=\"#000000\">value = [0, 0, 0, 0, 2]</text>\n<text text-anchor=\"start\" x=\"1518.5\" y=\"-119.3\" font-family=\"Helvetica,sans-Serif\" font-size=\"14.00\" fill=\"#000000\">class = Very Good</text>\n</g>\n<!-- 40&#45;&gt;41 -->\n<g id=\"edge41\" class=\"edge\">\n<title>40&#45;&gt;41</title>\n<path fill=\"none\" stroke=\"#000000\" d=\"M1683.3403,-222.8796C1666.9459,-210.8368 1649.0849,-197.7167 1632.8058,-185.7586\"/>\n<polygon fill=\"#000000\" stroke=\"#000000\" points=\"1634.5846,-182.7224 1624.4532,-179.623 1630.4405,-188.3639 1634.5846,-182.7224\"/>\n</g>\n<!-- 42 -->\n<g id=\"node43\" class=\"node\">\n<title>42</title>\n<path fill=\"#39e5c5\" stroke=\"#000000\" d=\"M1803,-179.5C1803,-179.5 1681,-179.5 1681,-179.5 1675,-179.5 1669,-173.5 1669,-167.5 1669,-167.5 1669,-123.5 1669,-123.5 1669,-117.5 1675,-111.5 1681,-111.5 1681,-111.5 1803,-111.5 1803,-111.5 1809,-111.5 1815,-117.5 1815,-123.5 1815,-123.5 1815,-167.5 1815,-167.5 1815,-173.5 1809,-179.5 1803,-179.5\"/>\n<text text-anchor=\"start\" x=\"1699.5\" y=\"-164.3\" font-family=\"Helvetica,sans-Serif\" font-size=\"14.00\" fill=\"#000000\">entropy = 0.0</text>\n<text text-anchor=\"start\" x=\"1702.5\" y=\"-149.3\" font-family=\"Helvetica,sans-Serif\" font-size=\"14.00\" fill=\"#000000\">samples = 1</text>\n<text text-anchor=\"start\" x=\"1677\" y=\"-134.3\" font-family=\"Helvetica,sans-Serif\" font-size=\"14.00\" fill=\"#000000\">value = [0, 0, 1, 0, 0]</text>\n<text text-anchor=\"start\" x=\"1701.5\" y=\"-119.3\" font-family=\"Helvetica,sans-Serif\" font-size=\"14.00\" fill=\"#000000\">class = Poor</text>\n</g>\n<!-- 40&#45;&gt;42 -->\n<g id=\"edge42\" class=\"edge\">\n<title>40&#45;&gt;42</title>\n<path fill=\"none\" stroke=\"#000000\" d=\"M1740.6995,-222.8796C1740.8788,-212.2134 1741.0722,-200.7021 1741.2538,-189.9015\"/>\n<polygon fill=\"#000000\" stroke=\"#000000\" points=\"1744.7546,-189.8724 1741.4233,-179.8149 1737.7556,-189.7547 1744.7546,-189.8724\"/>\n</g>\n<!-- 44 -->\n<g id=\"node45\" class=\"node\">\n<title>44</title>\n<path fill=\"#e58139\" stroke=\"#000000\" d=\"M1967,-179.5C1967,-179.5 1845,-179.5 1845,-179.5 1839,-179.5 1833,-173.5 1833,-167.5 1833,-167.5 1833,-123.5 1833,-123.5 1833,-117.5 1839,-111.5 1845,-111.5 1845,-111.5 1967,-111.5 1967,-111.5 1973,-111.5 1979,-117.5 1979,-123.5 1979,-123.5 1979,-167.5 1979,-167.5 1979,-173.5 1973,-179.5 1967,-179.5\"/>\n<text text-anchor=\"start\" x=\"1863.5\" y=\"-164.3\" font-family=\"Helvetica,sans-Serif\" font-size=\"14.00\" fill=\"#000000\">entropy = 0.0</text>\n<text text-anchor=\"start\" x=\"1866.5\" y=\"-149.3\" font-family=\"Helvetica,sans-Serif\" font-size=\"14.00\" fill=\"#000000\">samples = 3</text>\n<text text-anchor=\"start\" x=\"1841\" y=\"-134.3\" font-family=\"Helvetica,sans-Serif\" font-size=\"14.00\" fill=\"#000000\">value = [3, 0, 0, 0, 0]</text>\n<text text-anchor=\"start\" x=\"1869.5\" y=\"-119.3\" font-family=\"Helvetica,sans-Serif\" font-size=\"14.00\" fill=\"#000000\">class = Fail</text>\n</g>\n<!-- 43&#45;&gt;44 -->\n<g id=\"edge44\" class=\"edge\">\n<title>43&#45;&gt;44</title>\n<path fill=\"none\" stroke=\"#000000\" d=\"M1906,-222.8796C1906,-212.2134 1906,-200.7021 1906,-189.9015\"/>\n<polygon fill=\"#000000\" stroke=\"#000000\" points=\"1909.5001,-189.8149 1906,-179.8149 1902.5001,-189.815 1909.5001,-189.8149\"/>\n</g>\n<!-- 45 -->\n<g id=\"node46\" class=\"node\">\n<title>45</title>\n<path fill=\"#e539c0\" stroke=\"#000000\" d=\"M2131,-179.5C2131,-179.5 2009,-179.5 2009,-179.5 2003,-179.5 1997,-173.5 1997,-167.5 1997,-167.5 1997,-123.5 1997,-123.5 1997,-117.5 2003,-111.5 2009,-111.5 2009,-111.5 2131,-111.5 2131,-111.5 2137,-111.5 2143,-117.5 2143,-123.5 2143,-123.5 2143,-167.5 2143,-167.5 2143,-173.5 2137,-179.5 2131,-179.5\"/>\n<text text-anchor=\"start\" x=\"2027.5\" y=\"-164.3\" font-family=\"Helvetica,sans-Serif\" font-size=\"14.00\" fill=\"#000000\">entropy = 0.0</text>\n<text text-anchor=\"start\" x=\"2030.5\" y=\"-149.3\" font-family=\"Helvetica,sans-Serif\" font-size=\"14.00\" fill=\"#000000\">samples = 1</text>\n<text text-anchor=\"start\" x=\"2005\" y=\"-134.3\" font-family=\"Helvetica,sans-Serif\" font-size=\"14.00\" fill=\"#000000\">value = [0, 0, 0, 0, 1]</text>\n<text text-anchor=\"start\" x=\"2010.5\" y=\"-119.3\" font-family=\"Helvetica,sans-Serif\" font-size=\"14.00\" fill=\"#000000\">class = Very Good</text>\n</g>\n<!-- 43&#45;&gt;45 -->\n<g id=\"edge45\" class=\"edge\">\n<title>43&#45;&gt;45</title>\n<path fill=\"none\" stroke=\"#000000\" d=\"M1963.3592,-222.8796C1979.9561,-210.8368 1998.0375,-197.7167 2014.5176,-185.7586\"/>\n<polygon fill=\"#000000\" stroke=\"#000000\" points=\"2016.9351,-188.3288 2022.9733,-179.623 2012.824,-182.6632 2016.9351,-188.3288\"/>\n</g>\n<!-- 47 -->\n<g id=\"node48\" class=\"node\">\n<title>47</title>\n<path fill=\"#b0f5e8\" stroke=\"#000000\" d=\"M1745,-782C1745,-782 1623,-782 1623,-782 1617,-782 1611,-776 1611,-770 1611,-770 1611,-711 1611,-711 1611,-705 1617,-699 1623,-699 1623,-699 1745,-699 1745,-699 1751,-699 1757,-705 1757,-711 1757,-711 1757,-770 1757,-770 1757,-776 1751,-782 1745,-782\"/>\n<text text-anchor=\"start\" x=\"1622\" y=\"-766.8\" font-family=\"Helvetica,sans-Serif\" font-size=\"14.00\" fill=\"#000000\">PSStudyHour ≤ 8.5</text>\n<text text-anchor=\"start\" x=\"1633\" y=\"-751.8\" font-family=\"Helvetica,sans-Serif\" font-size=\"14.00\" fill=\"#000000\">entropy = 0.954</text>\n<text text-anchor=\"start\" x=\"1644.5\" y=\"-736.8\" font-family=\"Helvetica,sans-Serif\" font-size=\"14.00\" fill=\"#000000\">samples = 8</text>\n<text text-anchor=\"start\" x=\"1619\" y=\"-721.8\" font-family=\"Helvetica,sans-Serif\" font-size=\"14.00\" fill=\"#000000\">value = [0, 0, 5, 0, 3]</text>\n<text text-anchor=\"start\" x=\"1643.5\" y=\"-706.8\" font-family=\"Helvetica,sans-Serif\" font-size=\"14.00\" fill=\"#000000\">class = Poor</text>\n</g>\n<!-- 46&#45;&gt;47 -->\n<g id=\"edge47\" class=\"edge\">\n<title>46&#45;&gt;47</title>\n<path fill=\"none\" stroke=\"#000000\" d=\"M1684,-817.8796C1684,-809.6838 1684,-800.9891 1684,-792.5013\"/>\n<polygon fill=\"#000000\" stroke=\"#000000\" points=\"1687.5001,-792.298 1684,-782.2981 1680.5001,-792.2981 1687.5001,-792.298\"/>\n</g>\n<!-- 52 -->\n<g id=\"node53\" class=\"node\">\n<title>52</title>\n<path fill=\"#4ee8cb\" stroke=\"#000000\" d=\"M2005.5,-782C2005.5,-782 1874.5,-782 1874.5,-782 1868.5,-782 1862.5,-776 1862.5,-770 1862.5,-770 1862.5,-711 1862.5,-711 1862.5,-705 1868.5,-699 1874.5,-699 1874.5,-699 2005.5,-699 2005.5,-699 2011.5,-699 2017.5,-705 2017.5,-711 2017.5,-711 2017.5,-770 2017.5,-770 2017.5,-776 2011.5,-782 2005.5,-782\"/>\n<text text-anchor=\"start\" x=\"1882.5\" y=\"-766.8\" font-family=\"Helvetica,sans-Serif\" font-size=\"14.00\" fill=\"#000000\">DStudyHour ≤ 5.5</text>\n<text text-anchor=\"start\" x=\"1889\" y=\"-751.8\" font-family=\"Helvetica,sans-Serif\" font-size=\"14.00\" fill=\"#000000\">entropy = 0.454</text>\n<text text-anchor=\"start\" x=\"1896\" y=\"-736.8\" font-family=\"Helvetica,sans-Serif\" font-size=\"14.00\" fill=\"#000000\">samples = 21</text>\n<text text-anchor=\"start\" x=\"1870.5\" y=\"-721.8\" font-family=\"Helvetica,sans-Serif\" font-size=\"14.00\" fill=\"#000000\">value = [2, 0, 19, 0, 0]</text>\n<text text-anchor=\"start\" x=\"1899.5\" y=\"-706.8\" font-family=\"Helvetica,sans-Serif\" font-size=\"14.00\" fill=\"#000000\">class = Poor</text>\n</g>\n<!-- 46&#45;&gt;52 -->\n<g id=\"edge52\" class=\"edge\">\n<title>46&#45;&gt;52</title>\n<path fill=\"none\" stroke=\"#000000\" d=\"M1761.5032,-823.4731C1790.4437,-810.0203 1823.4858,-794.6609 1853.2091,-780.8442\"/>\n<polygon fill=\"#000000\" stroke=\"#000000\" points=\"1854.726,-783.9988 1862.3188,-776.6096 1851.7753,-777.6511 1854.726,-783.9988\"/>\n</g>\n<!-- 48 -->\n<g id=\"node49\" class=\"node\">\n<title>48</title>\n<path fill=\"#61ead1\" stroke=\"#000000\" d=\"M1663,-663C1663,-663 1541,-663 1541,-663 1535,-663 1529,-657 1529,-651 1529,-651 1529,-592 1529,-592 1529,-586 1535,-580 1541,-580 1541,-580 1663,-580 1663,-580 1669,-580 1675,-586 1675,-592 1675,-592 1675,-651 1675,-651 1675,-657 1669,-663 1663,-663\"/>\n<text text-anchor=\"start\" x=\"1547\" y=\"-647.8\" font-family=\"Helvetica,sans-Serif\" font-size=\"14.00\" fill=\"#000000\">Confidence ≤ 3.5</text>\n<text text-anchor=\"start\" x=\"1555\" y=\"-632.8\" font-family=\"Helvetica,sans-Serif\" font-size=\"14.00\" fill=\"#000000\">entropy = 0.65</text>\n<text text-anchor=\"start\" x=\"1562.5\" y=\"-617.8\" font-family=\"Helvetica,sans-Serif\" font-size=\"14.00\" fill=\"#000000\">samples = 6</text>\n<text text-anchor=\"start\" x=\"1537\" y=\"-602.8\" font-family=\"Helvetica,sans-Serif\" font-size=\"14.00\" fill=\"#000000\">value = [0, 0, 5, 0, 1]</text>\n<text text-anchor=\"start\" x=\"1561.5\" y=\"-587.8\" font-family=\"Helvetica,sans-Serif\" font-size=\"14.00\" fill=\"#000000\">class = Poor</text>\n</g>\n<!-- 47&#45;&gt;48 -->\n<g id=\"edge48\" class=\"edge\">\n<title>47&#45;&gt;48</title>\n<path fill=\"none\" stroke=\"#000000\" d=\"M1655.3204,-698.8796C1649.2385,-690.0534 1642.7578,-680.6485 1636.4859,-671.5466\"/>\n<polygon fill=\"#000000\" stroke=\"#000000\" points=\"1639.3582,-669.5465 1630.802,-663.2981 1633.5941,-673.5184 1639.3582,-669.5465\"/>\n</g>\n<!-- 51 -->\n<g id=\"node52\" class=\"node\">\n<title>51</title>\n<path fill=\"#e539c0\" stroke=\"#000000\" d=\"M1827,-655.5C1827,-655.5 1705,-655.5 1705,-655.5 1699,-655.5 1693,-649.5 1693,-643.5 1693,-643.5 1693,-599.5 1693,-599.5 1693,-593.5 1699,-587.5 1705,-587.5 1705,-587.5 1827,-587.5 1827,-587.5 1833,-587.5 1839,-593.5 1839,-599.5 1839,-599.5 1839,-643.5 1839,-643.5 1839,-649.5 1833,-655.5 1827,-655.5\"/>\n<text text-anchor=\"start\" x=\"1723.5\" y=\"-640.3\" font-family=\"Helvetica,sans-Serif\" font-size=\"14.00\" fill=\"#000000\">entropy = 0.0</text>\n<text text-anchor=\"start\" x=\"1726.5\" y=\"-625.3\" font-family=\"Helvetica,sans-Serif\" font-size=\"14.00\" fill=\"#000000\">samples = 2</text>\n<text text-anchor=\"start\" x=\"1701\" y=\"-610.3\" font-family=\"Helvetica,sans-Serif\" font-size=\"14.00\" fill=\"#000000\">value = [0, 0, 0, 0, 2]</text>\n<text text-anchor=\"start\" x=\"1706.5\" y=\"-595.3\" font-family=\"Helvetica,sans-Serif\" font-size=\"14.00\" fill=\"#000000\">class = Very Good</text>\n</g>\n<!-- 47&#45;&gt;51 -->\n<g id=\"edge51\" class=\"edge\">\n<title>47&#45;&gt;51</title>\n<path fill=\"none\" stroke=\"#000000\" d=\"M1712.6796,-698.8796C1720.4083,-687.6636 1728.7809,-675.5131 1736.5508,-664.2372\"/>\n<polygon fill=\"#000000\" stroke=\"#000000\" points=\"1739.5623,-666.0353 1742.3544,-655.8149 1733.7982,-662.0634 1739.5623,-666.0353\"/>\n</g>\n<!-- 49 -->\n<g id=\"node50\" class=\"node\">\n<title>49</title>\n<path fill=\"#e539c0\" stroke=\"#000000\" d=\"M1659,-536.5C1659,-536.5 1537,-536.5 1537,-536.5 1531,-536.5 1525,-530.5 1525,-524.5 1525,-524.5 1525,-480.5 1525,-480.5 1525,-474.5 1531,-468.5 1537,-468.5 1537,-468.5 1659,-468.5 1659,-468.5 1665,-468.5 1671,-474.5 1671,-480.5 1671,-480.5 1671,-524.5 1671,-524.5 1671,-530.5 1665,-536.5 1659,-536.5\"/>\n<text text-anchor=\"start\" x=\"1555.5\" y=\"-521.3\" font-family=\"Helvetica,sans-Serif\" font-size=\"14.00\" fill=\"#000000\">entropy = 0.0</text>\n<text text-anchor=\"start\" x=\"1558.5\" y=\"-506.3\" font-family=\"Helvetica,sans-Serif\" font-size=\"14.00\" fill=\"#000000\">samples = 1</text>\n<text text-anchor=\"start\" x=\"1533\" y=\"-491.3\" font-family=\"Helvetica,sans-Serif\" font-size=\"14.00\" fill=\"#000000\">value = [0, 0, 0, 0, 1]</text>\n<text text-anchor=\"start\" x=\"1538.5\" y=\"-476.3\" font-family=\"Helvetica,sans-Serif\" font-size=\"14.00\" fill=\"#000000\">class = Very Good</text>\n</g>\n<!-- 48&#45;&gt;49 -->\n<g id=\"edge49\" class=\"edge\">\n<title>48&#45;&gt;49</title>\n<path fill=\"none\" stroke=\"#000000\" d=\"M1600.601,-579.8796C1600.2425,-569.2134 1599.8555,-557.7021 1599.4925,-546.9015\"/>\n<polygon fill=\"#000000\" stroke=\"#000000\" points=\"1602.9875,-546.6917 1599.1534,-536.8149 1595.9915,-546.9269 1602.9875,-546.6917\"/>\n</g>\n<!-- 50 -->\n<g id=\"node51\" class=\"node\">\n<title>50</title>\n<path fill=\"#39e5c5\" stroke=\"#000000\" d=\"M1823,-536.5C1823,-536.5 1701,-536.5 1701,-536.5 1695,-536.5 1689,-530.5 1689,-524.5 1689,-524.5 1689,-480.5 1689,-480.5 1689,-474.5 1695,-468.5 1701,-468.5 1701,-468.5 1823,-468.5 1823,-468.5 1829,-468.5 1835,-474.5 1835,-480.5 1835,-480.5 1835,-524.5 1835,-524.5 1835,-530.5 1829,-536.5 1823,-536.5\"/>\n<text text-anchor=\"start\" x=\"1719.5\" y=\"-521.3\" font-family=\"Helvetica,sans-Serif\" font-size=\"14.00\" fill=\"#000000\">entropy = 0.0</text>\n<text text-anchor=\"start\" x=\"1722.5\" y=\"-506.3\" font-family=\"Helvetica,sans-Serif\" font-size=\"14.00\" fill=\"#000000\">samples = 5</text>\n<text text-anchor=\"start\" x=\"1697\" y=\"-491.3\" font-family=\"Helvetica,sans-Serif\" font-size=\"14.00\" fill=\"#000000\">value = [0, 0, 5, 0, 0]</text>\n<text text-anchor=\"start\" x=\"1721.5\" y=\"-476.3\" font-family=\"Helvetica,sans-Serif\" font-size=\"14.00\" fill=\"#000000\">class = Poor</text>\n</g>\n<!-- 48&#45;&gt;50 -->\n<g id=\"edge50\" class=\"edge\">\n<title>48&#45;&gt;50</title>\n<path fill=\"none\" stroke=\"#000000\" d=\"M1657.9602,-579.8796C1674.1522,-567.8368 1691.7927,-554.7167 1707.8708,-542.7586\"/>\n<polygon fill=\"#000000\" stroke=\"#000000\" points=\"1710.185,-545.3993 1716.1203,-536.623 1706.0075,-539.7825 1710.185,-545.3993\"/>\n</g>\n<!-- 53 -->\n<g id=\"node54\" class=\"node\">\n<title>53</title>\n<path fill=\"#43e6c8\" stroke=\"#000000\" d=\"M2005.5,-663C2005.5,-663 1874.5,-663 1874.5,-663 1868.5,-663 1862.5,-657 1862.5,-651 1862.5,-651 1862.5,-592 1862.5,-592 1862.5,-586 1868.5,-580 1874.5,-580 1874.5,-580 2005.5,-580 2005.5,-580 2011.5,-580 2017.5,-586 2017.5,-592 2017.5,-592 2017.5,-651 2017.5,-651 2017.5,-657 2011.5,-663 2005.5,-663\"/>\n<text text-anchor=\"start\" x=\"1879.5\" y=\"-647.8\" font-family=\"Helvetica,sans-Serif\" font-size=\"14.00\" fill=\"#000000\">AvgCTMark ≤ 14.5</text>\n<text text-anchor=\"start\" x=\"1889\" y=\"-632.8\" font-family=\"Helvetica,sans-Serif\" font-size=\"14.00\" fill=\"#000000\">entropy = 0.286</text>\n<text text-anchor=\"start\" x=\"1896\" y=\"-617.8\" font-family=\"Helvetica,sans-Serif\" font-size=\"14.00\" fill=\"#000000\">samples = 20</text>\n<text text-anchor=\"start\" x=\"1870.5\" y=\"-602.8\" font-family=\"Helvetica,sans-Serif\" font-size=\"14.00\" fill=\"#000000\">value = [1, 0, 19, 0, 0]</text>\n<text text-anchor=\"start\" x=\"1899.5\" y=\"-587.8\" font-family=\"Helvetica,sans-Serif\" font-size=\"14.00\" fill=\"#000000\">class = Poor</text>\n</g>\n<!-- 52&#45;&gt;53 -->\n<g id=\"edge53\" class=\"edge\">\n<title>52&#45;&gt;53</title>\n<path fill=\"none\" stroke=\"#000000\" d=\"M1940,-698.8796C1940,-690.6838 1940,-681.9891 1940,-673.5013\"/>\n<polygon fill=\"#000000\" stroke=\"#000000\" points=\"1943.5001,-673.298 1940,-663.2981 1936.5001,-673.2981 1943.5001,-673.298\"/>\n</g>\n<!-- 58 -->\n<g id=\"node59\" class=\"node\">\n<title>58</title>\n<path fill=\"#e58139\" stroke=\"#000000\" d=\"M2170,-655.5C2170,-655.5 2048,-655.5 2048,-655.5 2042,-655.5 2036,-649.5 2036,-643.5 2036,-643.5 2036,-599.5 2036,-599.5 2036,-593.5 2042,-587.5 2048,-587.5 2048,-587.5 2170,-587.5 2170,-587.5 2176,-587.5 2182,-593.5 2182,-599.5 2182,-599.5 2182,-643.5 2182,-643.5 2182,-649.5 2176,-655.5 2170,-655.5\"/>\n<text text-anchor=\"start\" x=\"2066.5\" y=\"-640.3\" font-family=\"Helvetica,sans-Serif\" font-size=\"14.00\" fill=\"#000000\">entropy = 0.0</text>\n<text text-anchor=\"start\" x=\"2069.5\" y=\"-625.3\" font-family=\"Helvetica,sans-Serif\" font-size=\"14.00\" fill=\"#000000\">samples = 1</text>\n<text text-anchor=\"start\" x=\"2044\" y=\"-610.3\" font-family=\"Helvetica,sans-Serif\" font-size=\"14.00\" fill=\"#000000\">value = [1, 0, 0, 0, 0]</text>\n<text text-anchor=\"start\" x=\"2072.5\" y=\"-595.3\" font-family=\"Helvetica,sans-Serif\" font-size=\"14.00\" fill=\"#000000\">class = Fail</text>\n</g>\n<!-- 52&#45;&gt;58 -->\n<g id=\"edge58\" class=\"edge\">\n<title>52&#45;&gt;58</title>\n<path fill=\"none\" stroke=\"#000000\" d=\"M1999.108,-698.8796C2016.3677,-686.7263 2035.1856,-673.4759 2052.293,-661.4297\"/>\n<polygon fill=\"#000000\" stroke=\"#000000\" points=\"2054.3782,-664.2421 2060.5396,-655.623 2050.3481,-658.5187 2054.3782,-664.2421\"/>\n</g>\n<!-- 54 -->\n<g id=\"node55\" class=\"node\">\n<title>54</title>\n<path fill=\"#9cf2e2\" stroke=\"#000000\" d=\"M2014.5,-544C2014.5,-544 1865.5,-544 1865.5,-544 1859.5,-544 1853.5,-538 1853.5,-532 1853.5,-532 1853.5,-473 1853.5,-473 1853.5,-467 1859.5,-461 1865.5,-461 1865.5,-461 2014.5,-461 2014.5,-461 2020.5,-461 2026.5,-467 2026.5,-473 2026.5,-473 2026.5,-532 2026.5,-532 2026.5,-538 2020.5,-544 2014.5,-544\"/>\n<text text-anchor=\"start\" x=\"1861.5\" y=\"-528.8\" font-family=\"Helvetica,sans-Serif\" font-size=\"14.00\" fill=\"#000000\">DSocialMediaHour ≤ 2.5</text>\n<text text-anchor=\"start\" x=\"1889\" y=\"-513.8\" font-family=\"Helvetica,sans-Serif\" font-size=\"14.00\" fill=\"#000000\">entropy = 0.918</text>\n<text text-anchor=\"start\" x=\"1900.5\" y=\"-498.8\" font-family=\"Helvetica,sans-Serif\" font-size=\"14.00\" fill=\"#000000\">samples = 3</text>\n<text text-anchor=\"start\" x=\"1875\" y=\"-483.8\" font-family=\"Helvetica,sans-Serif\" font-size=\"14.00\" fill=\"#000000\">value = [1, 0, 2, 0, 0]</text>\n<text text-anchor=\"start\" x=\"1899.5\" y=\"-468.8\" font-family=\"Helvetica,sans-Serif\" font-size=\"14.00\" fill=\"#000000\">class = Poor</text>\n</g>\n<!-- 53&#45;&gt;54 -->\n<g id=\"edge54\" class=\"edge\">\n<title>53&#45;&gt;54</title>\n<path fill=\"none\" stroke=\"#000000\" d=\"M1940,-579.8796C1940,-571.6838 1940,-562.9891 1940,-554.5013\"/>\n<polygon fill=\"#000000\" stroke=\"#000000\" points=\"1943.5001,-554.298 1940,-544.2981 1936.5001,-554.2981 1943.5001,-554.298\"/>\n</g>\n<!-- 57 -->\n<g id=\"node58\" class=\"node\">\n<title>57</title>\n<path fill=\"#39e5c5\" stroke=\"#000000\" d=\"M2187.5,-536.5C2187.5,-536.5 2056.5,-536.5 2056.5,-536.5 2050.5,-536.5 2044.5,-530.5 2044.5,-524.5 2044.5,-524.5 2044.5,-480.5 2044.5,-480.5 2044.5,-474.5 2050.5,-468.5 2056.5,-468.5 2056.5,-468.5 2187.5,-468.5 2187.5,-468.5 2193.5,-468.5 2199.5,-474.5 2199.5,-480.5 2199.5,-480.5 2199.5,-524.5 2199.5,-524.5 2199.5,-530.5 2193.5,-536.5 2187.5,-536.5\"/>\n<text text-anchor=\"start\" x=\"2079.5\" y=\"-521.3\" font-family=\"Helvetica,sans-Serif\" font-size=\"14.00\" fill=\"#000000\">entropy = 0.0</text>\n<text text-anchor=\"start\" x=\"2078\" y=\"-506.3\" font-family=\"Helvetica,sans-Serif\" font-size=\"14.00\" fill=\"#000000\">samples = 17</text>\n<text text-anchor=\"start\" x=\"2052.5\" y=\"-491.3\" font-family=\"Helvetica,sans-Serif\" font-size=\"14.00\" fill=\"#000000\">value = [0, 0, 17, 0, 0]</text>\n<text text-anchor=\"start\" x=\"2081.5\" y=\"-476.3\" font-family=\"Helvetica,sans-Serif\" font-size=\"14.00\" fill=\"#000000\">class = Poor</text>\n</g>\n<!-- 53&#45;&gt;57 -->\n<g id=\"edge57\" class=\"edge\">\n<title>53&#45;&gt;57</title>\n<path fill=\"none\" stroke=\"#000000\" d=\"M2003.6548,-579.8796C2022.4111,-567.6158 2042.8761,-554.2348 2061.433,-542.1015\"/>\n<polygon fill=\"#000000\" stroke=\"#000000\" points=\"2063.3575,-545.025 2069.8118,-536.623 2059.5267,-539.1662 2063.3575,-545.025\"/>\n</g>\n<!-- 55 -->\n<g id=\"node56\" class=\"node\">\n<title>55</title>\n<path fill=\"#39e5c5\" stroke=\"#000000\" d=\"M1985,-417.5C1985,-417.5 1863,-417.5 1863,-417.5 1857,-417.5 1851,-411.5 1851,-405.5 1851,-405.5 1851,-361.5 1851,-361.5 1851,-355.5 1857,-349.5 1863,-349.5 1863,-349.5 1985,-349.5 1985,-349.5 1991,-349.5 1997,-355.5 1997,-361.5 1997,-361.5 1997,-405.5 1997,-405.5 1997,-411.5 1991,-417.5 1985,-417.5\"/>\n<text text-anchor=\"start\" x=\"1881.5\" y=\"-402.3\" font-family=\"Helvetica,sans-Serif\" font-size=\"14.00\" fill=\"#000000\">entropy = 0.0</text>\n<text text-anchor=\"start\" x=\"1884.5\" y=\"-387.3\" font-family=\"Helvetica,sans-Serif\" font-size=\"14.00\" fill=\"#000000\">samples = 2</text>\n<text text-anchor=\"start\" x=\"1859\" y=\"-372.3\" font-family=\"Helvetica,sans-Serif\" font-size=\"14.00\" fill=\"#000000\">value = [0, 0, 2, 0, 0]</text>\n<text text-anchor=\"start\" x=\"1883.5\" y=\"-357.3\" font-family=\"Helvetica,sans-Serif\" font-size=\"14.00\" fill=\"#000000\">class = Poor</text>\n</g>\n<!-- 54&#45;&gt;55 -->\n<g id=\"edge55\" class=\"edge\">\n<title>54&#45;&gt;55</title>\n<path fill=\"none\" stroke=\"#000000\" d=\"M1934.404,-460.8796C1932.9699,-450.2134 1931.4221,-438.7021 1929.97,-427.9015\"/>\n<polygon fill=\"#000000\" stroke=\"#000000\" points=\"1933.4152,-427.2593 1928.6138,-417.8149 1926.4776,-428.1922 1933.4152,-427.2593\"/>\n</g>\n<!-- 56 -->\n<g id=\"node57\" class=\"node\">\n<title>56</title>\n<path fill=\"#e58139\" stroke=\"#000000\" d=\"M2149,-417.5C2149,-417.5 2027,-417.5 2027,-417.5 2021,-417.5 2015,-411.5 2015,-405.5 2015,-405.5 2015,-361.5 2015,-361.5 2015,-355.5 2021,-349.5 2027,-349.5 2027,-349.5 2149,-349.5 2149,-349.5 2155,-349.5 2161,-355.5 2161,-361.5 2161,-361.5 2161,-405.5 2161,-405.5 2161,-411.5 2155,-417.5 2149,-417.5\"/>\n<text text-anchor=\"start\" x=\"2045.5\" y=\"-402.3\" font-family=\"Helvetica,sans-Serif\" font-size=\"14.00\" fill=\"#000000\">entropy = 0.0</text>\n<text text-anchor=\"start\" x=\"2048.5\" y=\"-387.3\" font-family=\"Helvetica,sans-Serif\" font-size=\"14.00\" fill=\"#000000\">samples = 1</text>\n<text text-anchor=\"start\" x=\"2023\" y=\"-372.3\" font-family=\"Helvetica,sans-Serif\" font-size=\"14.00\" fill=\"#000000\">value = [1, 0, 0, 0, 0]</text>\n<text text-anchor=\"start\" x=\"2051.5\" y=\"-357.3\" font-family=\"Helvetica,sans-Serif\" font-size=\"14.00\" fill=\"#000000\">class = Fail</text>\n</g>\n<!-- 54&#45;&gt;56 -->\n<g id=\"edge56\" class=\"edge\">\n<title>54&#45;&gt;56</title>\n<path fill=\"none\" stroke=\"#000000\" d=\"M1991.7632,-460.8796C2006.5331,-449.0038 2022.6059,-436.0804 2037.3108,-424.2568\"/>\n<polygon fill=\"#000000\" stroke=\"#000000\" points=\"2039.7225,-426.8088 2045.3226,-417.8149 2035.3361,-421.3535 2039.7225,-426.8088\"/>\n</g>\n</g>\n</svg>\n"
          },
          "metadata": {},
          "execution_count": 178
        }
      ]
    },
    {
      "cell_type": "markdown",
      "metadata": {
        "id": "lO113u8M0PJC"
      },
      "source": [
        "## Hyper Parameter Tuning for Decision Tree"
      ]
    },
    {
      "cell_type": "code",
      "metadata": {
        "id": "oMypseiu0Z_9"
      },
      "source": [
        "# Decision Tree Classifier \n",
        "\n",
        "dt = DecisionTreeClassifier()"
      ],
      "execution_count": null,
      "outputs": []
    },
    {
      "cell_type": "code",
      "metadata": {
        "id": "4G8Mqo870bWW"
      },
      "source": [
        "# Model Parameters\n",
        "from sklearn.model_selection import GridSearchCV\n",
        "\n",
        "param_dict = {\n",
        "    \"criterion\": ['gini', 'entropy'],\n",
        "    \"max_depth\": range(1, 10),\n",
        "    \"min_samples_split\": range(1, 10),\n",
        "    \"min_samples_leaf\": range(1, 5)\n",
        "}"
      ],
      "execution_count": null,
      "outputs": []
    },
    {
      "cell_type": "code",
      "metadata": {
        "colab": {
          "base_uri": "https://localhost:8080/"
        },
        "id": "-rhpJ0ZQ0dkl",
        "outputId": "a9461821-a986-476e-fed0-17059804b663"
      },
      "source": [
        "#dictp = {'i': 0, 'accuracy': 0}\n",
        "\n",
        "#for i in range(101):\n",
        "X_train, X_test, y_train, y_test = train_test_split(X, y, test_size=0.2, random_state=25)\n",
        "\n",
        "grid = GridSearchCV(dt, param_grid=param_dict, cv=10, verbose = 1, n_jobs=-1)\n",
        "\n",
        "grid.fit(X_train, y_train)\n",
        "\n",
        "#print(grid.best_params_) \n",
        "#print(grid.best_estimator_)\n",
        "\n",
        "grid_predictions = grid.predict(X_test) \n",
        "\n",
        "#print(classification_report(y_test, grid_predictions)) \n",
        "\n",
        "acu = accuracy_score(y_test, grid_predictions) * 100\n",
        "\n",
        "#   if dictp['accuracy'] < acu:\n",
        "#       dictp['accuracy'] = acu\n",
        "#       dictp['i'] = i\n",
        "\n",
        "#print(\"i : \", dictp['i'], \" accuracy : \", dictp['accuracy'])"
      ],
      "execution_count": null,
      "outputs": [
        {
          "output_type": "stream",
          "name": "stdout",
          "text": [
            "Fitting 10 folds for each of 648 candidates, totalling 6480 fits\n"
          ]
        },
        {
          "output_type": "stream",
          "name": "stderr",
          "text": [
            "/usr/local/lib/python3.7/dist-packages/sklearn/model_selection/_split.py:680: UserWarning: The least populated class in y has only 1 members, which is less than n_splits=10.\n",
            "  UserWarning,\n",
            "/usr/local/lib/python3.7/dist-packages/sklearn/model_selection/_validation.py:372: FitFailedWarning: \n",
            "720 fits failed out of a total of 6480.\n",
            "The score on these train-test partitions for these parameters will be set to nan.\n",
            "If these failures are not expected, you can try to debug them by setting error_score='raise'.\n",
            "\n",
            "Below are more details about the failures:\n",
            "--------------------------------------------------------------------------------\n",
            "720 fits failed with the following error:\n",
            "Traceback (most recent call last):\n",
            "  File \"/usr/local/lib/python3.7/dist-packages/sklearn/model_selection/_validation.py\", line 681, in _fit_and_score\n",
            "    estimator.fit(X_train, y_train, **fit_params)\n",
            "  File \"/usr/local/lib/python3.7/dist-packages/sklearn/tree/_classes.py\", line 942, in fit\n",
            "    X_idx_sorted=X_idx_sorted,\n",
            "  File \"/usr/local/lib/python3.7/dist-packages/sklearn/tree/_classes.py\", line 254, in fit\n",
            "    % self.min_samples_split\n",
            "ValueError: min_samples_split must be an integer greater than 1 or a float in (0.0, 1.0]; got the integer 1\n",
            "\n",
            "  warnings.warn(some_fits_failed_message, FitFailedWarning)\n",
            "/usr/local/lib/python3.7/dist-packages/sklearn/model_selection/_search.py:972: UserWarning: One or more of the test scores are non-finite: [       nan 0.47619048 0.47619048 0.47619048 0.47619048 0.47619048\n",
            " 0.47619048 0.47619048 0.47619048        nan 0.47619048 0.47619048\n",
            " 0.47619048 0.47619048 0.47619048 0.47619048 0.47619048 0.47619048\n",
            "        nan 0.47619048 0.47619048 0.47619048 0.47619048 0.47619048\n",
            " 0.47619048 0.47619048 0.47619048        nan 0.47619048 0.47619048\n",
            " 0.47619048 0.47619048 0.47619048 0.47619048 0.47619048 0.47619048\n",
            "        nan 0.49285714 0.49285714 0.49285714 0.49285714 0.49285714\n",
            " 0.49285714 0.49285714 0.49285714        nan 0.49285714 0.49285714\n",
            " 0.49285714 0.49285714 0.49285714 0.49285714 0.49285714 0.49285714\n",
            "        nan 0.46190476 0.46190476 0.46190476 0.46190476 0.46190476\n",
            " 0.46190476 0.46190476 0.46190476        nan 0.47619048 0.47619048\n",
            " 0.47619048 0.47619048 0.47619048 0.47619048 0.47619048 0.47619048\n",
            "        nan 0.39285714 0.39285714 0.39285714 0.39285714 0.39285714\n",
            " 0.39285714 0.39285714 0.39285714        nan 0.39285714 0.39285714\n",
            " 0.39285714 0.39285714 0.39285714 0.39285714 0.39285714 0.39285714\n",
            "        nan 0.36190476 0.36190476 0.36190476 0.36190476 0.36190476\n",
            " 0.36190476 0.36190476 0.36190476        nan 0.37619048 0.37619048\n",
            " 0.37619048 0.37619048 0.37619048 0.37619048 0.37619048 0.37619048\n",
            "        nan 0.39285714 0.37857143 0.39285714 0.37857143 0.36428571\n",
            " 0.37857143 0.37857143 0.39285714        nan 0.39285714 0.37857143\n",
            " 0.37857143 0.37857143 0.35       0.35       0.37857143 0.37857143\n",
            "        nan 0.34761905 0.34761905 0.33333333 0.34761905 0.34761905\n",
            " 0.34761905 0.34761905 0.34761905        nan 0.37619048 0.37619048\n",
            " 0.37619048 0.36190476 0.37619048 0.34761905 0.36190476 0.39047619\n",
            "        nan 0.4047619  0.4047619  0.4047619  0.39047619 0.37619048\n",
            " 0.37619048 0.36190476 0.37619048        nan 0.39047619 0.4047619\n",
            " 0.41904762 0.36190476 0.36190476 0.33333333 0.36190476 0.36190476\n",
            "        nan 0.33333333 0.34761905 0.36190476 0.33333333 0.34761905\n",
            " 0.33333333 0.34761905 0.36190476        nan 0.33095238 0.33095238\n",
            " 0.33095238 0.36190476 0.33095238 0.31666667 0.33095238 0.35952381\n",
            "        nan 0.4047619  0.39047619 0.36190476 0.39047619 0.37619048\n",
            " 0.36190476 0.36190476 0.37619048        nan 0.40714286 0.39285714\n",
            " 0.40714286 0.37857143 0.36428571 0.33571429 0.37857143 0.37619048\n",
            "        nan 0.34761905 0.33333333 0.33333333 0.33333333 0.34761905\n",
            " 0.3047619  0.31904762 0.34761905        nan 0.34761905 0.33333333\n",
            " 0.34761905 0.34761905 0.35952381 0.35952381 0.33095238 0.3452381\n",
            "        nan 0.39285714 0.37857143 0.37619048 0.39285714 0.37857143\n",
            " 0.36190476 0.34761905 0.34761905        nan 0.37857143 0.37857143\n",
            " 0.39285714 0.33571429 0.36428571 0.33571429 0.36428571 0.36190476\n",
            "        nan 0.31904762 0.3047619  0.31904762 0.33333333 0.31904762\n",
            " 0.3047619  0.33333333 0.34761905        nan 0.33095238 0.34761905\n",
            " 0.34761905 0.33095238 0.33333333 0.34761905 0.31666667 0.34761905\n",
            "        nan 0.36190476 0.39047619 0.33333333 0.39047619 0.34761905\n",
            " 0.34761905 0.36190476 0.37619048        nan 0.39285714 0.36428571\n",
            " 0.42142857 0.36428571 0.35       0.33571429 0.36428571 0.36190476\n",
            "        nan 0.33333333 0.31904762 0.33333333 0.31904762 0.33333333\n",
            " 0.31904762 0.33333333 0.34761905        nan 0.33095238 0.33095238\n",
            " 0.36190476 0.33333333 0.3452381  0.34761905 0.34761905 0.35952381\n",
            "        nan 0.34761905 0.39047619 0.33333333 0.4047619  0.36190476\n",
            " 0.40714286 0.36190476 0.36190476        nan 0.40714286 0.39285714\n",
            " 0.39285714 0.37857143 0.35       0.32142857 0.36428571 0.34761905\n",
            "        nan 0.33333333 0.33333333 0.33333333 0.33333333 0.31904762\n",
            " 0.31904762 0.33333333 0.33333333        nan 0.31666667 0.3452381\n",
            " 0.37619048 0.34761905 0.31666667 0.33095238 0.33333333 0.35952381\n",
            "        nan 0.47619048 0.47619048 0.47619048 0.47619048 0.47619048\n",
            " 0.47619048 0.47619048 0.47619048        nan 0.47619048 0.47619048\n",
            " 0.47619048 0.47619048 0.47619048 0.47619048 0.47619048 0.47619048\n",
            "        nan 0.47619048 0.47619048 0.47619048 0.47619048 0.47619048\n",
            " 0.47619048 0.47619048 0.47619048        nan 0.47619048 0.47619048\n",
            " 0.47619048 0.47619048 0.47619048 0.47619048 0.47619048 0.47619048\n",
            "        nan 0.47619048 0.47619048 0.47619048 0.47619048 0.47619048\n",
            " 0.47619048 0.47619048 0.47619048        nan 0.47619048 0.47619048\n",
            " 0.47619048 0.47619048 0.47619048 0.47619048 0.47619048 0.47619048\n",
            "        nan 0.47619048 0.47619048 0.47619048 0.47619048 0.47619048\n",
            " 0.47619048 0.47619048 0.47619048        nan 0.47619048 0.47619048\n",
            " 0.47619048 0.47619048 0.47619048 0.47619048 0.47619048 0.47619048\n",
            "        nan 0.37619048 0.37619048 0.37619048 0.37619048 0.37619048\n",
            " 0.37619048 0.37619048 0.37619048        nan 0.37619048 0.37619048\n",
            " 0.37619048 0.37619048 0.37619048 0.37619048 0.37619048 0.37619048\n",
            "        nan 0.35952381 0.35952381 0.35952381 0.35952381 0.35952381\n",
            " 0.35952381 0.35952381 0.35952381        nan 0.31666667 0.31666667\n",
            " 0.31666667 0.31666667 0.31666667 0.31666667 0.31666667 0.31666667\n",
            "        nan 0.41666667 0.38809524 0.39047619 0.4047619  0.4047619\n",
            " 0.37619048 0.37619048 0.39047619        nan 0.4047619  0.39047619\n",
            " 0.4047619  0.4047619  0.39047619 0.39047619 0.36190476 0.39047619\n",
            "        nan 0.3452381  0.3452381  0.3452381  0.3452381  0.35952381\n",
            " 0.35952381 0.35952381 0.35952381        nan 0.35952381 0.33095238\n",
            " 0.33095238 0.31666667 0.33095238 0.31666667 0.3452381  0.3452381\n",
            "        nan 0.35952381 0.38809524 0.37619048 0.36190476 0.37619048\n",
            " 0.36190476 0.34761905 0.37619048        nan 0.37619048 0.37619048\n",
            " 0.36190476 0.36190476 0.37619048 0.34761905 0.33333333 0.36190476\n",
            "        nan 0.33095238 0.3452381  0.3452381  0.3452381  0.3452381\n",
            " 0.3452381  0.3452381  0.37380952        nan 0.33095238 0.30238095\n",
            " 0.33095238 0.33095238 0.30238095 0.3452381  0.33095238 0.31666667\n",
            "        nan 0.33095238 0.40714286 0.37619048 0.4047619  0.37857143\n",
            " 0.33333333 0.33333333 0.34761905        nan 0.37857143 0.36428571\n",
            " 0.37619048 0.36428571 0.35       0.37857143 0.33333333 0.36190476\n",
            "        nan 0.37619048 0.4047619  0.37619048 0.36190476 0.39047619\n",
            " 0.37619048 0.3452381  0.35952381        nan 0.27380952 0.33095238\n",
            " 0.3452381  0.33095238 0.30238095 0.30238095 0.37380952 0.31666667\n",
            "        nan 0.37857143 0.34761905 0.42142857 0.40714286 0.37857143\n",
            " 0.33333333 0.33333333 0.31904762        nan 0.4047619  0.36428571\n",
            " 0.39285714 0.33571429 0.32142857 0.35       0.36190476 0.34761905\n",
            "        nan 0.36190476 0.39047619 0.34761905 0.36190476 0.36190476\n",
            " 0.36190476 0.35952381 0.3452381         nan 0.30238095 0.28809524\n",
            " 0.31666667 0.33095238 0.30238095 0.31666667 0.33095238 0.31666667\n",
            "        nan 0.36428571 0.33333333 0.36428571 0.33571429 0.32142857\n",
            " 0.30714286 0.31904762 0.3047619         nan 0.33333333 0.33333333\n",
            " 0.35       0.33571429 0.35       0.32142857 0.33333333 0.31904762\n",
            "        nan 0.36190476 0.33333333 0.33333333 0.37619048 0.37619048\n",
            " 0.31904762 0.31666667 0.33095238        nan 0.31666667 0.28809524\n",
            " 0.30238095 0.33095238 0.28809524 0.30238095 0.31666667 0.28809524\n",
            "        nan 0.30714286 0.32142857 0.37857143 0.39285714 0.35\n",
            " 0.31904762 0.3047619  0.3047619         nan 0.29047619 0.33571429\n",
            " 0.33571429 0.36428571 0.36428571 0.32142857 0.29047619 0.3047619\n",
            "        nan 0.34761905 0.33333333 0.37619048 0.34761905 0.33333333\n",
            " 0.36190476 0.33095238 0.3452381         nan 0.31666667 0.27380952\n",
            " 0.30238095 0.31666667 0.31666667 0.28809524 0.33095238 0.30238095]\n",
            "  category=UserWarning,\n"
          ]
        }
      ]
    },
    {
      "cell_type": "code",
      "metadata": {
        "colab": {
          "base_uri": "https://localhost:8080/"
        },
        "id": "NsLGLd6O0jIK",
        "outputId": "8b10ba53-f22a-47e7-be9a-a29a81644b15"
      },
      "source": [
        "# Best Model's Report\n",
        "\n",
        "from sklearn.metrics import classification_report, confusion_matrix \n",
        "\n",
        "print(grid.best_params_) \n",
        "\n",
        "print(classification_report(y_test, grid_predictions))\n",
        "\n",
        "#print(\"i : \", dictp['i'], \" accuracy : \", dictp['accuracy'])"
      ],
      "execution_count": null,
      "outputs": [
        {
          "output_type": "stream",
          "name": "stdout",
          "text": [
            "{'criterion': 'gini', 'max_depth': 2, 'min_samples_leaf': 1, 'min_samples_split': 2}\n",
            "              precision    recall  f1-score   support\n",
            "\n",
            "   Excellent       0.00      0.00      0.00         1\n",
            "        Good       0.00      0.00      0.00         0\n",
            " Outstanding       0.81      0.93      0.87        14\n",
            "   Very Good       0.00      0.00      0.00         3\n",
            "\n",
            "    accuracy                           0.72        18\n",
            "   macro avg       0.20      0.23      0.22        18\n",
            "weighted avg       0.63      0.72      0.67        18\n",
            "\n"
          ]
        },
        {
          "output_type": "stream",
          "name": "stderr",
          "text": [
            "/usr/local/lib/python3.7/dist-packages/sklearn/metrics/_classification.py:1308: UndefinedMetricWarning: Precision and F-score are ill-defined and being set to 0.0 in labels with no predicted samples. Use `zero_division` parameter to control this behavior.\n",
            "  _warn_prf(average, modifier, msg_start, len(result))\n",
            "/usr/local/lib/python3.7/dist-packages/sklearn/metrics/_classification.py:1308: UndefinedMetricWarning: Recall and F-score are ill-defined and being set to 0.0 in labels with no true samples. Use `zero_division` parameter to control this behavior.\n",
            "  _warn_prf(average, modifier, msg_start, len(result))\n",
            "/usr/local/lib/python3.7/dist-packages/sklearn/metrics/_classification.py:1308: UndefinedMetricWarning: Precision and F-score are ill-defined and being set to 0.0 in labels with no predicted samples. Use `zero_division` parameter to control this behavior.\n",
            "  _warn_prf(average, modifier, msg_start, len(result))\n",
            "/usr/local/lib/python3.7/dist-packages/sklearn/metrics/_classification.py:1308: UndefinedMetricWarning: Recall and F-score are ill-defined and being set to 0.0 in labels with no true samples. Use `zero_division` parameter to control this behavior.\n",
            "  _warn_prf(average, modifier, msg_start, len(result))\n",
            "/usr/local/lib/python3.7/dist-packages/sklearn/metrics/_classification.py:1308: UndefinedMetricWarning: Precision and F-score are ill-defined and being set to 0.0 in labels with no predicted samples. Use `zero_division` parameter to control this behavior.\n",
            "  _warn_prf(average, modifier, msg_start, len(result))\n",
            "/usr/local/lib/python3.7/dist-packages/sklearn/metrics/_classification.py:1308: UndefinedMetricWarning: Recall and F-score are ill-defined and being set to 0.0 in labels with no true samples. Use `zero_division` parameter to control this behavior.\n",
            "  _warn_prf(average, modifier, msg_start, len(result))\n"
          ]
        }
      ]
    },
    {
      "cell_type": "markdown",
      "metadata": {
        "id": "r9Jgg54rxcuU"
      },
      "source": [
        "## Result Prediction using KNN"
      ]
    },
    {
      "cell_type": "markdown",
      "metadata": {
        "id": "nSWBWcc9DA35"
      },
      "source": [
        "## Dataset Scaling"
      ]
    },
    {
      "cell_type": "code",
      "metadata": {
        "id": "lGrFZoKtxa-E"
      },
      "source": [
        "# Dataset Scaling\n",
        "\n",
        "from sklearn.preprocessing import StandardScaler\n",
        "\n",
        "X_train, X_test, y_train, y_test = train_test_split(X, y, test_size=0.2, random_state=25)\n",
        "\n",
        "scaler = StandardScaler()\n",
        "\n",
        "scaler.fit(X_train)\n",
        "\n",
        "X_train = scaler.transform(X_train)\n",
        "X_test = scaler.transform(X_test)"
      ],
      "execution_count": null,
      "outputs": []
    },
    {
      "cell_type": "markdown",
      "metadata": {
        "id": "22mWDa3BGT0v"
      },
      "source": [
        "## Getting Accuracy List for Varing Value of K"
      ]
    },
    {
      "cell_type": "code",
      "metadata": {
        "colab": {
          "base_uri": "https://localhost:8080/"
        },
        "id": "qGzM0DYwy-K3",
        "outputId": "a416ef75-6de6-4fa8-fc17-38967d6486c2"
      },
      "source": [
        "from sklearn.neighbors import KNeighborsClassifier\n",
        "from sklearn import metrics\n",
        "\n",
        "accuracy_list = np.zeros(20)\n",
        "\n",
        "for i in range(1, 21):  \n",
        "    KNN = KNeighborsClassifier(n_neighbors = i).fit(X_train, y_train)\n",
        "\n",
        "    y_pred = KNN.predict(X_test)\n",
        "    \n",
        "    accuracy_list[i-1] = metrics.accuracy_score(y_test, y_pred)\n",
        "\n",
        "print(accuracy_list)"
      ],
      "execution_count": null,
      "outputs": [
        {
          "output_type": "stream",
          "name": "stdout",
          "text": [
            "[0.44444444 0.33333333 0.38888889 0.44444444 0.44444444 0.5\n",
            " 0.5        0.55555556 0.66666667 0.77777778 0.72222222 0.72222222\n",
            " 0.66666667 0.72222222 0.72222222 0.72222222 0.77777778 0.77777778\n",
            " 0.77777778 0.77777778]\n"
          ]
        }
      ]
    },
    {
      "cell_type": "markdown",
      "metadata": {
        "id": "PDjW5ReAGl8j"
      },
      "source": [
        "## Accuracy VS Number of Neighbors Graph"
      ]
    },
    {
      "cell_type": "code",
      "metadata": {
        "colab": {
          "base_uri": "https://localhost:8080/",
          "height": 392
        },
        "id": "1iM1cXK5zKdL",
        "outputId": "c96f783f-3d64-4e27-aca3-b8093394ac98"
      },
      "source": [
        "xticks_mark = np.arange(1, 21, step=1.0)\n",
        "\n",
        "plt.figure(figsize = (10, 6))\n",
        "\n",
        "plt.plot(range(1, 21), accuracy_list)\n",
        "\n",
        "plt.xticks(xticks_mark)\n",
        "\n",
        "plt.xlabel('Number of Neighbors')\n",
        "plt.ylabel('Accuracy')\n",
        "\n",
        "plt.show()"
      ],
      "execution_count": null,
      "outputs": [
        {
          "output_type": "display_data",
          "data": {
            "image/png": "[encoded data removed]",
            "text/plain": [
              "<Figure size 720x432 with 1 Axes>"
            ]
          },
          "metadata": {
            "needs_background": "light"
          }
        }
      ]
    },
    {
      "cell_type": "markdown",
      "metadata": {
        "id": "3AB_zaPrJOGt"
      },
      "source": [
        "## Errors Calculation for Different K Values"
      ]
    },
    {
      "cell_type": "code",
      "metadata": {
        "colab": {
          "base_uri": "https://localhost:8080/"
        },
        "id": "o94Kqu050CaU",
        "outputId": "2af0c42e-a4d8-44f8-a753-75f4bf5b603d"
      },
      "source": [
        "# Calculating Errors for K Values Between 1 and 40\n",
        "\n",
        "error = []\n",
        "for i in range(1, 40):\n",
        "    KNN = KNeighborsClassifier(n_neighbors = i)\n",
        "    KNN.fit(X_train, y_train)\n",
        "    pred_i = KNN.predict(X_test)\n",
        "    error.append(np.mean(pred_i != y_test))\n",
        "    print(np.mean(pred_i != y_test))"
      ],
      "execution_count": null,
      "outputs": [
        {
          "output_type": "stream",
          "name": "stdout",
          "text": [
            "0.5555555555555556\n",
            "0.6666666666666666\n",
            "0.6111111111111112\n",
            "0.5555555555555556\n",
            "0.5555555555555556\n",
            "0.5\n",
            "0.5\n",
            "0.4444444444444444\n",
            "0.3333333333333333\n",
            "0.2222222222222222\n",
            "0.2777777777777778\n",
            "0.2777777777777778\n",
            "0.3333333333333333\n",
            "0.2777777777777778\n",
            "0.2777777777777778\n",
            "0.2777777777777778\n",
            "0.2222222222222222\n",
            "0.2222222222222222\n",
            "0.2222222222222222\n",
            "0.2222222222222222\n",
            "0.2777777777777778\n",
            "0.2777777777777778\n",
            "0.2777777777777778\n",
            "0.2777777777777778\n",
            "0.3333333333333333\n",
            "0.3333333333333333\n",
            "0.3333333333333333\n",
            "0.2777777777777778\n",
            "0.2222222222222222\n",
            "0.2222222222222222\n",
            "0.2222222222222222\n",
            "0.2222222222222222\n",
            "0.2222222222222222\n",
            "0.2222222222222222\n",
            "0.2222222222222222\n",
            "0.2222222222222222\n",
            "0.2222222222222222\n",
            "0.2222222222222222\n",
            "0.2222222222222222\n"
          ]
        }
      ]
    },
    {
      "cell_type": "markdown",
      "metadata": {
        "id": "Fz__hbXMKU0L"
      },
      "source": [
        "## Errors Plotting for Different K Values"
      ]
    },
    {
      "cell_type": "code",
      "metadata": {
        "colab": {
          "base_uri": "https://localhost:8080/",
          "height": 422
        },
        "id": "AnmgP5ZF0Gf8",
        "outputId": "97bbe34b-ff4c-4bc1-a9db-0efa5b45815a"
      },
      "source": [
        "plt.figure(figsize=(12, 6))\n",
        "\n",
        "plt.plot(range(1, 40), error, color='red', linestyle='dashed', marker='o', markerfacecolor='blue', markersize=10)\n",
        "\n",
        "plt.title('Error VS K Value')\n",
        "\n",
        "plt.xlabel('K Values')\n",
        "plt.ylabel('Errors')"
      ],
      "execution_count": null,
      "outputs": [
        {
          "output_type": "execute_result",
          "data": {
            "text/plain": [
              "Text(0, 0.5, 'Errors')"
            ]
          },
          "metadata": {},
          "execution_count": 189
        },
        {
          "output_type": "display_data",
          "data": {
            "image/png": "[encoded data removed]",
            "text/plain": [
              "<Figure size 864x432 with 1 Axes>"
            ]
          },
          "metadata": {
            "needs_background": "light"
          }
        }
      ]
    },
    {
      "cell_type": "markdown",
      "metadata": {
        "id": "xodzMCApH6QX"
      },
      "source": [
        "## Getting Hyperparameters with the Best Score"
      ]
    },
    {
      "cell_type": "code",
      "metadata": {
        "colab": {
          "base_uri": "https://localhost:8080/"
        },
        "id": "3JapexFkzR5a",
        "outputId": "ed77b40a-5b85-4bea-a6fc-38e44b17d78f"
      },
      "source": [
        "from sklearn.model_selection import GridSearchCV\n",
        "\n",
        "grid_params = {'n_neighbors' : np.arange(1, 21, step=1),\n",
        "               'weights' : ['uniform', 'distance'],\n",
        "               'metric' : ['minkowski', 'euclidean', 'manhattan']}\n",
        "\n",
        "gs = GridSearchCV(KNeighborsClassifier(), grid_params, verbose=1, cv=3, n_jobs = -1)\n",
        "\n",
        "# Fit the Model on Our Train Set\n",
        "g_res = gs.fit(X_train, y_train)\n",
        "\n",
        "# Hyperparameters with the Best Score\n",
        "print(g_res.best_params_)"
      ],
      "execution_count": null,
      "outputs": [
        {
          "output_type": "stream",
          "name": "stdout",
          "text": [
            "Fitting 3 folds for each of 120 candidates, totalling 360 fits\n"
          ]
        },
        {
          "output_type": "stream",
          "name": "stderr",
          "text": [
            "/usr/local/lib/python3.7/dist-packages/sklearn/model_selection/_split.py:680: UserWarning: The least populated class in y has only 1 members, which is less than n_splits=3.\n",
            "  UserWarning,\n"
          ]
        },
        {
          "output_type": "stream",
          "name": "stdout",
          "text": [
            "{'metric': 'minkowski', 'n_neighbors': 10, 'weights': 'distance'}\n"
          ]
        }
      ]
    },
    {
      "cell_type": "markdown",
      "metadata": {
        "id": "IyZtSVKxIQcR"
      },
      "source": [
        "## Forming Best Model for this Dataset"
      ]
    },
    {
      "cell_type": "code",
      "metadata": {
        "colab": {
          "base_uri": "https://localhost:8080/"
        },
        "id": "xhxdXPf7z808",
        "outputId": "808c8e94-f237-4eba-a441-b6f4f0d6ac7c"
      },
      "source": [
        "# Forming Best Model for this Dataset\n",
        "\n",
        "KNN = KNeighborsClassifier(n_neighbors = 10, weights = 'distance', algorithm = 'brute', metric = 'minkowski')\n",
        "KNN.fit(X_train, y_train)"
      ],
      "execution_count": null,
      "outputs": [
        {
          "output_type": "execute_result",
          "data": {
            "text/plain": [
              "KNeighborsClassifier(algorithm='brute', n_neighbors=10, weights='distance')"
            ]
          },
          "metadata": {},
          "execution_count": 191
        }
      ]
    },
    {
      "cell_type": "markdown",
      "metadata": {
        "id": "3oiYuXSuIr45"
      },
      "source": [
        "## Prediction"
      ]
    },
    {
      "cell_type": "code",
      "metadata": {
        "id": "tdfky4fXz-YM"
      },
      "source": [
        "# Prediction\n",
        "y_pred = KNN.predict(X_test)"
      ],
      "execution_count": null,
      "outputs": []
    },
    {
      "cell_type": "markdown",
      "metadata": {
        "id": "zjxevlIKKahD"
      },
      "source": [
        "## Best Accuracy"
      ]
    },
    {
      "cell_type": "code",
      "metadata": {
        "colab": {
          "base_uri": "https://localhost:8080/"
        },
        "id": "ENeDaANO0AoM",
        "outputId": "9db2cda3-4bcd-4281-82c5-fb1850d9afa3"
      },
      "source": [
        "print('Testing Accuracy: ', round(metrics.accuracy_score(y_test, y_pred) * 100), '%')"
      ],
      "execution_count": null,
      "outputs": [
        {
          "output_type": "stream",
          "name": "stdout",
          "text": [
            "Testing Accuracy:  78 %\n"
          ]
        }
      ]
    }
  ]
}