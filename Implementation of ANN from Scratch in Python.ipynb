{
  "nbformat": 4,
  "nbformat_minor": 0,
  "metadata": {
    "colab": {
      "name": "Implementation of ANN from Scratch in Python.ipynb",
      "provenance": [],
      "collapsed_sections": [],
      "include_colab_link": true
    },
    "kernelspec": {
      "name": "python3",
      "display_name": "Python 3"
    },
    "language_info": {
      "name": "python"
    }
  },
  "cells": [
    {
      "cell_type": "markdown",
      "metadata": {
        "id": "view-in-github",
        "colab_type": "text"
      },
      "source": [
        "<a href=\"https://colab.research.google.com/github/wnoyan/Machine-Learning/blob/master/Implementation%20of%20ANN%20from%20Scratch%20in%20Python.ipynb\" target=\"_parent\"><img src=\"https://colab.research.google.com/assets/colab-badge.svg\" alt=\"Open In Colab\"/></a>"
      ]
    },
    {
      "cell_type": "markdown",
      "metadata": {
        "id": "pKkC-FtKrFuM"
      },
      "source": [
        "## Importing Required Libraries"
      ]
    },
    {
      "cell_type": "code",
      "metadata": {
        "id": "wWmzpKV1rFOZ"
      },
      "source": [
        "# Importing Required Libraries\n",
        "\n",
        "import numpy as np\n",
        "import pandas as pd\n",
        "import matplotlib.pyplot as plt"
      ],
      "execution_count": null,
      "outputs": []
    },
    {
      "cell_type": "markdown",
      "metadata": {
        "id": "CZxvj0bwrZod"
      },
      "source": [
        "## Generating Random Dataset"
      ]
    },
    {
      "cell_type": "code",
      "metadata": {
        "colab": {
          "base_uri": "https://localhost:8080/",
          "height": 677
        },
        "id": "1Q8gVujMrdxB",
        "outputId": "76eaed16-b95b-4a05-cc51-cfb42008b022"
      },
      "source": [
        "# Generating Random Dataset\n",
        "\n",
        "X = np.vstack([(np.random.rand(10, 2)*5), (np.random.rand(10, 2)*10)])\n",
        "Y = np.hstack([[0]*10, [1]*10])\n",
        "\n",
        "dataset = pd.DataFrame(X, columns={'X1', 'X2'})\n",
        "dataset['Y'] = Y\n",
        "\n",
        "dataset"
      ],
      "execution_count": null,
      "outputs": [
        {
          "output_type": "execute_result",
          "data": {
            "text/html": [
              "<div>\n",
              "<style scoped>\n",
              "    .dataframe tbody tr th:only-of-type {\n",
              "        vertical-align: middle;\n",
              "    }\n",
              "\n",
              "    .dataframe tbody tr th {\n",
              "        vertical-align: top;\n",
              "    }\n",
              "\n",
              "    .dataframe thead th {\n",
              "        text-align: right;\n",
              "    }\n",
              "</style>\n",
              "<table border=\"1\" class=\"dataframe\">\n",
              "  <thead>\n",
              "    <tr style=\"text-align: right;\">\n",
              "      <th></th>\n",
              "      <th>X1</th>\n",
              "      <th>X2</th>\n",
              "      <th>Y</th>\n",
              "    </tr>\n",
              "  </thead>\n",
              "  <tbody>\n",
              "    <tr>\n",
              "      <th>0</th>\n",
              "      <td>2.170478</td>\n",
              "      <td>3.641875</td>\n",
              "      <td>0</td>\n",
              "    </tr>\n",
              "    <tr>\n",
              "      <th>1</th>\n",
              "      <td>1.894391</td>\n",
              "      <td>3.182347</td>\n",
              "      <td>0</td>\n",
              "    </tr>\n",
              "    <tr>\n",
              "      <th>2</th>\n",
              "      <td>3.357907</td>\n",
              "      <td>4.041632</td>\n",
              "      <td>0</td>\n",
              "    </tr>\n",
              "    <tr>\n",
              "      <th>3</th>\n",
              "      <td>1.717410</td>\n",
              "      <td>2.913355</td>\n",
              "      <td>0</td>\n",
              "    </tr>\n",
              "    <tr>\n",
              "      <th>4</th>\n",
              "      <td>3.456637</td>\n",
              "      <td>2.046514</td>\n",
              "      <td>0</td>\n",
              "    </tr>\n",
              "    <tr>\n",
              "      <th>5</th>\n",
              "      <td>4.619519</td>\n",
              "      <td>3.848021</td>\n",
              "      <td>0</td>\n",
              "    </tr>\n",
              "    <tr>\n",
              "      <th>6</th>\n",
              "      <td>1.129380</td>\n",
              "      <td>0.403607</td>\n",
              "      <td>0</td>\n",
              "    </tr>\n",
              "    <tr>\n",
              "      <th>7</th>\n",
              "      <td>4.281726</td>\n",
              "      <td>0.761292</td>\n",
              "      <td>0</td>\n",
              "    </tr>\n",
              "    <tr>\n",
              "      <th>8</th>\n",
              "      <td>2.137111</td>\n",
              "      <td>4.783988</td>\n",
              "      <td>0</td>\n",
              "    </tr>\n",
              "    <tr>\n",
              "      <th>9</th>\n",
              "      <td>4.628092</td>\n",
              "      <td>2.616303</td>\n",
              "      <td>0</td>\n",
              "    </tr>\n",
              "    <tr>\n",
              "      <th>10</th>\n",
              "      <td>7.688615</td>\n",
              "      <td>5.327136</td>\n",
              "      <td>1</td>\n",
              "    </tr>\n",
              "    <tr>\n",
              "      <th>11</th>\n",
              "      <td>3.773046</td>\n",
              "      <td>2.562148</td>\n",
              "      <td>1</td>\n",
              "    </tr>\n",
              "    <tr>\n",
              "      <th>12</th>\n",
              "      <td>8.796778</td>\n",
              "      <td>5.347534</td>\n",
              "      <td>1</td>\n",
              "    </tr>\n",
              "    <tr>\n",
              "      <th>13</th>\n",
              "      <td>3.364995</td>\n",
              "      <td>6.678965</td>\n",
              "      <td>1</td>\n",
              "    </tr>\n",
              "    <tr>\n",
              "      <th>14</th>\n",
              "      <td>6.261266</td>\n",
              "      <td>0.261382</td>\n",
              "      <td>1</td>\n",
              "    </tr>\n",
              "    <tr>\n",
              "      <th>15</th>\n",
              "      <td>6.285006</td>\n",
              "      <td>0.181217</td>\n",
              "      <td>1</td>\n",
              "    </tr>\n",
              "    <tr>\n",
              "      <th>16</th>\n",
              "      <td>7.584189</td>\n",
              "      <td>3.233659</td>\n",
              "      <td>1</td>\n",
              "    </tr>\n",
              "    <tr>\n",
              "      <th>17</th>\n",
              "      <td>1.299207</td>\n",
              "      <td>4.108164</td>\n",
              "      <td>1</td>\n",
              "    </tr>\n",
              "    <tr>\n",
              "      <th>18</th>\n",
              "      <td>3.780521</td>\n",
              "      <td>7.021517</td>\n",
              "      <td>1</td>\n",
              "    </tr>\n",
              "    <tr>\n",
              "      <th>19</th>\n",
              "      <td>0.796010</td>\n",
              "      <td>9.278782</td>\n",
              "      <td>1</td>\n",
              "    </tr>\n",
              "  </tbody>\n",
              "</table>\n",
              "</div>"
            ],
            "text/plain": [
              "          X1        X2  Y\n",
              "0   2.170478  3.641875  0\n",
              "1   1.894391  3.182347  0\n",
              "2   3.357907  4.041632  0\n",
              "3   1.717410  2.913355  0\n",
              "4   3.456637  2.046514  0\n",
              "5   4.619519  3.848021  0\n",
              "6   1.129380  0.403607  0\n",
              "7   4.281726  0.761292  0\n",
              "8   2.137111  4.783988  0\n",
              "9   4.628092  2.616303  0\n",
              "10  7.688615  5.327136  1\n",
              "11  3.773046  2.562148  1\n",
              "12  8.796778  5.347534  1\n",
              "13  3.364995  6.678965  1\n",
              "14  6.261266  0.261382  1\n",
              "15  6.285006  0.181217  1\n",
              "16  7.584189  3.233659  1\n",
              "17  1.299207  4.108164  1\n",
              "18  3.780521  7.021517  1\n",
              "19  0.796010  9.278782  1"
            ]
          },
          "metadata": {},
          "execution_count": 54
        }
      ]
    },
    {
      "cell_type": "markdown",
      "metadata": {
        "id": "fisRY4atswML"
      },
      "source": [
        "## Ploting Dataset Values"
      ]
    },
    {
      "cell_type": "code",
      "metadata": {
        "colab": {
          "base_uri": "https://localhost:8080/",
          "height": 283
        },
        "id": "hvP35o3MswXp",
        "outputId": "bca2d05e-7173-4926-b0de-bd8171c9f9fa"
      },
      "source": [
        "# Ploting Dataset Values\n",
        "\n",
        "plt.plot(dataset, label = 'Inline Label')\n",
        "plt.legend(['X1', 'X2', 'Y'])"
      ],
      "execution_count": null,
      "outputs": [
        {
          "output_type": "execute_result",
          "data": {
            "text/plain": [
              "<matplotlib.legend.Legend at 0x7f06f05816d0>"
            ]
          },
          "metadata": {},
          "execution_count": 55
        },
        {
          "output_type": "display_data",
          "data": {
            "image/png": "[encoded data removed]",
            "text/plain": [
              "<Figure size 432x288 with 1 Axes>"
            ]
          },
          "metadata": {
            "needs_background": "light"
          }
        }
      ]
    },
    {
      "cell_type": "markdown",
      "metadata": {
        "id": "GEJF8atstbW_"
      },
      "source": [
        "## Converting Target Variable to Vector of Number of Classes"
      ]
    },
    {
      "cell_type": "code",
      "metadata": {
        "colab": {
          "base_uri": "https://localhost:8080/"
        },
        "id": "6NpAPs6Qtwvd",
        "outputId": "caeb0257-781b-42a4-b569-c89649de62f9"
      },
      "source": [
        "# Converting Target Variable to Vector of Number of Classes\n",
        "\n",
        "Z = np.zeros((20, 2))\n",
        "for i in range(20):\n",
        "  Z[i, Y[i]] = 1\n",
        "\n",
        "Z.shape"
      ],
      "execution_count": null,
      "outputs": [
        {
          "output_type": "execute_result",
          "data": {
            "text/plain": [
              "(20, 2)"
            ]
          },
          "metadata": {},
          "execution_count": 56
        }
      ]
    },
    {
      "cell_type": "markdown",
      "metadata": {
        "id": "Q7yyMPSRuBTJ"
      },
      "source": [
        "## Initiating Random Weights and Bias"
      ]
    },
    {
      "cell_type": "code",
      "metadata": {
        "colab": {
          "base_uri": "https://localhost:8080/"
        },
        "id": "Ai4M_eAHuFca",
        "outputId": "137951a8-9b7f-4fcd-c137-53ee54bf2f40"
      },
      "source": [
        "# Initiating Random Weights and Bias\n",
        "\n",
        "# First Layer Weights and Bias\n",
        "Wi_1 = np.random.rand(3, 2)\n",
        "Bi_1 = np.random.rand(3)\n",
        "\n",
        "# Second Layer Weights and Bias\n",
        "Wi_2 = np.random.rand(3, 2)\n",
        "Bi_2 = np.random.rand(2)\n",
        "\n",
        "print('First Layer Weights: \\n', Wi_1)\n",
        "print('\\nFirst Layer Biases: \\n', Bi_1)\n",
        "\n",
        "print('\\nSecond Layer Weights: \\n', Wi_2)\n",
        "print('\\nSecond Layer Weights: \\n', Bi_2)\n",
        "\n",
        "print('\\nTranspose of Wi_1: \\n', Wi_1.T)"
      ],
      "execution_count": null,
      "outputs": [
        {
          "output_type": "stream",
          "name": "stdout",
          "text": [
            "First Layer Weights: \n",
            " [[0.73774141 0.03571064]\n",
            " [0.21668677 0.20852709]\n",
            " [0.79491937 0.19255506]]\n",
            "\n",
            "First Layer Biases: \n",
            " [0.86547172 0.27066248 0.0820989 ]\n",
            "\n",
            "Second Layer Weights: \n",
            " [[0.56887636 0.45505116]\n",
            " [0.72653998 0.12280716]\n",
            " [0.69617627 0.10041441]]\n",
            "\n",
            "Second Layer Weights: \n",
            " [0.87886576 0.35922355]\n",
            "\n",
            "Transpose of Wi_1: \n",
            " [[0.73774141 0.21668677 0.79491937]\n",
            " [0.03571064 0.20852709 0.19255506]]\n"
          ]
        }
      ]
    },
    {
      "cell_type": "markdown",
      "metadata": {
        "id": "yRth3Fxowh7X"
      },
      "source": [
        "## Defining the Forward Propagation Function"
      ]
    },
    {
      "cell_type": "code",
      "metadata": {
        "id": "O4_Ut0jLwqAm"
      },
      "source": [
        "# Defining the Forward Propagation Function\n",
        "\n",
        "def forward_prop(X, Wi_1, Bi_1, Wi_2, Bi_2):\n",
        "  # First Layer\n",
        "  M = 1 / (1 + np.exp(-(X.dot(Wi_1.T) + Bi_1)))\n",
        "\n",
        "  # Second Layer\n",
        "  A = M.dot(Wi_2) + Bi_2\n",
        "  expA = np.exp(A)\n",
        "  \n",
        "  Y = expA / expA.sum(axis=1, keepdims=True)\n",
        "\n",
        "  return Y, M"
      ],
      "execution_count": null,
      "outputs": []
    },
    {
      "cell_type": "code",
      "metadata": {
        "colab": {
          "base_uri": "https://localhost:8080/"
        },
        "id": "Gsh7YOAvxcLD",
        "outputId": "b362da27-e7e8-4d7b-c1c9-9477d49bcb3e"
      },
      "source": [
        "forward_prop(X, Wi_1, Bi_1, Wi_2, Bi_2)"
      ],
      "execution_count": null,
      "outputs": [
        {
          "output_type": "execute_result",
          "data": {
            "text/plain": [
              "(array([[0.84159426, 0.15840574],\n",
              "        [0.83741176, 0.16258824],\n",
              "        [0.84940589, 0.15059411],\n",
              "        [0.8343889 , 0.1656111 ],\n",
              "        [0.8444532 , 0.1555468 ],\n",
              "        [0.85291097, 0.14708903],\n",
              "        [0.8096922 , 0.1903078 ],\n",
              "        [0.84449753, 0.15550247],\n",
              "        [0.84513365, 0.15486635],\n",
              "        [0.85056511, 0.14943489],\n",
              "        [0.85875972, 0.14124028],\n",
              "        [0.84742568, 0.15257432],\n",
              "        [0.85949216, 0.14050784],\n",
              "        [0.85434138, 0.14565862],\n",
              "        [0.84995249, 0.15004751],\n",
              "        [0.84983656, 0.15016344],\n",
              "        [0.856915  , 0.143085  ],\n",
              "        [0.83525531, 0.16474469],\n",
              "        [0.85572181, 0.14427819],\n",
              "        [0.84815841, 0.15184159]]),\n",
              " array([[0.93065387, 0.81763501, 0.92475055],\n",
              "        [0.91503215, 0.79327123, 0.90031812],\n",
              "        [0.97031757, 0.86307478, 0.97151838],\n",
              "        [0.90348088, 0.77735453, 0.88166394],\n",
              "        [0.97036333, 0.80944739, 0.96172431],\n",
              "        [0.98800144, 0.88835704, 0.98896078],\n",
              "        [0.84723471, 0.64555269, 0.74222808],\n",
              "        [0.98290059, 0.79530519, 0.97422698],\n",
              "        [0.93169015, 0.84958339, 0.93715109],\n",
              "        [0.98754668, 0.86045555, 0.98614068],\n",
              "        [0.99880441, 0.95467601, 0.99926851],\n",
              "        [0.97680839, 0.83514084, 0.97274065],\n",
              "        [0.99947216, 0.96415036, 0.99969792],\n",
              "        [0.97305069, 0.91625803, 0.9827589 ],\n",
              "        [0.99590547, 0.84315613, 0.99399793],\n",
              "        [0.99596478, 0.84161966, 0.99401839],\n",
              "        [0.99860869, 0.93010878, 0.99881115],\n",
              "        [0.87768153, 0.80358402, 0.87055915],\n",
              "        [0.98026175, 0.92784364, 0.98833394],\n",
              "        [0.85619896, 0.91513614, 0.92424962]]))"
            ]
          },
          "metadata": {},
          "execution_count": 59
        }
      ]
    },
    {
      "cell_type": "markdown",
      "metadata": {
        "id": "xo6aT1t_xuIh"
      },
      "source": [
        "## Backpropagation by Differentiating or Gradient Descent"
      ]
    },
    {
      "cell_type": "code",
      "metadata": {
        "id": "Ad8oPbIGyMEz"
      },
      "source": [
        "# Returns Gradient for Weight_2\n",
        "def diff_Wi_2(H, Z, Y):\n",
        "  return H.T.dot(Z - Y)\n",
        "\n",
        "# Returns Gradient for Weight_1\n",
        "def diff_Wi_1(X, H, Z, output, Wi_2):\n",
        "  dZ = (Z - output).dot(Wi_2.T) * H * (1 - H)\n",
        "  \n",
        "  return X.T.dot(dZ)"
      ],
      "execution_count": null,
      "outputs": []
    },
    {
      "cell_type": "code",
      "metadata": {
        "id": "LjdaZbF8ybsv"
      },
      "source": [
        "# Returns Derivative for B2\n",
        "def diff_B2(Z, Y):\n",
        "  return (Z - Y).sum(axis=0)\n",
        "\n",
        "# Returns Gradient for B1\n",
        "def diff_B1(Z, Y, Wi_2, H):\n",
        "  return ((Z - Y).dot(Wi_2.T) * H * (1 - H)).sum(axis=0)"
      ],
      "execution_count": null,
      "outputs": []
    },
    {
      "cell_type": "code",
      "metadata": {
        "id": "9F8dzcY90I6i"
      },
      "source": [
        "learning_rate = 1e-3\n",
        "\n",
        "for epoch in range(5000):\n",
        "  output, hidden = forward_prop(X, Wi_1, Bi_1, Wi_2, Bi_2)\n",
        "  Wi_2 += learning_rate * diff_Wi_2(hidden, Z, output)\n",
        "  Bi_2 += learning_rate * diff_B2(Z, output)\n",
        "  Wi_1 += learning_rate * diff_Wi_1(X, hidden, Z, output, Wi_2).T\n",
        "  Bi_1 += learning_rate * diff_B1(Z, output, Wi_2, hidden)"
      ],
      "execution_count": null,
      "outputs": []
    },
    {
      "cell_type": "markdown",
      "metadata": {
        "id": "WVQ4jBN611Eq"
      },
      "source": [
        "## Generating Prediction at New Datapoint"
      ]
    },
    {
      "cell_type": "code",
      "metadata": {
        "colab": {
          "base_uri": "https://localhost:8080/"
        },
        "id": "z2GzdZNj16sZ",
        "outputId": "2b6772a2-c15c-44ab-c495-42809341541d"
      },
      "source": [
        "X_test = np.array([10, 10])\n",
        "\n",
        "hidden_output = 1 / (1 + np.exp(-X_test.dot(Wi_1.T) - Bi_1))\n",
        "Outer_layer_output = hidden_output.dot(Wi_2) + Bi_2\n",
        "expA = np.exp(Outer_layer_output)\n",
        "Y = expA / expA.sum()\n",
        "\n",
        "print('Prob of Class 0 >>> {} \\n Prob of Class 1 >>> {}'.format(Y[0], Y[1]))"
      ],
      "execution_count": null,
      "outputs": [
        {
          "output_type": "stream",
          "name": "stdout",
          "text": [
            "Prob of Class 0 >>> 0.2310131845954743 \n",
            " Prob of Class 1 >>> 0.7689868154045258\n"
          ]
        }
      ]
    }
  ]
}